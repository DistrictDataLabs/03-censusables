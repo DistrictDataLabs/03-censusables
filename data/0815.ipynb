{
 "cells": [
  {
   "cell_type": "code",
   "execution_count": 1,
   "metadata": {
    "collapsed": false
   },
   "outputs": [
    {
     "name": "stdout",
     "output_type": "stream",
     "text": [
      "Populating the interactive namespace from numpy and matplotlib\n"
     ]
    }
   ],
   "source": [
    "%pylab inline\n",
    "import pandas, json\n",
    "reviews = pandas.DataFrame(json.loads(l) for l in open('yelp/review.json'))"
   ]
  },
  {
   "cell_type": "code",
   "execution_count": 18,
   "metadata": {
    "collapsed": false
   },
   "outputs": [],
   "source": [
    "reviews['useful'] = reviews['votes'].apply(lambda v: v['useful'])"
   ]
  },
  {
   "cell_type": "code",
   "execution_count": 3,
   "metadata": {
    "collapsed": true
   },
   "outputs": [],
   "source": [
    "ytract = pandas.DataFrame(json.loads(l) for l in open('business_track.json'))\n",
    "business = pandas.DataFrame(json.loads(l) for l in open('yelp/business.json'))"
   ]
  },
  {
   "cell_type": "code",
   "execution_count": 6,
   "metadata": {
    "collapsed": false
   },
   "outputs": [],
   "source": [
    "cats = []\n",
    "for d in (json.loads(l) for l in open('yelp/business.json')):\n",
    "    for c in d['categories']:\n",
    "        cats.append(dict(business_id = d['business_id'], category=c))\n",
    "cats = pandas.DataFrame(cats)"
   ]
  },
  {
   "cell_type": "code",
   "execution_count": 14,
   "metadata": {
    "collapsed": false
   },
   "outputs": [],
   "source": [
    "cats = cats.merge(ytract)\n",
    "\n",
    "counts_by_geocat.to_csv('counts_by_geocat.csv')"
   ]
  },
  {
   "cell_type": "code",
   "execution_count": 23,
   "metadata": {
    "collapsed": false
   },
   "outputs": [],
   "source": [
    "review_cats = reviews[['business_id', 'stars', 'useful']].merge(cats)"
   ]
  },
  {
   "cell_type": "code",
   "execution_count": 28,
   "metadata": {
    "collapsed": false
   },
   "outputs": [],
   "source": [
    "review_cats['wstars'] = review_cats.stars * (review_cats.useful + 1)\n",
    "\n"
   ]
  },
  {
   "cell_type": "code",
   "execution_count": 29,
   "metadata": {
    "collapsed": true
   },
   "outputs": [],
   "source": [
    "\n"
   ]
  },
  {
   "cell_type": "code",
   "execution_count": 103,
   "metadata": {
    "collapsed": false
   },
   "outputs": [],
   "source": [
    "stars_by_geocat = review_cats[['stars']].groupby([review_cats.category, review_cats.GISJOIN]).mean()\n",
    "stars_by_geocat = stars_by_geocat.unstack(level=0).dropna(how='all').dropna(axis=1, thresh=99)\n",
    "stars_by_geocat.columns = stars_by_geocat.columns.get_level_values(1)\n",
    "stars_by_geocat.reset_index(inplace=True)\n",
    "stars_by_geocat.to_csv('stars_by_geocat.csv')\n",
    "\n",
    "wstars_by_geocat = review_cats[['wstars']].groupby([review_cats.category, review_cats.GISJOIN]).mean()\n",
    "wstars_by_geocat = wstars_by_geocat.unstack(level=0).dropna(how='all').dropna(axis=1, thresh=99)\n",
    "wstars_by_geocat.columns = wstars_by_geocat.columns.get_level_values(1)\n",
    "wstars_by_geocat.reset_index(inplace=True)\n",
    "wstars_by_geocat.to_csv('wstars_by_geocat.csv')\n",
    "\n",
    "counts_by_geocat = cats[['business_id']].groupby([cats.category, cats.GISJOIN]).count()\n",
    "counts_by_geocat.columns = ['business_count']\n",
    "counts_by_geocat = counts_by_geocat.unstack(level=0).dropna(how='all').dropna(axis=1, thresh=99)\n",
    "counts_by_geocat.columns = counts_by_geocat.columns.get_level_values(1)\n",
    "counts_by_geocat.reset_index(inplace=True)\n",
    "counts_by_geocat.to_csv('counts_by_geocat.csv')"
   ]
  },
  {
   "cell_type": "code",
   "execution_count": 68,
   "metadata": {
    "collapsed": false
   },
   "outputs": [],
   "source": [
    "data = pandas.read_csv('zip/rus2/nhgis0002_ds201_20135_2013_tract.csv', skiprows=[1])"
   ]
  },
  {
   "cell_type": "code",
   "execution_count": 75,
   "metadata": {
    "collapsed": false
   },
   "outputs": [],
   "source": [
    "data['pc_income'] = data['UJAE001']\n",
    "data['employed_percent'] = data['UJ8E002'] / data['UJ8E001']\n",
    "data['median_age'] = data['UEFE001']\n",
    "data['median_gross_rent'] = data['UL9E001']\n",
    "data['median_family_income'] = data['UINE001']\n",
    "econ = data[['GISJOIN', 'pc_income', 'employed_percent', 'median_age', 'median_gross_rent', 'median_family_income']]"
   ]
  },
  {
   "cell_type": "code",
   "execution_count": 125,
   "metadata": {
    "collapsed": false
   },
   "outputs": [
    {
     "data": {
      "text/html": [
       "<div>\n",
       "<table border=\"1\" class=\"dataframe\">\n",
       "  <thead>\n",
       "    <tr style=\"text-align: right;\">\n",
       "      <th></th>\n",
       "      <th>econ</th>\n",
       "      <th>cat</th>\n",
       "      <th>r</th>\n",
       "    </tr>\n",
       "  </thead>\n",
       "  <tbody>\n",
       "    <tr>\n",
       "      <th>98</th>\n",
       "      <td>pc_income</td>\n",
       "      <td>Hotels</td>\n",
       "      <td>0.303225</td>\n",
       "    </tr>\n",
       "    <tr>\n",
       "      <th>223</th>\n",
       "      <td>employed_percent</td>\n",
       "      <td>Car Rental</td>\n",
       "      <td>-0.308624</td>\n",
       "    </tr>\n",
       "  </tbody>\n",
       "</table>\n",
       "</div>"
      ],
      "text/plain": [
       "                 econ         cat         r\n",
       "98          pc_income      Hotels  0.303225\n",
       "223  employed_percent  Car Rental -0.308624"
      ]
     },
     "execution_count": 125,
     "metadata": {},
     "output_type": "execute_result"
    }
   ],
   "source": [
    "wcorrs = econ.merge(wstars_by_geocat).corr().unstack().reset_index()\n",
    "wcorrs.columns = ['econ', 'cat', 'r']\n",
    "wcorrs = wcorrs[wcorrs.econ.apply(lambda e: e.islower())]\n",
    "wcorrs = wcorrs[wcorrs.cat.apply(lambda e: not e.islower())]\n",
    "wcorrs[wcorrs.r.apply(lambda v: abs(v) > .3)]"
   ]
  },
  {
   "cell_type": "code",
   "execution_count": 126,
   "metadata": {
    "collapsed": false
   },
   "outputs": [
    {
     "data": {
      "text/html": [
       "<div>\n",
       "<table border=\"1\" class=\"dataframe\">\n",
       "  <thead>\n",
       "    <tr style=\"text-align: right;\">\n",
       "      <th></th>\n",
       "      <th>econ</th>\n",
       "      <th>cat</th>\n",
       "      <th>r</th>\n",
       "    </tr>\n",
       "  </thead>\n",
       "  <tbody>\n",
       "    <tr>\n",
       "      <th>842</th>\n",
       "      <td>median_family_income</td>\n",
       "      <td>Hotels</td>\n",
       "      <td>0.329872</td>\n",
       "    </tr>\n",
       "  </tbody>\n",
       "</table>\n",
       "</div>"
      ],
      "text/plain": [
       "                     econ     cat         r\n",
       "842  median_family_income  Hotels  0.329872"
      ]
     },
     "execution_count": 126,
     "metadata": {},
     "output_type": "execute_result"
    }
   ],
   "source": [
    "scorrs = econ.merge(stars_by_geocat).corr().unstack().reset_index()\n",
    "scorrs.columns = ['econ', 'cat', 'r']\n",
    "scorrs = scorrs[scorrs.econ.apply(lambda e: e.islower())]\n",
    "scorrs = scorrs[scorrs.cat.apply(lambda e: not e.islower())]\n",
    "scorrs[scorrs.r.apply(lambda v: abs(v) > .3)]"
   ]
  },
  {
   "cell_type": "code",
   "execution_count": 127,
   "metadata": {
    "collapsed": false
   },
   "outputs": [
    {
     "data": {
      "text/html": [
       "<div>\n",
       "<table border=\"1\" class=\"dataframe\">\n",
       "  <thead>\n",
       "    <tr style=\"text-align: right;\">\n",
       "      <th></th>\n",
       "      <th>econ</th>\n",
       "      <th>cat</th>\n",
       "      <th>r</th>\n",
       "    </tr>\n",
       "  </thead>\n",
       "  <tbody>\n",
       "    <tr>\n",
       "      <th>5</th>\n",
       "      <td>pc_income</td>\n",
       "      <td>Accessories</td>\n",
       "      <td>0.314696</td>\n",
       "    </tr>\n",
       "    <tr>\n",
       "      <th>14</th>\n",
       "      <td>pc_income</td>\n",
       "      <td>Asian Fusion</td>\n",
       "      <td>0.318272</td>\n",
       "    </tr>\n",
       "    <tr>\n",
       "      <th>21</th>\n",
       "      <td>pc_income</td>\n",
       "      <td>Bakeries</td>\n",
       "      <td>0.333604</td>\n",
       "    </tr>\n",
       "    <tr>\n",
       "      <th>27</th>\n",
       "      <td>pc_income</td>\n",
       "      <td>Beer, Wine &amp; Spirits</td>\n",
       "      <td>0.373052</td>\n",
       "    </tr>\n",
       "    <tr>\n",
       "      <th>33</th>\n",
       "      <td>pc_income</td>\n",
       "      <td>Buffets</td>\n",
       "      <td>0.357909</td>\n",
       "    </tr>\n",
       "    <tr>\n",
       "      <th>55</th>\n",
       "      <td>pc_income</td>\n",
       "      <td>Desserts</td>\n",
       "      <td>0.384839</td>\n",
       "    </tr>\n",
       "    <tr>\n",
       "      <th>56</th>\n",
       "      <td>pc_income</td>\n",
       "      <td>Diners</td>\n",
       "      <td>0.311126</td>\n",
       "    </tr>\n",
       "    <tr>\n",
       "      <th>92</th>\n",
       "      <td>pc_income</td>\n",
       "      <td>Hobby Shops</td>\n",
       "      <td>0.334230</td>\n",
       "    </tr>\n",
       "    <tr>\n",
       "      <th>97</th>\n",
       "      <td>pc_income</td>\n",
       "      <td>Hot Dogs</td>\n",
       "      <td>0.404527</td>\n",
       "    </tr>\n",
       "    <tr>\n",
       "      <th>106</th>\n",
       "      <td>pc_income</td>\n",
       "      <td>Jewelry</td>\n",
       "      <td>0.407347</td>\n",
       "    </tr>\n",
       "    <tr>\n",
       "      <th>107</th>\n",
       "      <td>pc_income</td>\n",
       "      <td>Juice Bars &amp; Smoothies</td>\n",
       "      <td>0.455978</td>\n",
       "    </tr>\n",
       "    <tr>\n",
       "      <th>111</th>\n",
       "      <td>pc_income</td>\n",
       "      <td>Lounges</td>\n",
       "      <td>0.319784</td>\n",
       "    </tr>\n",
       "    <tr>\n",
       "      <th>112</th>\n",
       "      <td>pc_income</td>\n",
       "      <td>Makeup Artists</td>\n",
       "      <td>0.310506</td>\n",
       "    </tr>\n",
       "    <tr>\n",
       "      <th>117</th>\n",
       "      <td>pc_income</td>\n",
       "      <td>Men's Clothing</td>\n",
       "      <td>0.300882</td>\n",
       "    </tr>\n",
       "    <tr>\n",
       "      <th>122</th>\n",
       "      <td>pc_income</td>\n",
       "      <td>Music Venues</td>\n",
       "      <td>0.367818</td>\n",
       "    </tr>\n",
       "    <tr>\n",
       "      <th>131</th>\n",
       "      <td>pc_income</td>\n",
       "      <td>Performing Arts</td>\n",
       "      <td>0.475071</td>\n",
       "    </tr>\n",
       "    <tr>\n",
       "      <th>151</th>\n",
       "      <td>pc_income</td>\n",
       "      <td>Seafood</td>\n",
       "      <td>0.432931</td>\n",
       "    </tr>\n",
       "    <tr>\n",
       "      <th>158</th>\n",
       "      <td>pc_income</td>\n",
       "      <td>Southern</td>\n",
       "      <td>0.309043</td>\n",
       "    </tr>\n",
       "    <tr>\n",
       "      <th>159</th>\n",
       "      <td>pc_income</td>\n",
       "      <td>Specialty Food</td>\n",
       "      <td>0.350504</td>\n",
       "    </tr>\n",
       "    <tr>\n",
       "      <th>164</th>\n",
       "      <td>pc_income</td>\n",
       "      <td>Steakhouses</td>\n",
       "      <td>0.358120</td>\n",
       "    </tr>\n",
       "    <tr>\n",
       "      <th>183</th>\n",
       "      <td>pc_income</td>\n",
       "      <td>Wine Bars</td>\n",
       "      <td>0.303785</td>\n",
       "    </tr>\n",
       "    <tr>\n",
       "      <th>280</th>\n",
       "      <td>employed_percent</td>\n",
       "      <td>Home Cleaning</td>\n",
       "      <td>-0.351100</td>\n",
       "    </tr>\n",
       "    <tr>\n",
       "      <th>358</th>\n",
       "      <td>employed_percent</td>\n",
       "      <td>Tobacco Shops</td>\n",
       "      <td>-0.340963</td>\n",
       "    </tr>\n",
       "    <tr>\n",
       "      <th>594</th>\n",
       "      <td>median_gross_rent</td>\n",
       "      <td>Car Dealers</td>\n",
       "      <td>0.357736</td>\n",
       "    </tr>\n",
       "    <tr>\n",
       "      <th>824</th>\n",
       "      <td>median_family_income</td>\n",
       "      <td>Gluten-Free</td>\n",
       "      <td>0.314820</td>\n",
       "    </tr>\n",
       "  </tbody>\n",
       "</table>\n",
       "</div>"
      ],
      "text/plain": [
       "                     econ                     cat         r\n",
       "5               pc_income             Accessories  0.314696\n",
       "14              pc_income            Asian Fusion  0.318272\n",
       "21              pc_income                Bakeries  0.333604\n",
       "27              pc_income    Beer, Wine & Spirits  0.373052\n",
       "33              pc_income                 Buffets  0.357909\n",
       "55              pc_income                Desserts  0.384839\n",
       "56              pc_income                  Diners  0.311126\n",
       "92              pc_income             Hobby Shops  0.334230\n",
       "97              pc_income                Hot Dogs  0.404527\n",
       "106             pc_income                 Jewelry  0.407347\n",
       "107             pc_income  Juice Bars & Smoothies  0.455978\n",
       "111             pc_income                 Lounges  0.319784\n",
       "112             pc_income          Makeup Artists  0.310506\n",
       "117             pc_income          Men's Clothing  0.300882\n",
       "122             pc_income            Music Venues  0.367818\n",
       "131             pc_income         Performing Arts  0.475071\n",
       "151             pc_income                 Seafood  0.432931\n",
       "158             pc_income                Southern  0.309043\n",
       "159             pc_income          Specialty Food  0.350504\n",
       "164             pc_income             Steakhouses  0.358120\n",
       "183             pc_income               Wine Bars  0.303785\n",
       "280      employed_percent           Home Cleaning -0.351100\n",
       "358      employed_percent           Tobacco Shops -0.340963\n",
       "594     median_gross_rent             Car Dealers  0.357736\n",
       "824  median_family_income             Gluten-Free  0.314820"
      ]
     },
     "execution_count": 127,
     "metadata": {},
     "output_type": "execute_result"
    }
   ],
   "source": [
    "ccorrs = econ.merge(counts_by_geocat).corr().unstack().reset_index()\n",
    "ccorrs.columns = ['econ', 'cat', 'r']\n",
    "ccorrs = ccorrs[ccorrs.econ.apply(lambda e: e.islower())]\n",
    "ccorrs = ccorrs[ccorrs.cat.apply(lambda e: not e.islower())]\n",
    "ccorrs[ccorrs.r.apply(lambda v: abs(v) > .3)]"
   ]
  },
  {
   "cell_type": "code",
   "execution_count": null,
   "metadata": {
    "collapsed": true
   },
   "outputs": [],
   "source": []
  }
 ],
 "metadata": {
  "kernelspec": {
   "display_name": "Python 2",
   "language": "python",
   "name": "python2"
  },
  "language_info": {
   "codemirror_mode": {
    "name": "ipython",
    "version": 2
   },
   "file_extension": ".py",
   "mimetype": "text/x-python",
   "name": "python",
   "nbconvert_exporter": "python",
   "pygments_lexer": "ipython2",
   "version": "2.7.10"
  }
 },
 "nbformat": 4,
 "nbformat_minor": 0
}
