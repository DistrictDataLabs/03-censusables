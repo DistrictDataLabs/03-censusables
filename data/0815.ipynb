{
 "cells": [
  {
   "cell_type": "code",
   "execution_count": 1,
   "metadata": {
    "collapsed": false
   },
   "outputs": [
    {
     "name": "stdout",
     "output_type": "stream",
     "text": [
      "Populating the interactive namespace from numpy and matplotlib\n"
     ]
    }
   ],
   "source": [
    "%pylab inline\n",
    "import pandas, json\n",
    "reviews = pandas.DataFrame(json.loads(l) for l in open('yelp/review.json'))"
   ]
  },
  {
   "cell_type": "code",
   "execution_count": 2,
   "metadata": {
    "collapsed": false
   },
   "outputs": [],
   "source": [
    "reviews['useful'] = reviews['votes'].apply(lambda v: v['useful'])"
   ]
  },
  {
   "cell_type": "code",
   "execution_count": 3,
   "metadata": {
    "collapsed": false
   },
   "outputs": [
    {
     "ename": "IOError",
     "evalue": "[Errno 2] No such file or directory: 'business_track.json'",
     "output_type": "error",
     "traceback": [
      "\u001b[0;31m---------------------------------------------------------------------------\u001b[0m",
      "\u001b[0;31mIOError\u001b[0m                                   Traceback (most recent call last)",
      "\u001b[0;32m<ipython-input-3-42e546d2feb8>\u001b[0m in \u001b[0;36m<module>\u001b[0;34m()\u001b[0m\n\u001b[0;32m----> 1\u001b[0;31m \u001b[0mytract\u001b[0m \u001b[0;34m=\u001b[0m \u001b[0mpandas\u001b[0m\u001b[0;34m.\u001b[0m\u001b[0mDataFrame\u001b[0m\u001b[0;34m(\u001b[0m\u001b[0mjson\u001b[0m\u001b[0;34m.\u001b[0m\u001b[0mloads\u001b[0m\u001b[0;34m(\u001b[0m\u001b[0ml\u001b[0m\u001b[0;34m)\u001b[0m \u001b[0;32mfor\u001b[0m \u001b[0ml\u001b[0m \u001b[0;32min\u001b[0m \u001b[0mopen\u001b[0m\u001b[0;34m(\u001b[0m\u001b[0;34m'business_track.json'\u001b[0m\u001b[0;34m)\u001b[0m\u001b[0;34m)\u001b[0m\u001b[0;34m\u001b[0m\u001b[0m\n\u001b[0m\u001b[1;32m      2\u001b[0m \u001b[0mbusiness\u001b[0m \u001b[0;34m=\u001b[0m \u001b[0mpandas\u001b[0m\u001b[0;34m.\u001b[0m\u001b[0mDataFrame\u001b[0m\u001b[0;34m(\u001b[0m\u001b[0mjson\u001b[0m\u001b[0;34m.\u001b[0m\u001b[0mloads\u001b[0m\u001b[0;34m(\u001b[0m\u001b[0ml\u001b[0m\u001b[0;34m)\u001b[0m \u001b[0;32mfor\u001b[0m \u001b[0ml\u001b[0m \u001b[0;32min\u001b[0m \u001b[0mopen\u001b[0m\u001b[0;34m(\u001b[0m\u001b[0;34m'yelp/business.json'\u001b[0m\u001b[0;34m)\u001b[0m\u001b[0;34m)\u001b[0m\u001b[0;34m\u001b[0m\u001b[0m\n",
      "\u001b[0;31mIOError\u001b[0m: [Errno 2] No such file or directory: 'business_track.json'"
     ]
    }
   ],
   "source": [
    "ytract = pandas.DataFrame(json.loads(l) for l in open('business_track.json'))\n",
    "business = pandas.DataFrame(json.loads(l) for l in open('yelp/business.json'))"
   ]
  },
  {
   "cell_type": "code",
   "execution_count": null,
   "metadata": {
    "collapsed": false
   },
   "outputs": [],
   "source": [
    "cats = []\n",
    "for d in (json.loads(l) for l in open('yelp/business.json')):\n",
    "    for c in d['categories']:\n",
    "        cats.append(dict(business_id = d['business_id'], category=c))\n",
    "cats = pandas.DataFrame(cats)"
   ]
  },
  {
   "cell_type": "code",
   "execution_count": null,
   "metadata": {
    "collapsed": false
   },
   "outputs": [],
   "source": [
    "cats = cats.merge(ytract)\n",
    "\n",
    "counts_by_geocat.to_csv('counts_by_geocat.csv')"
   ]
  },
  {
   "cell_type": "code",
   "execution_count": null,
   "metadata": {
    "collapsed": false
   },
   "outputs": [],
   "source": [
    "review_cats = reviews[['business_id', 'stars', 'useful']].merge(cats)"
   ]
  },
  {
   "cell_type": "code",
   "execution_count": null,
   "metadata": {
    "collapsed": false
   },
   "outputs": [],
   "source": [
    "review_cats['wstars'] = review_cats.stars * (review_cats.useful + 1)\n",
    "\n"
   ]
  },
  {
   "cell_type": "code",
   "execution_count": null,
   "metadata": {
    "collapsed": true
   },
   "outputs": [],
   "source": [
    "\n"
   ]
  },
  {
   "cell_type": "code",
   "execution_count": null,
   "metadata": {
    "collapsed": false
   },
   "outputs": [],
   "source": [
    "stars_by_geocat = review_cats[['stars']].groupby([review_cats.category, review_cats.GISJOIN]).mean()\n",
    "stars_by_geocat = stars_by_geocat.unstack(level=0).dropna(how='all').dropna(axis=1, thresh=99)\n",
    "stars_by_geocat.columns = stars_by_geocat.columns.get_level_values(1)\n",
    "stars_by_geocat.reset_index(inplace=True)\n",
    "stars_by_geocat.to_csv('stars_by_geocat.csv')\n",
    "\n",
    "wstars_by_geocat = review_cats[['wstars']].groupby([review_cats.category, review_cats.GISJOIN]).mean()\n",
    "wstars_by_geocat = wstars_by_geocat.unstack(level=0).dropna(how='all').dropna(axis=1, thresh=99)\n",
    "wstars_by_geocat.columns = wstars_by_geocat.columns.get_level_values(1)\n",
    "wstars_by_geocat.reset_index(inplace=True)\n",
    "wstars_by_geocat.to_csv('wstars_by_geocat.csv')\n",
    "\n",
    "counts_by_geocat = cats[['business_id']].groupby([cats.category, cats.GISJOIN]).count()\n",
    "counts_by_geocat.columns = ['business_count']\n",
    "counts_by_geocat = counts_by_geocat.unstack(level=0).dropna(how='all').dropna(axis=1, thresh=99)\n",
    "counts_by_geocat.columns = counts_by_geocat.columns.get_level_values(1)\n",
    "counts_by_geocat.reset_index(inplace=True)\n",
    "counts_by_geocat.to_csv('counts_by_geocat.csv')"
   ]
  },
  {
   "cell_type": "code",
   "execution_count": null,
   "metadata": {
    "collapsed": false
   },
   "outputs": [],
   "source": [
    "data = pandas.read_csv('zip/rus2/nhgis0002_ds201_20135_2013_tract.csv', skiprows=[1])"
   ]
  },
  {
   "cell_type": "code",
   "execution_count": null,
   "metadata": {
    "collapsed": false
   },
   "outputs": [],
   "source": [
    "data['pc_income'] = data['UJAE001']\n",
    "data['employed_percent'] = data['UJ8E002'] / data['UJ8E001']\n",
    "data['median_age'] = data['UEFE001']\n",
    "data['median_gross_rent'] = data['UL9E001']\n",
    "data['median_family_income'] = data['UINE001']\n",
    "econ = data[['GISJOIN', 'pc_income', 'employed_percent', 'median_age', 'median_gross_rent', 'median_family_income']]"
   ]
  },
  {
   "cell_type": "code",
   "execution_count": null,
   "metadata": {
    "collapsed": false
   },
   "outputs": [],
   "source": [
    "wcorrs = econ.merge(wstars_by_geocat).corr().unstack().reset_index()\n",
    "wcorrs.columns = ['econ', 'cat', 'r']\n",
    "wcorrs = wcorrs[wcorrs.econ.apply(lambda e: e.islower())]\n",
    "wcorrs = wcorrs[wcorrs.cat.apply(lambda e: not e.islower())]\n",
    "wcorrs[wcorrs.r.apply(lambda v: abs(v) > .3)]"
   ]
  },
  {
   "cell_type": "code",
   "execution_count": null,
   "metadata": {
    "collapsed": false
   },
   "outputs": [],
   "source": [
    "scorrs = econ.merge(stars_by_geocat).corr().unstack().reset_index()\n",
    "scorrs.columns = ['econ', 'cat', 'r']\n",
    "scorrs = scorrs[scorrs.econ.apply(lambda e: e.islower())]\n",
    "scorrs = scorrs[scorrs.cat.apply(lambda e: not e.islower())]\n",
    "scorrs[scorrs.r.apply(lambda v: abs(v) > .3)]"
   ]
  },
  {
   "cell_type": "code",
   "execution_count": null,
   "metadata": {
    "collapsed": false
   },
   "outputs": [],
   "source": [
    "ccorrs = econ.merge(counts_by_geocat).corr().unstack().reset_index()\n",
    "ccorrs.columns = ['econ', 'cat', 'r']\n",
    "ccorrs = ccorrs[ccorrs.econ.apply(lambda e: e.islower())]\n",
    "ccorrs = ccorrs[ccorrs.cat.apply(lambda e: not e.islower())]\n",
    "ccorrs[ccorrs.r.apply(lambda v: abs(v) > .3)]"
   ]
  },
  {
   "cell_type": "code",
   "execution_count": null,
   "metadata": {
    "collapsed": true
   },
   "outputs": [],
   "source": []
  }
 ],
 "metadata": {
  "kernelspec": {
   "display_name": "Python 2",
   "language": "python",
   "name": "python2"
  },
  "language_info": {
   "codemirror_mode": {
    "name": "ipython",
    "version": 2
   },
   "file_extension": ".py",
   "mimetype": "text/x-python",
   "name": "python",
   "nbconvert_exporter": "python",
   "pygments_lexer": "ipython2",
   "version": "2.7.10"
  }
 },
 "nbformat": 4,
 "nbformat_minor": 0
}
