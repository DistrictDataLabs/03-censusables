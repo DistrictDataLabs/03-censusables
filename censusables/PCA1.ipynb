{
 "cells": [
  {
   "cell_type": "code",
   "execution_count": 2,
   "metadata": {
    "collapsed": true
   },
   "outputs": [],
   "source": [
    "%matplotlib inline\n",
    "import pandas as pd\n",
    "import json"
   ]
  },
  {
   "cell_type": "code",
   "execution_count": 5,
   "metadata": {
    "collapsed": true
   },
   "outputs": [],
   "source": [
    "#File locations\n",
    "acs_file = \"/home/russ/Documents/DDL/Data/JeffData/PCA/Jeff_data_acs5yr.csv\"\n",
    "zillow_HVI_file = \"/home/russ/Documents/DDL/Data/JeffData/PCA/Zip_Zhvi_AllHomes_HomeValueIndex.csv\"\n",
    "zillow_RI_file = \"/home/russ/Documents/DDL/Data/JeffData/PCA/Zip_Zri_AllHomes_RentIndex.csv\"\n",
    "FDIC_deposits_100K_file = \"/home/russ/Documents/DDL/Data/JeffData/PCA/FDIC_All_Reports_20150630/All_Reports_20150630_Deposits Based on the $100,000 Reporting Threshold.csv\"\n",
    "FDIC_deposits_250K_file = \"/home/russ/Documents/DDL/Data/JeffData/PCA/FDIC_All_Reports_20150630/All_Reports_20150630_Deposits Based on the $250,000 Reporting Threshold.csv\"\n",
    "library_file = \"/home/russ/Documents/DDL/Data/JeffData/PCA/Public_Libraries_Survey_FY_2013_-_Outlet.csv\"\n",
    "complaints_file = \"/home/russ/Documents/DDL/Data/JeffData/PCA/Consumer_Complaints.csv\"\n",
    "urbanization_zip = \"/home/russ/Documents/DDL/Data/JeffData/PCA/zcta2010_txt.csv\""
   ]
  },
  {
   "cell_type": "code",
   "execution_count": 6,
   "metadata": {
    "collapsed": false
   },
   "outputs": [],
   "source": [
    "acs = pd.read_csv(acs_file)"
   ]
  },
  {
   "cell_type": "code",
   "execution_count": 7,
   "metadata": {
    "collapsed": false,
    "scrolled": false
   },
   "outputs": [
    {
     "data": {
      "text/html": [
       "<div>\n",
       "<table border=\"1\" class=\"dataframe\">\n",
       "  <thead>\n",
       "    <tr style=\"text-align: right;\">\n",
       "      <th></th>\n",
       "      <th>zip5</th>\n",
       "      <th>pop</th>\n",
       "      <th>race_white</th>\n",
       "      <th>race_black</th>\n",
       "      <th>race_indian</th>\n",
       "      <th>race_asian</th>\n",
       "      <th>race_pac_is</th>\n",
       "      <th>race_other</th>\n",
       "      <th>race_multi</th>\n",
       "      <th>hisp</th>\n",
       "      <th>...</th>\n",
       "      <th>marital_yes30to34</th>\n",
       "      <th>marital_yes35to39</th>\n",
       "      <th>marital_yes40to44</th>\n",
       "      <th>marital_yes45to49</th>\n",
       "      <th>marital_yes50to54</th>\n",
       "      <th>marital_yes55to59</th>\n",
       "      <th>marital_yes60to64</th>\n",
       "      <th>marital_yes65to74</th>\n",
       "      <th>marital_yes75to84</th>\n",
       "      <th>marital_yes85p</th>\n",
       "    </tr>\n",
       "  </thead>\n",
       "  <tbody>\n",
       "    <tr>\n",
       "      <th>0</th>\n",
       "      <td>601</td>\n",
       "      <td>18450</td>\n",
       "      <td>0.946179</td>\n",
       "      <td>0.007805</td>\n",
       "      <td>0.000217</td>\n",
       "      <td>0.000000</td>\n",
       "      <td>0</td>\n",
       "      <td>0.042005</td>\n",
       "      <td>0.007588</td>\n",
       "      <td>0.994580</td>\n",
       "      <td>...</td>\n",
       "      <td>0.038743</td>\n",
       "      <td>0.030818</td>\n",
       "      <td>0.049919</td>\n",
       "      <td>0.051477</td>\n",
       "      <td>0.053644</td>\n",
       "      <td>0.038607</td>\n",
       "      <td>0.049038</td>\n",
       "      <td>0.068274</td>\n",
       "      <td>0.029193</td>\n",
       "      <td>0.005690</td>\n",
       "    </tr>\n",
       "    <tr>\n",
       "      <th>1</th>\n",
       "      <td>602</td>\n",
       "      <td>41302</td>\n",
       "      <td>0.635611</td>\n",
       "      <td>0.035010</td>\n",
       "      <td>0.000654</td>\n",
       "      <td>0.001719</td>\n",
       "      <td>0</td>\n",
       "      <td>0.030676</td>\n",
       "      <td>0.592659</td>\n",
       "      <td>0.935838</td>\n",
       "      <td>...</td>\n",
       "      <td>0.039094</td>\n",
       "      <td>0.037999</td>\n",
       "      <td>0.051465</td>\n",
       "      <td>0.049600</td>\n",
       "      <td>0.058420</td>\n",
       "      <td>0.054276</td>\n",
       "      <td>0.053892</td>\n",
       "      <td>0.067683</td>\n",
       "      <td>0.025244</td>\n",
       "      <td>0.002545</td>\n",
       "    </tr>\n",
       "    <tr>\n",
       "      <th>2</th>\n",
       "      <td>603</td>\n",
       "      <td>53683</td>\n",
       "      <td>0.775217</td>\n",
       "      <td>0.032953</td>\n",
       "      <td>0.000335</td>\n",
       "      <td>0.008345</td>\n",
       "      <td>0</td>\n",
       "      <td>0.030643</td>\n",
       "      <td>0.305013</td>\n",
       "      <td>0.958609</td>\n",
       "      <td>...</td>\n",
       "      <td>0.037783</td>\n",
       "      <td>0.037464</td>\n",
       "      <td>0.033750</td>\n",
       "      <td>0.039014</td>\n",
       "      <td>0.042386</td>\n",
       "      <td>0.046215</td>\n",
       "      <td>0.056538</td>\n",
       "      <td>0.077891</td>\n",
       "      <td>0.031152</td>\n",
       "      <td>0.003168</td>\n",
       "    </tr>\n",
       "    <tr>\n",
       "      <th>3</th>\n",
       "      <td>606</td>\n",
       "      <td>6591</td>\n",
       "      <td>0.953421</td>\n",
       "      <td>0.011227</td>\n",
       "      <td>0.000000</td>\n",
       "      <td>0.000000</td>\n",
       "      <td>0</td>\n",
       "      <td>0.022151</td>\n",
       "      <td>0.026400</td>\n",
       "      <td>0.998635</td>\n",
       "      <td>...</td>\n",
       "      <td>0.004145</td>\n",
       "      <td>0.024496</td>\n",
       "      <td>0.032410</td>\n",
       "      <td>0.029772</td>\n",
       "      <td>0.049934</td>\n",
       "      <td>0.034483</td>\n",
       "      <td>0.061428</td>\n",
       "      <td>0.052007</td>\n",
       "      <td>0.012436</td>\n",
       "      <td>0.003580</td>\n",
       "    </tr>\n",
       "    <tr>\n",
       "      <th>4</th>\n",
       "      <td>610</td>\n",
       "      <td>28963</td>\n",
       "      <td>0.740013</td>\n",
       "      <td>0.029141</td>\n",
       "      <td>0.000000</td>\n",
       "      <td>0.000725</td>\n",
       "      <td>0</td>\n",
       "      <td>0.167041</td>\n",
       "      <td>0.126161</td>\n",
       "      <td>0.992542</td>\n",
       "      <td>...</td>\n",
       "      <td>0.032814</td>\n",
       "      <td>0.031205</td>\n",
       "      <td>0.067025</td>\n",
       "      <td>0.049411</td>\n",
       "      <td>0.052079</td>\n",
       "      <td>0.041282</td>\n",
       "      <td>0.048353</td>\n",
       "      <td>0.078161</td>\n",
       "      <td>0.026590</td>\n",
       "      <td>0.006563</td>\n",
       "    </tr>\n",
       "  </tbody>\n",
       "</table>\n",
       "<p>5 rows × 77 columns</p>\n",
       "</div>"
      ],
      "text/plain": [
       "   zip5    pop  race_white  race_black  race_indian  race_asian  race_pac_is  \\\n",
       "0   601  18450    0.946179    0.007805     0.000217    0.000000            0   \n",
       "1   602  41302    0.635611    0.035010     0.000654    0.001719            0   \n",
       "2   603  53683    0.775217    0.032953     0.000335    0.008345            0   \n",
       "3   606   6591    0.953421    0.011227     0.000000    0.000000            0   \n",
       "4   610  28963    0.740013    0.029141     0.000000    0.000725            0   \n",
       "\n",
       "   race_other  race_multi      hisp       ...        marital_yes30to34  \\\n",
       "0    0.042005    0.007588  0.994580       ...                 0.038743   \n",
       "1    0.030676    0.592659  0.935838       ...                 0.039094   \n",
       "2    0.030643    0.305013  0.958609       ...                 0.037783   \n",
       "3    0.022151    0.026400  0.998635       ...                 0.004145   \n",
       "4    0.167041    0.126161  0.992542       ...                 0.032814   \n",
       "\n",
       "   marital_yes35to39  marital_yes40to44  marital_yes45to49  marital_yes50to54  \\\n",
       "0           0.030818           0.049919           0.051477           0.053644   \n",
       "1           0.037999           0.051465           0.049600           0.058420   \n",
       "2           0.037464           0.033750           0.039014           0.042386   \n",
       "3           0.024496           0.032410           0.029772           0.049934   \n",
       "4           0.031205           0.067025           0.049411           0.052079   \n",
       "\n",
       "   marital_yes55to59  marital_yes60to64  marital_yes65to74  marital_yes75to84  \\\n",
       "0           0.038607           0.049038           0.068274           0.029193   \n",
       "1           0.054276           0.053892           0.067683           0.025244   \n",
       "2           0.046215           0.056538           0.077891           0.031152   \n",
       "3           0.034483           0.061428           0.052007           0.012436   \n",
       "4           0.041282           0.048353           0.078161           0.026590   \n",
       "\n",
       "   marital_yes85p  \n",
       "0        0.005690  \n",
       "1        0.002545  \n",
       "2        0.003168  \n",
       "3        0.003580  \n",
       "4        0.006563  \n",
       "\n",
       "[5 rows x 77 columns]"
      ]
     },
     "execution_count": 7,
     "metadata": {},
     "output_type": "execute_result"
    }
   ],
   "source": [
    "acs.head()"
   ]
  },
  {
   "cell_type": "code",
   "execution_count": 8,
   "metadata": {
    "collapsed": false
   },
   "outputs": [],
   "source": [
    "diversity = acs[['zip5','pop','race_white','race_black','race_asian','race_indian','race_other','hisp']].copy(deep=True)"
   ]
  },
  {
   "cell_type": "code",
   "execution_count": 9,
   "metadata": {
    "collapsed": false
   },
   "outputs": [],
   "source": [
    "diversity['white_hisp'] = ((diversity['pop']*diversity['race_white'])*diversity['hisp'])/diversity['pop']"
   ]
  },
  {
   "cell_type": "code",
   "execution_count": 10,
   "metadata": {
    "collapsed": false
   },
   "outputs": [],
   "source": [
    "diversity['white_nonhisp'] = ((diversity['pop']*diversity['race_white'])*(1-diversity['hisp']))/diversity['pop']"
   ]
  },
  {
   "cell_type": "code",
   "execution_count": 11,
   "metadata": {
    "collapsed": true
   },
   "outputs": [],
   "source": [
    "diversity['div_index'] = 1- (diversity['race_black']**2 + diversity['white_hisp']**2 + diversity['white_nonhisp']**2 + diversity['race_asian']**2 + diversity['race_indian']**2)"
   ]
  },
  {
   "cell_type": "code",
   "execution_count": 12,
   "metadata": {
    "collapsed": false
   },
   "outputs": [
    {
     "data": {
      "text/html": [
       "<div>\n",
       "<table border=\"1\" class=\"dataframe\">\n",
       "  <thead>\n",
       "    <tr style=\"text-align: right;\">\n",
       "      <th></th>\n",
       "      <th>zip5</th>\n",
       "      <th>pop</th>\n",
       "      <th>race_white</th>\n",
       "      <th>race_black</th>\n",
       "      <th>race_asian</th>\n",
       "      <th>race_indian</th>\n",
       "      <th>race_other</th>\n",
       "      <th>hisp</th>\n",
       "      <th>white_hisp</th>\n",
       "      <th>white_nonhisp</th>\n",
       "      <th>div_index</th>\n",
       "    </tr>\n",
       "  </thead>\n",
       "  <tbody>\n",
       "    <tr>\n",
       "      <th>6518</th>\n",
       "      <td>21093</td>\n",
       "      <td>36945</td>\n",
       "      <td>0.840628</td>\n",
       "      <td>0.031696</td>\n",
       "      <td>0.101042</td>\n",
       "      <td>0.001705</td>\n",
       "      <td>0.006307</td>\n",
       "      <td>0.033726</td>\n",
       "      <td>0.028351</td>\n",
       "      <td>0.812277</td>\n",
       "      <td>0.328185</td>\n",
       "    </tr>\n",
       "  </tbody>\n",
       "</table>\n",
       "</div>"
      ],
      "text/plain": [
       "       zip5    pop  race_white  race_black  race_asian  race_indian  \\\n",
       "6518  21093  36945    0.840628    0.031696    0.101042     0.001705   \n",
       "\n",
       "      race_other      hisp  white_hisp  white_nonhisp  div_index  \n",
       "6518    0.006307  0.033726    0.028351       0.812277   0.328185  "
      ]
     },
     "execution_count": 12,
     "metadata": {},
     "output_type": "execute_result"
    }
   ],
   "source": [
    "diversity[diversity['zip5']==21093]"
   ]
  },
  {
   "cell_type": "code",
   "execution_count": 13,
   "metadata": {
    "collapsed": true
   },
   "outputs": [],
   "source": [
    "zillow_HVI = pd.read_csv(zillow_HVI_file)"
   ]
  },
  {
   "cell_type": "code",
   "execution_count": 14,
   "metadata": {
    "collapsed": true
   },
   "outputs": [],
   "source": [
    "zillow_RI = pd.read_csv(zillow_RI_file)"
   ]
  },
  {
   "cell_type": "code",
   "execution_count": 15,
   "metadata": {
    "collapsed": true
   },
   "outputs": [],
   "source": [
    "urban = pd.read_csv(urbanization_zip)"
   ]
  },
  {
   "cell_type": "code",
   "execution_count": 16,
   "metadata": {
    "collapsed": false
   },
   "outputs": [
    {
     "data": {
      "text/plain": [
       "ZCTA5          object\n",
       "Zip5            int64\n",
       "LANDSQMT        int64\n",
       "WATERSQMT       int64\n",
       "LANDSQMI      float64\n",
       "WATERSQMI     float64\n",
       "POPULATION      int64\n",
       "HSGUNITS        int64\n",
       "INTPTLAT      float64\n",
       "INTPTLON      float64\n",
       "dtype: object"
      ]
     },
     "execution_count": 16,
     "metadata": {},
     "output_type": "execute_result"
    }
   ],
   "source": [
    "#del urban['pop']\n",
    "urban.dtypes\n"
   ]
  },
  {
   "cell_type": "code",
   "execution_count": 17,
   "metadata": {
    "collapsed": false
   },
   "outputs": [],
   "source": [
    "#urban['pop'] = urban.apply(lambda x: int(x['POPULATION'].replace(',','')),axis=1)\n",
    "#alternate\n",
    "#urban['pop'] = urban['POPULATION'].apply(lambda x: int(x.replace(',','')))\n",
    "urban['pop'] = urban.apply(lambda x: int(x['POPULATION']),axis=1)"
   ]
  },
  {
   "cell_type": "code",
   "execution_count": 18,
   "metadata": {
    "collapsed": false
   },
   "outputs": [],
   "source": [
    "#strip Z from Zip Code Text\n",
    "urban['ZCTA5'] = urban.apply(lambda x: x['ZCTA5'][1:],axis=1)"
   ]
  },
  {
   "cell_type": "code",
   "execution_count": 19,
   "metadata": {
    "collapsed": false
   },
   "outputs": [
    {
     "data": {
      "text/html": [
       "<div>\n",
       "<table border=\"1\" class=\"dataframe\">\n",
       "  <thead>\n",
       "    <tr style=\"text-align: right;\">\n",
       "      <th></th>\n",
       "      <th>ZCTA5</th>\n",
       "      <th>Zip5</th>\n",
       "      <th>LANDSQMT</th>\n",
       "      <th>WATERSQMT</th>\n",
       "      <th>LANDSQMI</th>\n",
       "      <th>WATERSQMI</th>\n",
       "      <th>POPULATION</th>\n",
       "      <th>HSGUNITS</th>\n",
       "      <th>INTPTLAT</th>\n",
       "      <th>INTPTLON</th>\n",
       "      <th>pop</th>\n",
       "    </tr>\n",
       "  </thead>\n",
       "  <tbody>\n",
       "    <tr>\n",
       "      <th>0</th>\n",
       "      <td>00601</td>\n",
       "      <td>601</td>\n",
       "      <td>166659789</td>\n",
       "      <td>799296</td>\n",
       "      <td>64.35</td>\n",
       "      <td>0.31</td>\n",
       "      <td>18570</td>\n",
       "      <td>7744</td>\n",
       "      <td>18.180556</td>\n",
       "      <td>-66.749961</td>\n",
       "      <td>18570</td>\n",
       "    </tr>\n",
       "    <tr>\n",
       "      <th>1</th>\n",
       "      <td>00602</td>\n",
       "      <td>602</td>\n",
       "      <td>79288158</td>\n",
       "      <td>4446273</td>\n",
       "      <td>30.61</td>\n",
       "      <td>1.72</td>\n",
       "      <td>41520</td>\n",
       "      <td>18073</td>\n",
       "      <td>18.362268</td>\n",
       "      <td>-67.176130</td>\n",
       "      <td>41520</td>\n",
       "    </tr>\n",
       "    <tr>\n",
       "      <th>2</th>\n",
       "      <td>00603</td>\n",
       "      <td>603</td>\n",
       "      <td>81880442</td>\n",
       "      <td>183425</td>\n",
       "      <td>31.61</td>\n",
       "      <td>0.07</td>\n",
       "      <td>54689</td>\n",
       "      <td>25653</td>\n",
       "      <td>18.455183</td>\n",
       "      <td>-67.119887</td>\n",
       "      <td>54689</td>\n",
       "    </tr>\n",
       "    <tr>\n",
       "      <th>3</th>\n",
       "      <td>00606</td>\n",
       "      <td>606</td>\n",
       "      <td>109580061</td>\n",
       "      <td>12487</td>\n",
       "      <td>42.31</td>\n",
       "      <td>0.00</td>\n",
       "      <td>6615</td>\n",
       "      <td>2877</td>\n",
       "      <td>18.158345</td>\n",
       "      <td>-66.932911</td>\n",
       "      <td>6615</td>\n",
       "    </tr>\n",
       "    <tr>\n",
       "      <th>4</th>\n",
       "      <td>00610</td>\n",
       "      <td>610</td>\n",
       "      <td>93021467</td>\n",
       "      <td>4172001</td>\n",
       "      <td>35.92</td>\n",
       "      <td>1.61</td>\n",
       "      <td>29016</td>\n",
       "      <td>12618</td>\n",
       "      <td>18.290955</td>\n",
       "      <td>-67.125868</td>\n",
       "      <td>29016</td>\n",
       "    </tr>\n",
       "  </tbody>\n",
       "</table>\n",
       "</div>"
      ],
      "text/plain": [
       "   ZCTA5  Zip5   LANDSQMT  WATERSQMT  LANDSQMI  WATERSQMI  POPULATION  \\\n",
       "0  00601   601  166659789     799296     64.35       0.31       18570   \n",
       "1  00602   602   79288158    4446273     30.61       1.72       41520   \n",
       "2  00603   603   81880442     183425     31.61       0.07       54689   \n",
       "3  00606   606  109580061      12487     42.31       0.00        6615   \n",
       "4  00610   610   93021467    4172001     35.92       1.61       29016   \n",
       "\n",
       "   HSGUNITS   INTPTLAT   INTPTLON    pop  \n",
       "0      7744  18.180556 -66.749961  18570  \n",
       "1     18073  18.362268 -67.176130  41520  \n",
       "2     25653  18.455183 -67.119887  54689  \n",
       "3      2877  18.158345 -66.932911   6615  \n",
       "4     12618  18.290955 -67.125868  29016  "
      ]
     },
     "execution_count": 19,
     "metadata": {},
     "output_type": "execute_result"
    }
   ],
   "source": [
    "urban.head()"
   ]
  },
  {
   "cell_type": "code",
   "execution_count": 20,
   "metadata": {
    "collapsed": false
   },
   "outputs": [],
   "source": [
    "urban['urban_index'] = urban['LANDSQMT']/urban['pop']"
   ]
  },
  {
   "cell_type": "code",
   "execution_count": 21,
   "metadata": {
    "collapsed": false
   },
   "outputs": [],
   "source": [
    "zillow_HVI = zillow_HVI[['RegionName','1996-07','1997-01','1997-07','1998-01','1998-07','1999-01','1999-07','2000-01','2000-07'\\\n",
    "    ,'2001-01','2001-07','2002-01','2002-07','2003-01','2003-07','2004-01','2004-07','2005-01','2005-07','2006-01','2006-07'\\\n",
    "    ,'2007-01','2007-07','2008-01','2008-07','2009-01','2009-07','2010-01','2010-07','2011-01','2011-07','2012-01','2012-07'\\\n",
    "    ,'2013-01','2013-07','2014-01','2014-07','2015-01','2015-07']]"
   ]
  },
  {
   "cell_type": "code",
   "execution_count": 22,
   "metadata": {
    "collapsed": false
   },
   "outputs": [
    {
     "data": {
      "text/html": [
       "<div>\n",
       "<table border=\"1\" class=\"dataframe\">\n",
       "  <thead>\n",
       "    <tr style=\"text-align: right;\">\n",
       "      <th></th>\n",
       "      <th>zip5</th>\n",
       "      <th>1996-07</th>\n",
       "      <th>1997-01</th>\n",
       "      <th>1997-07</th>\n",
       "      <th>1998-01</th>\n",
       "      <th>1998-07</th>\n",
       "      <th>1999-01</th>\n",
       "      <th>1999-07</th>\n",
       "      <th>2000-01</th>\n",
       "      <th>2000-07</th>\n",
       "      <th>...</th>\n",
       "      <th>2011-01</th>\n",
       "      <th>2011-07</th>\n",
       "      <th>2012-01</th>\n",
       "      <th>2012-07</th>\n",
       "      <th>2013-01</th>\n",
       "      <th>2013-07</th>\n",
       "      <th>2014-01</th>\n",
       "      <th>2014-07</th>\n",
       "      <th>2015-01</th>\n",
       "      <th>2015-07</th>\n",
       "    </tr>\n",
       "  </thead>\n",
       "  <tbody>\n",
       "    <tr>\n",
       "      <th>0</th>\n",
       "      <td>10025</td>\n",
       "      <td>NaN</td>\n",
       "      <td>NaN</td>\n",
       "      <td>NaN</td>\n",
       "      <td>NaN</td>\n",
       "      <td>NaN</td>\n",
       "      <td>NaN</td>\n",
       "      <td>NaN</td>\n",
       "      <td>NaN</td>\n",
       "      <td>NaN</td>\n",
       "      <td>...</td>\n",
       "      <td>758600</td>\n",
       "      <td>751200</td>\n",
       "      <td>737500</td>\n",
       "      <td>772400</td>\n",
       "      <td>825700</td>\n",
       "      <td>908100</td>\n",
       "      <td>998300</td>\n",
       "      <td>1001700</td>\n",
       "      <td>1029600</td>\n",
       "      <td>1097100</td>\n",
       "    </tr>\n",
       "    <tr>\n",
       "      <th>1</th>\n",
       "      <td>60657</td>\n",
       "      <td>141900</td>\n",
       "      <td>144600</td>\n",
       "      <td>154500</td>\n",
       "      <td>161400</td>\n",
       "      <td>165300</td>\n",
       "      <td>179000</td>\n",
       "      <td>188700</td>\n",
       "      <td>201900</td>\n",
       "      <td>220300</td>\n",
       "      <td>...</td>\n",
       "      <td>288300</td>\n",
       "      <td>274600</td>\n",
       "      <td>258900</td>\n",
       "      <td>264000</td>\n",
       "      <td>267900</td>\n",
       "      <td>279900</td>\n",
       "      <td>294700</td>\n",
       "      <td>297000</td>\n",
       "      <td>304500</td>\n",
       "      <td>307000</td>\n",
       "    </tr>\n",
       "    <tr>\n",
       "      <th>2</th>\n",
       "      <td>60614</td>\n",
       "      <td>193200</td>\n",
       "      <td>197200</td>\n",
       "      <td>199200</td>\n",
       "      <td>200800</td>\n",
       "      <td>216500</td>\n",
       "      <td>228400</td>\n",
       "      <td>244900</td>\n",
       "      <td>261900</td>\n",
       "      <td>276700</td>\n",
       "      <td>...</td>\n",
       "      <td>351800</td>\n",
       "      <td>348500</td>\n",
       "      <td>332900</td>\n",
       "      <td>332900</td>\n",
       "      <td>335700</td>\n",
       "      <td>354000</td>\n",
       "      <td>386800</td>\n",
       "      <td>382300</td>\n",
       "      <td>378900</td>\n",
       "      <td>393000</td>\n",
       "    </tr>\n",
       "    <tr>\n",
       "      <th>3</th>\n",
       "      <td>79936</td>\n",
       "      <td>71100</td>\n",
       "      <td>72600</td>\n",
       "      <td>74000</td>\n",
       "      <td>76000</td>\n",
       "      <td>76200</td>\n",
       "      <td>75600</td>\n",
       "      <td>77100</td>\n",
       "      <td>78400</td>\n",
       "      <td>78900</td>\n",
       "      <td>...</td>\n",
       "      <td>110100</td>\n",
       "      <td>109200</td>\n",
       "      <td>108700</td>\n",
       "      <td>109000</td>\n",
       "      <td>109900</td>\n",
       "      <td>111300</td>\n",
       "      <td>109600</td>\n",
       "      <td>111900</td>\n",
       "      <td>111600</td>\n",
       "      <td>112100</td>\n",
       "    </tr>\n",
       "    <tr>\n",
       "      <th>4</th>\n",
       "      <td>10002</td>\n",
       "      <td>NaN</td>\n",
       "      <td>NaN</td>\n",
       "      <td>NaN</td>\n",
       "      <td>NaN</td>\n",
       "      <td>NaN</td>\n",
       "      <td>NaN</td>\n",
       "      <td>NaN</td>\n",
       "      <td>NaN</td>\n",
       "      <td>NaN</td>\n",
       "      <td>...</td>\n",
       "      <td>704800</td>\n",
       "      <td>688900</td>\n",
       "      <td>696000</td>\n",
       "      <td>700000</td>\n",
       "      <td>730300</td>\n",
       "      <td>791900</td>\n",
       "      <td>849400</td>\n",
       "      <td>863900</td>\n",
       "      <td>903200</td>\n",
       "      <td>951600</td>\n",
       "    </tr>\n",
       "  </tbody>\n",
       "</table>\n",
       "<p>5 rows × 40 columns</p>\n",
       "</div>"
      ],
      "text/plain": [
       "    zip5  1996-07  1997-01  1997-07  1998-01  1998-07  1999-01  1999-07  \\\n",
       "0  10025      NaN      NaN      NaN      NaN      NaN      NaN      NaN   \n",
       "1  60657   141900   144600   154500   161400   165300   179000   188700   \n",
       "2  60614   193200   197200   199200   200800   216500   228400   244900   \n",
       "3  79936    71100    72600    74000    76000    76200    75600    77100   \n",
       "4  10002      NaN      NaN      NaN      NaN      NaN      NaN      NaN   \n",
       "\n",
       "   2000-01  2000-07   ...     2011-01  2011-07  2012-01  2012-07  2013-01  \\\n",
       "0      NaN      NaN   ...      758600   751200   737500   772400   825700   \n",
       "1   201900   220300   ...      288300   274600   258900   264000   267900   \n",
       "2   261900   276700   ...      351800   348500   332900   332900   335700   \n",
       "3    78400    78900   ...      110100   109200   108700   109000   109900   \n",
       "4      NaN      NaN   ...      704800   688900   696000   700000   730300   \n",
       "\n",
       "   2013-07  2014-01  2014-07  2015-01  2015-07  \n",
       "0   908100   998300  1001700  1029600  1097100  \n",
       "1   279900   294700   297000   304500   307000  \n",
       "2   354000   386800   382300   378900   393000  \n",
       "3   111300   109600   111900   111600   112100  \n",
       "4   791900   849400   863900   903200   951600  \n",
       "\n",
       "[5 rows x 40 columns]"
      ]
     },
     "execution_count": 22,
     "metadata": {},
     "output_type": "execute_result"
    }
   ],
   "source": [
    "zillow_HVI.rename(columns={'RegionName':'zip5'},inplace=True)\n",
    "zillow_HVI.head()"
   ]
  },
  {
   "cell_type": "code",
   "execution_count": 23,
   "metadata": {
    "collapsed": false
   },
   "outputs": [
    {
     "data": {
      "text/plain": [
       "12988"
      ]
     },
     "execution_count": 23,
     "metadata": {},
     "output_type": "execute_result"
    }
   ],
   "source": [
    "len(zillow_HVI)"
   ]
  },
  {
   "cell_type": "code",
   "execution_count": 24,
   "metadata": {
    "collapsed": false
   },
   "outputs": [
    {
     "data": {
      "text/html": [
       "<div>\n",
       "<table border=\"1\" class=\"dataframe\">\n",
       "  <thead>\n",
       "    <tr style=\"text-align: right;\">\n",
       "      <th></th>\n",
       "      <th>RegionName</th>\n",
       "      <th>City</th>\n",
       "      <th>State</th>\n",
       "      <th>Metro</th>\n",
       "      <th>CountyName</th>\n",
       "      <th>2010-11</th>\n",
       "      <th>2010-12</th>\n",
       "      <th>2011-01</th>\n",
       "      <th>2011-02</th>\n",
       "      <th>2011-03</th>\n",
       "      <th>...</th>\n",
       "      <th>2014-10</th>\n",
       "      <th>2014-11</th>\n",
       "      <th>2014-12</th>\n",
       "      <th>2015-01</th>\n",
       "      <th>2015-02</th>\n",
       "      <th>2015-03</th>\n",
       "      <th>2015-04</th>\n",
       "      <th>2015-05</th>\n",
       "      <th>2015-06</th>\n",
       "      <th>2015-07</th>\n",
       "    </tr>\n",
       "  </thead>\n",
       "  <tbody>\n",
       "    <tr>\n",
       "      <th>0</th>\n",
       "      <td>10025</td>\n",
       "      <td>New York</td>\n",
       "      <td>NY</td>\n",
       "      <td>New York</td>\n",
       "      <td>New York</td>\n",
       "      <td>NaN</td>\n",
       "      <td>NaN</td>\n",
       "      <td>NaN</td>\n",
       "      <td>NaN</td>\n",
       "      <td>NaN</td>\n",
       "      <td>...</td>\n",
       "      <td>3511</td>\n",
       "      <td>3488</td>\n",
       "      <td>3500</td>\n",
       "      <td>3520</td>\n",
       "      <td>3557</td>\n",
       "      <td>3588</td>\n",
       "      <td>3585</td>\n",
       "      <td>3586</td>\n",
       "      <td>3581</td>\n",
       "      <td>3599</td>\n",
       "    </tr>\n",
       "  </tbody>\n",
       "</table>\n",
       "<p>1 rows × 62 columns</p>\n",
       "</div>"
      ],
      "text/plain": [
       "   RegionName      City State     Metro CountyName  2010-11  2010-12  2011-01  \\\n",
       "0       10025  New York    NY  New York   New York      NaN      NaN      NaN   \n",
       "\n",
       "   2011-02  2011-03   ...     2014-10  2014-11  2014-12  2015-01  2015-02  \\\n",
       "0      NaN      NaN   ...        3511     3488     3500     3520     3557   \n",
       "\n",
       "   2015-03  2015-04  2015-05  2015-06  2015-07  \n",
       "0     3588     3585     3586     3581     3599  \n",
       "\n",
       "[1 rows x 62 columns]"
      ]
     },
     "execution_count": 24,
     "metadata": {},
     "output_type": "execute_result"
    }
   ],
   "source": [
    "zillow_RI.head(1)"
   ]
  },
  {
   "cell_type": "code",
   "execution_count": 25,
   "metadata": {
    "collapsed": false
   },
   "outputs": [],
   "source": [
    "zillow_RI = zillow_RI[['RegionName','2011-01','2011-07','2012-01','2012-07'\\\n",
    "    ,'2013-01','2013-07','2014-01','2014-07','2015-01','2015-07']].copy(False)"
   ]
  },
  {
   "cell_type": "code",
   "execution_count": 26,
   "metadata": {
    "collapsed": false
   },
   "outputs": [],
   "source": [
    "zillow_RI.rename(columns={'RegionName':'zip5'},inplace=True)"
   ]
  },
  {
   "cell_type": "code",
   "execution_count": 27,
   "metadata": {
    "collapsed": false
   },
   "outputs": [
    {
     "data": {
      "text/html": [
       "<div>\n",
       "<table border=\"1\" class=\"dataframe\">\n",
       "  <thead>\n",
       "    <tr style=\"text-align: right;\">\n",
       "      <th></th>\n",
       "      <th>zip5</th>\n",
       "      <th>2011-01</th>\n",
       "      <th>2011-07</th>\n",
       "      <th>2012-01</th>\n",
       "      <th>2012-07</th>\n",
       "      <th>2013-01</th>\n",
       "      <th>2013-07</th>\n",
       "      <th>2014-01</th>\n",
       "      <th>2014-07</th>\n",
       "      <th>2015-01</th>\n",
       "      <th>2015-07</th>\n",
       "    </tr>\n",
       "  </thead>\n",
       "  <tbody>\n",
       "    <tr>\n",
       "      <th>0</th>\n",
       "      <td>10025</td>\n",
       "      <td>NaN</td>\n",
       "      <td>NaN</td>\n",
       "      <td>3008</td>\n",
       "      <td>3394</td>\n",
       "      <td>3538</td>\n",
       "      <td>3485</td>\n",
       "      <td>3477</td>\n",
       "      <td>3484</td>\n",
       "      <td>3520</td>\n",
       "      <td>3599</td>\n",
       "    </tr>\n",
       "    <tr>\n",
       "      <th>1</th>\n",
       "      <td>60657</td>\n",
       "      <td>1453</td>\n",
       "      <td>1243</td>\n",
       "      <td>1698</td>\n",
       "      <td>2053</td>\n",
       "      <td>1957</td>\n",
       "      <td>1917</td>\n",
       "      <td>2005</td>\n",
       "      <td>2142</td>\n",
       "      <td>1969</td>\n",
       "      <td>2050</td>\n",
       "    </tr>\n",
       "    <tr>\n",
       "      <th>2</th>\n",
       "      <td>10023</td>\n",
       "      <td>NaN</td>\n",
       "      <td>NaN</td>\n",
       "      <td>3911</td>\n",
       "      <td>4118</td>\n",
       "      <td>3960</td>\n",
       "      <td>4180</td>\n",
       "      <td>4251</td>\n",
       "      <td>4312</td>\n",
       "      <td>4370</td>\n",
       "      <td>4620</td>\n",
       "    </tr>\n",
       "    <tr>\n",
       "      <th>3</th>\n",
       "      <td>60614</td>\n",
       "      <td>1482</td>\n",
       "      <td>1379</td>\n",
       "      <td>1920</td>\n",
       "      <td>2184</td>\n",
       "      <td>2171</td>\n",
       "      <td>2223</td>\n",
       "      <td>2199</td>\n",
       "      <td>2343</td>\n",
       "      <td>2232</td>\n",
       "      <td>2361</td>\n",
       "    </tr>\n",
       "    <tr>\n",
       "      <th>4</th>\n",
       "      <td>79936</td>\n",
       "      <td>1003</td>\n",
       "      <td>1038</td>\n",
       "      <td>1088</td>\n",
       "      <td>1079</td>\n",
       "      <td>1031</td>\n",
       "      <td>996</td>\n",
       "      <td>1029</td>\n",
       "      <td>1029</td>\n",
       "      <td>1022</td>\n",
       "      <td>1057</td>\n",
       "    </tr>\n",
       "  </tbody>\n",
       "</table>\n",
       "</div>"
      ],
      "text/plain": [
       "    zip5  2011-01  2011-07  2012-01  2012-07  2013-01  2013-07  2014-01  \\\n",
       "0  10025      NaN      NaN     3008     3394     3538     3485     3477   \n",
       "1  60657     1453     1243     1698     2053     1957     1917     2005   \n",
       "2  10023      NaN      NaN     3911     4118     3960     4180     4251   \n",
       "3  60614     1482     1379     1920     2184     2171     2223     2199   \n",
       "4  79936     1003     1038     1088     1079     1031      996     1029   \n",
       "\n",
       "   2014-07  2015-01  2015-07  \n",
       "0     3484     3520     3599  \n",
       "1     2142     1969     2050  \n",
       "2     4312     4370     4620  \n",
       "3     2343     2232     2361  \n",
       "4     1029     1022     1057  "
      ]
     },
     "execution_count": 27,
     "metadata": {},
     "output_type": "execute_result"
    }
   ],
   "source": [
    "zillow_RI.head()"
   ]
  },
  {
   "cell_type": "code",
   "execution_count": 28,
   "metadata": {
    "collapsed": true
   },
   "outputs": [],
   "source": [
    "deposits_250K = pd.read_csv(FDIC_deposits_250K_file)"
   ]
  },
  {
   "cell_type": "code",
   "execution_count": 29,
   "metadata": {
    "collapsed": false,
    "scrolled": true
   },
   "outputs": [],
   "source": [
    "#deposits_250K = deposits_250K[['zip'],['IDdepsmb'],['DEPSMRA'],['DEPSMRN'],['NTRCDSMJ'],['IDdeplam'],['IDdeplgb'],['DEPLGRA'],['DEPLGRN'],['NTRTMLGJ']]\n",
    "deposits_250K = deposits_250K[['zip','IDdepsam','IDdepsmb','DEPSMRA','DEPSMRN','NTRCDSMJ','IDdeplam','IDdeplgb','DEPLGRA','DEPLGRN','NTRTMLGJ']]"
   ]
  },
  {
   "cell_type": "code",
   "execution_count": 30,
   "metadata": {
    "collapsed": false
   },
   "outputs": [],
   "source": [
    "deposits_250K.columns = ['zip5','dep_amt_low','dep_count_low','retirement_amt_low','retirement_count_low','time_deposits_low','dep_amt_high','dep_count_high','retirement_amt_high','retirement_count_high','time_deposits_high']"
   ]
  },
  {
   "cell_type": "code",
   "execution_count": 31,
   "metadata": {
    "collapsed": false
   },
   "outputs": [
    {
     "data": {
      "text/html": [
       "<div>\n",
       "<table border=\"1\" class=\"dataframe\">\n",
       "  <thead>\n",
       "    <tr style=\"text-align: right;\">\n",
       "      <th></th>\n",
       "      <th>zip5</th>\n",
       "      <th>dep_amt_low</th>\n",
       "      <th>dep_count_low</th>\n",
       "      <th>retirement_amt_low</th>\n",
       "      <th>retirement_count_low</th>\n",
       "      <th>time_deposits_low</th>\n",
       "      <th>dep_amt_high</th>\n",
       "      <th>dep_count_high</th>\n",
       "      <th>retirement_amt_high</th>\n",
       "      <th>retirement_count_high</th>\n",
       "      <th>time_deposits_high</th>\n",
       "    </tr>\n",
       "  </thead>\n",
       "  <tbody>\n",
       "    <tr>\n",
       "      <th>0</th>\n",
       "      <td>21613</td>\n",
       "      <td>105111</td>\n",
       "      <td>9871</td>\n",
       "      <td>11265</td>\n",
       "      <td>712</td>\n",
       "      <td>40000</td>\n",
       "      <td>49156</td>\n",
       "      <td>70</td>\n",
       "      <td>781</td>\n",
       "      <td>2</td>\n",
       "      <td>13062</td>\n",
       "    </tr>\n",
       "    <tr>\n",
       "      <th>1</th>\n",
       "      <td>21202</td>\n",
       "      <td>0</td>\n",
       "      <td>0</td>\n",
       "      <td>0</td>\n",
       "      <td>0</td>\n",
       "      <td>0</td>\n",
       "      <td>500</td>\n",
       "      <td>1</td>\n",
       "      <td>0</td>\n",
       "      <td>0</td>\n",
       "      <td>500</td>\n",
       "    </tr>\n",
       "    <tr>\n",
       "      <th>2</th>\n",
       "      <td>63376</td>\n",
       "      <td>42888</td>\n",
       "      <td>1250</td>\n",
       "      <td>1552</td>\n",
       "      <td>84</td>\n",
       "      <td>28590</td>\n",
       "      <td>21793</td>\n",
       "      <td>32</td>\n",
       "      <td>0</td>\n",
       "      <td>0</td>\n",
       "      <td>4088</td>\n",
       "    </tr>\n",
       "    <tr>\n",
       "      <th>3</th>\n",
       "      <td>59317</td>\n",
       "      <td>30205</td>\n",
       "      <td>2340</td>\n",
       "      <td>743</td>\n",
       "      <td>57</td>\n",
       "      <td>7043</td>\n",
       "      <td>11090</td>\n",
       "      <td>30</td>\n",
       "      <td>0</td>\n",
       "      <td>0</td>\n",
       "      <td>0</td>\n",
       "    </tr>\n",
       "    <tr>\n",
       "      <th>4</th>\n",
       "      <td>74728</td>\n",
       "      <td>82686</td>\n",
       "      <td>8762</td>\n",
       "      <td>6146</td>\n",
       "      <td>208</td>\n",
       "      <td>26712</td>\n",
       "      <td>28517</td>\n",
       "      <td>37</td>\n",
       "      <td>360</td>\n",
       "      <td>1</td>\n",
       "      <td>1787</td>\n",
       "    </tr>\n",
       "  </tbody>\n",
       "</table>\n",
       "</div>"
      ],
      "text/plain": [
       "    zip5  dep_amt_low  dep_count_low  retirement_amt_low  \\\n",
       "0  21613       105111           9871               11265   \n",
       "1  21202            0              0                   0   \n",
       "2  63376        42888           1250                1552   \n",
       "3  59317        30205           2340                 743   \n",
       "4  74728        82686           8762                6146   \n",
       "\n",
       "   retirement_count_low  time_deposits_low  dep_amt_high  dep_count_high  \\\n",
       "0                   712              40000         49156              70   \n",
       "1                     0                  0           500               1   \n",
       "2                    84              28590         21793              32   \n",
       "3                    57               7043         11090              30   \n",
       "4                   208              26712         28517              37   \n",
       "\n",
       "   retirement_amt_high  retirement_count_high  time_deposits_high  \n",
       "0                  781                      2               13062  \n",
       "1                    0                      0                 500  \n",
       "2                    0                      0                4088  \n",
       "3                    0                      0                   0  \n",
       "4                  360                      1                1787  "
      ]
     },
     "execution_count": 31,
     "metadata": {},
     "output_type": "execute_result"
    }
   ],
   "source": [
    "deposits_250K.head()"
   ]
  },
  {
   "cell_type": "code",
   "execution_count": 32,
   "metadata": {
    "collapsed": false
   },
   "outputs": [],
   "source": [
    "deposits_zip = deposits_250K['dep_amt_high'].groupby(deposits_250K['zip5']).mean().reset_index()"
   ]
  },
  {
   "cell_type": "code",
   "execution_count": 33,
   "metadata": {
    "collapsed": false
   },
   "outputs": [
    {
     "data": {
      "text/html": [
       "<div>\n",
       "<table border=\"1\" class=\"dataframe\">\n",
       "  <thead>\n",
       "    <tr style=\"text-align: right;\">\n",
       "      <th></th>\n",
       "      <th>zip5</th>\n",
       "      <th>dep_amt_high</th>\n",
       "    </tr>\n",
       "  </thead>\n",
       "  <tbody>\n",
       "    <tr>\n",
       "      <th>0</th>\n",
       "      <td>802</td>\n",
       "      <td>67941</td>\n",
       "    </tr>\n",
       "    <tr>\n",
       "      <th>1</th>\n",
       "      <td>820</td>\n",
       "      <td>36914</td>\n",
       "    </tr>\n",
       "    <tr>\n",
       "      <th>2</th>\n",
       "      <td>909</td>\n",
       "      <td>2542958</td>\n",
       "    </tr>\n",
       "    <tr>\n",
       "      <th>3</th>\n",
       "      <td>917</td>\n",
       "      <td>2690626</td>\n",
       "    </tr>\n",
       "    <tr>\n",
       "      <th>4</th>\n",
       "      <td>918</td>\n",
       "      <td>1567600</td>\n",
       "    </tr>\n",
       "  </tbody>\n",
       "</table>\n",
       "</div>"
      ],
      "text/plain": [
       "   zip5  dep_amt_high\n",
       "0   802         67941\n",
       "1   820         36914\n",
       "2   909       2542958\n",
       "3   917       2690626\n",
       "4   918       1567600"
      ]
     },
     "execution_count": 33,
     "metadata": {},
     "output_type": "execute_result"
    }
   ],
   "source": [
    "deposits_zip.head()"
   ]
  },
  {
   "cell_type": "code",
   "execution_count": 34,
   "metadata": {
    "collapsed": false
   },
   "outputs": [],
   "source": [
    "library = pd.read_csv(library_file)"
   ]
  },
  {
   "cell_type": "code",
   "execution_count": 35,
   "metadata": {
    "collapsed": false,
    "scrolled": true
   },
   "outputs": [],
   "source": [
    "#Slice field value based on hard coded State\n",
    "#Next step to substitute ['STABR'] for State text to dynamically find location of each state within address field\n",
    "#library_zip.apply(lambda x : x['Location'][0:15], axis =1)\n",
    "#library_zip.apply(lambda x : x['Location'][x['Location'].find(', AK')+5:x['Location'].find(', AK')+10], axis =1)\n",
    "#Strip Zip Code From Location Column\n",
    "#library_zip = library[['Location','STABR']]\n",
    "#library_zip['zip'] = library_zip.apply(lambda x : x['Location'][x['Location'].find(', ' + x['STABR'])+5:x['Location'].find(', ' + x['STABR'])+10], axis =1)"
   ]
  },
  {
   "cell_type": "code",
   "execution_count": 36,
   "metadata": {
    "collapsed": false
   },
   "outputs": [],
   "source": [
    "#Parse out Zip Code from Location field\n",
    "library['zip'] = library.apply(lambda x : x['Location'][x['Location'].rfind(', ' + x['STABR'])+5:x['Location'].rfind(', ' + x['STABR'])+10], axis =1)"
   ]
  },
  {
   "cell_type": "code",
   "execution_count": 37,
   "metadata": {
    "collapsed": false,
    "scrolled": true
   },
   "outputs": [
    {
     "data": {
      "text/html": [
       "<div>\n",
       "<table border=\"1\" class=\"dataframe\">\n",
       "  <thead>\n",
       "    <tr style=\"text-align: right;\">\n",
       "      <th></th>\n",
       "      <th>STABR</th>\n",
       "      <th>FSCSKEY</th>\n",
       "      <th>FSCS_SEQ</th>\n",
       "      <th>LIBID</th>\n",
       "      <th>LIBNAME</th>\n",
       "      <th>CNTY</th>\n",
       "      <th>PHONE</th>\n",
       "      <th>C_OUT_TY</th>\n",
       "      <th>C_MSA</th>\n",
       "      <th>SQ_FEET</th>\n",
       "      <th>...</th>\n",
       "      <th>CENTRACT</th>\n",
       "      <th>CENBLOCK</th>\n",
       "      <th>CDCODE</th>\n",
       "      <th>CBSA</th>\n",
       "      <th>MICROF</th>\n",
       "      <th>GAL</th>\n",
       "      <th>GALMS</th>\n",
       "      <th>POSTMS</th>\n",
       "      <th>Location</th>\n",
       "      <th>zip</th>\n",
       "    </tr>\n",
       "  </thead>\n",
       "  <tbody>\n",
       "    <tr>\n",
       "      <th>0</th>\n",
       "      <td>AK</td>\n",
       "      <td>AK0001</td>\n",
       "      <td>2</td>\n",
       "      <td>AK0001-002</td>\n",
       "      <td>ANCHOR POINT PUBLIC LIBRARY</td>\n",
       "      <td>KENAI PENINSULA</td>\n",
       "      <td>9072355692</td>\n",
       "      <td>CE</td>\n",
       "      <td>NO</td>\n",
       "      <td>1287</td>\n",
       "      <td>...</td>\n",
       "      <td>8.00</td>\n",
       "      <td>3014</td>\n",
       "      <td>200</td>\n",
       "      <td>0</td>\n",
       "      <td>0</td>\n",
       "      <td>house</td>\n",
       "      <td>STD</td>\n",
       "      <td>NND</td>\n",
       "      <td>72551 MILO FRITZ AVENUE\\nANCHOR POINT, AK 9955...</td>\n",
       "      <td>99556</td>\n",
       "    </tr>\n",
       "    <tr>\n",
       "      <th>1</th>\n",
       "      <td>AK</td>\n",
       "      <td>AK0002</td>\n",
       "      <td>7</td>\n",
       "      <td>AK0002-007</td>\n",
       "      <td>CHUGIAK/EAGLE RIVER NEIGHBORHOOD LIBRARY</td>\n",
       "      <td>ANCHORAGE</td>\n",
       "      <td>9073431530</td>\n",
       "      <td>BR</td>\n",
       "      <td>CC</td>\n",
       "      <td>17888</td>\n",
       "      <td>...</td>\n",
       "      <td>2.01</td>\n",
       "      <td>2021</td>\n",
       "      <td>200</td>\n",
       "      <td>11260</td>\n",
       "      <td>0</td>\n",
       "      <td>addresspoint</td>\n",
       "      <td>STD</td>\n",
       "      <td>NND</td>\n",
       "      <td>12001 BUSINESS BOULEVARD #176\\nEAGLE RIVER, AK...</td>\n",
       "      <td>99577</td>\n",
       "    </tr>\n",
       "  </tbody>\n",
       "</table>\n",
       "<p>2 rows × 37 columns</p>\n",
       "</div>"
      ],
      "text/plain": [
       "  STABR FSCSKEY  FSCS_SEQ       LIBID  \\\n",
       "0    AK  AK0001         2  AK0001-002   \n",
       "1    AK  AK0002         7  AK0002-007   \n",
       "\n",
       "                                    LIBNAME             CNTY       PHONE  \\\n",
       "0               ANCHOR POINT PUBLIC LIBRARY  KENAI PENINSULA  9072355692   \n",
       "1  CHUGIAK/EAGLE RIVER NEIGHBORHOOD LIBRARY        ANCHORAGE  9073431530   \n",
       "\n",
       "  C_OUT_TY C_MSA  SQ_FEET  ...   CENTRACT  CENBLOCK CDCODE   CBSA MICROF  \\\n",
       "0       CE    NO     1287  ...       8.00      3014    200      0      0   \n",
       "1       BR    CC    17888  ...       2.01      2021    200  11260      0   \n",
       "\n",
       "            GAL GALMS  POSTMS  \\\n",
       "0         house   STD     NND   \n",
       "1  addresspoint   STD     NND   \n",
       "\n",
       "                                            Location    zip  \n",
       "0  72551 MILO FRITZ AVENUE\\nANCHOR POINT, AK 9955...  99556  \n",
       "1  12001 BUSINESS BOULEVARD #176\\nEAGLE RIVER, AK...  99577  \n",
       "\n",
       "[2 rows x 37 columns]"
      ]
     },
     "execution_count": 37,
     "metadata": {},
     "output_type": "execute_result"
    }
   ],
   "source": [
    "library.head(2)"
   ]
  },
  {
   "cell_type": "code",
   "execution_count": 38,
   "metadata": {
    "collapsed": true
   },
   "outputs": [],
   "source": [
    "#Change to your local path\n",
    "library.to_csv(\"/home/russ/Documents/DDL/Data/JeffData/PCA/Library_ZipCode.csv\")"
   ]
  },
  {
   "cell_type": "code",
   "execution_count": 39,
   "metadata": {
    "collapsed": false
   },
   "outputs": [],
   "source": [
    "library_zip = library['STABR'].groupby(library['zip']).count().reset_index()"
   ]
  },
  {
   "cell_type": "code",
   "execution_count": 40,
   "metadata": {
    "collapsed": false
   },
   "outputs": [],
   "source": [
    "library_zip['zip5'] = library_zip.apply(lambda x: int(x['zip']),axis=1)"
   ]
  },
  {
   "cell_type": "code",
   "execution_count": 41,
   "metadata": {
    "collapsed": false
   },
   "outputs": [],
   "source": [
    "library_zip.columns = ['zip','LibraryCount','zip5']"
   ]
  },
  {
   "cell_type": "code",
   "execution_count": 42,
   "metadata": {
    "collapsed": false
   },
   "outputs": [
    {
     "data": {
      "text/html": [
       "<div>\n",
       "<table border=\"1\" class=\"dataframe\">\n",
       "  <thead>\n",
       "    <tr style=\"text-align: right;\">\n",
       "      <th></th>\n",
       "      <th>zip</th>\n",
       "      <th>LibraryCount</th>\n",
       "      <th>zip5</th>\n",
       "    </tr>\n",
       "  </thead>\n",
       "  <tbody>\n",
       "    <tr>\n",
       "      <th>0</th>\n",
       "      <td>00602</td>\n",
       "      <td>1</td>\n",
       "      <td>602</td>\n",
       "    </tr>\n",
       "  </tbody>\n",
       "</table>\n",
       "</div>"
      ],
      "text/plain": [
       "     zip  LibraryCount  zip5\n",
       "0  00602             1   602"
      ]
     },
     "execution_count": 42,
     "metadata": {},
     "output_type": "execute_result"
    }
   ],
   "source": [
    "library_zip.head(1)"
   ]
  },
  {
   "cell_type": "code",
   "execution_count": 43,
   "metadata": {
    "collapsed": false
   },
   "outputs": [
    {
     "ename": "NameError",
     "evalue": "name 'zillow' is not defined",
     "output_type": "error",
     "traceback": [
      "\u001b[1;31m---------------------------------------------------------------------------\u001b[0m",
      "\u001b[1;31mNameError\u001b[0m                                 Traceback (most recent call last)",
      "\u001b[1;32m<ipython-input-43-9cca79f80dba>\u001b[0m in \u001b[0;36m<module>\u001b[1;34m()\u001b[0m\n\u001b[1;32m----> 1\u001b[1;33m \u001b[0mcombined\u001b[0m \u001b[1;33m=\u001b[0m \u001b[0mpd\u001b[0m\u001b[1;33m.\u001b[0m\u001b[0mmerge\u001b[0m\u001b[1;33m(\u001b[0m\u001b[0macs\u001b[0m\u001b[1;33m[\u001b[0m\u001b[1;33m[\u001b[0m\u001b[1;34m'zip5'\u001b[0m\u001b[1;33m,\u001b[0m\u001b[1;34m'snap'\u001b[0m\u001b[1;33m,\u001b[0m\u001b[1;34m'inc_median'\u001b[0m\u001b[1;33m,\u001b[0m\u001b[1;34m'poverty'\u001b[0m\u001b[1;33m]\u001b[0m\u001b[1;33m]\u001b[0m\u001b[1;33m,\u001b[0m\u001b[0mzillow\u001b[0m\u001b[1;33m[\u001b[0m\u001b[1;33m[\u001b[0m\u001b[1;34m'zip5'\u001b[0m\u001b[1;33m,\u001b[0m\u001b[1;34m'2015-07'\u001b[0m\u001b[1;33m]\u001b[0m\u001b[1;33m]\u001b[0m\u001b[1;33m,\u001b[0m \u001b[0mon\u001b[0m\u001b[1;33m=\u001b[0m\u001b[1;34m'zip5'\u001b[0m\u001b[1;33m,\u001b[0m\u001b[0mcopy\u001b[0m\u001b[1;33m=\u001b[0m\u001b[0mFalse\u001b[0m\u001b[1;33m)\u001b[0m\u001b[1;33m\u001b[0m\u001b[0m\n\u001b[0m",
      "\u001b[1;31mNameError\u001b[0m: name 'zillow' is not defined"
     ]
    }
   ],
   "source": [
    "combined = pd.merge(acs[['zip5','snap','inc_median','poverty']],zillow[['zip5','2015-07']], on='zip5',copy=False)"
   ]
  },
  {
   "cell_type": "code",
   "execution_count": null,
   "metadata": {
    "collapsed": false
   },
   "outputs": [],
   "source": [
    "combined.head()"
   ]
  },
  {
   "cell_type": "code",
   "execution_count": null,
   "metadata": {
    "collapsed": false
   },
   "outputs": [],
   "source": [
    "combined[combined['zip5']==90210]"
   ]
  },
  {
   "cell_type": "code",
   "execution_count": null,
   "metadata": {
    "collapsed": true
   },
   "outputs": [],
   "source": [
    "zillow_combined = pd.merge(zillow_HVI[['zip5','2015-07']],zillow_RI[['zip5','2015-07']], on='zip5',copy=False)"
   ]
  },
  {
   "cell_type": "code",
   "execution_count": null,
   "metadata": {
    "collapsed": false
   },
   "outputs": [],
   "source": [
    "zillow_combined.columns = ['zip5','HVI','RI']"
   ]
  },
  {
   "cell_type": "code",
   "execution_count": null,
   "metadata": {
    "collapsed": true
   },
   "outputs": [],
   "source": [
    "#Beginning PCA Analysis (reference: http://sebastianraschka.com/Articles/2015_pca_in_3_steps.html)\n",
    "\n",
    "X = combined.ix[:,1:5].values\n",
    "y = combined.ix[:,0].values"
   ]
  },
  {
   "cell_type": "code",
   "execution_count": 44,
   "metadata": {
    "collapsed": false
   },
   "outputs": [
    {
     "ename": "NameError",
     "evalue": "name 'X' is not defined",
     "output_type": "error",
     "traceback": [
      "\u001b[1;31m---------------------------------------------------------------------------\u001b[0m",
      "\u001b[1;31mNameError\u001b[0m                                 Traceback (most recent call last)",
      "\u001b[1;32m<ipython-input-44-c39e596368d5>\u001b[0m in \u001b[0;36m<module>\u001b[1;34m()\u001b[0m\n\u001b[0;32m      1\u001b[0m \u001b[1;31m#Standardization\u001b[0m\u001b[1;33m\u001b[0m\u001b[1;33m\u001b[0m\u001b[0m\n\u001b[0;32m      2\u001b[0m \u001b[1;32mfrom\u001b[0m \u001b[0msklearn\u001b[0m\u001b[1;33m.\u001b[0m\u001b[0mpreprocessing\u001b[0m \u001b[1;32mimport\u001b[0m \u001b[0mStandardScaler\u001b[0m\u001b[1;33m\u001b[0m\u001b[0m\n\u001b[1;32m----> 3\u001b[1;33m \u001b[0mX_std\u001b[0m \u001b[1;33m=\u001b[0m \u001b[0mStandardScaler\u001b[0m\u001b[1;33m(\u001b[0m\u001b[1;33m)\u001b[0m\u001b[1;33m.\u001b[0m\u001b[0mfit_transform\u001b[0m\u001b[1;33m(\u001b[0m\u001b[0mX\u001b[0m\u001b[1;33m)\u001b[0m\u001b[1;33m\u001b[0m\u001b[0m\n\u001b[0m",
      "\u001b[1;31mNameError\u001b[0m: name 'X' is not defined"
     ]
    }
   ],
   "source": [
    "#Standardization\n",
    "from sklearn.preprocessing import StandardScaler\n",
    "X_std = StandardScaler().fit_transform(X)"
   ]
  },
  {
   "cell_type": "code",
   "execution_count": null,
   "metadata": {
    "collapsed": false
   },
   "outputs": [],
   "source": [
    "X_std"
   ]
  },
  {
   "cell_type": "code",
   "execution_count": null,
   "metadata": {
    "collapsed": false
   },
   "outputs": [],
   "source": [
    "#Same PCA analysis using scikit-learn\n",
    "\n",
    "from sklearn.decomposition import PCA as sklearnPCA\n",
    "sklearn_pca = sklearnPCA(n_components=2)\n",
    "Y_sklearn = sklearn_pca.fit_transform(X_std)"
   ]
  },
  {
   "cell_type": "code",
   "execution_count": null,
   "metadata": {
    "collapsed": false
   },
   "outputs": [],
   "source": [
    "Y_sklearn"
   ]
  },
  {
   "cell_type": "code",
   "execution_count": null,
   "metadata": {
    "collapsed": false
   },
   "outputs": [],
   "source": [
    "df = pd.DataFrame({'X':Y_sklearn[:,0],'Y':Y_sklearn[:,1]})"
   ]
  },
  {
   "cell_type": "code",
   "execution_count": 72,
   "metadata": {
    "collapsed": false
   },
   "outputs": [],
   "source": [
    "df = combined[['zip5']].merge(df,left_index=True, right_index=True)"
   ]
  },
  {
   "cell_type": "code",
   "execution_count": 73,
   "metadata": {
    "collapsed": false
   },
   "outputs": [
    {
     "data": {
      "text/html": [
       "<div>\n",
       "<table border=\"1\" class=\"dataframe\">\n",
       "  <thead>\n",
       "    <tr style=\"text-align: right;\">\n",
       "      <th></th>\n",
       "      <th>zip5</th>\n",
       "      <th>X</th>\n",
       "      <th>Y</th>\n",
       "    </tr>\n",
       "  </thead>\n",
       "  <tbody>\n",
       "    <tr>\n",
       "      <th>11183</th>\n",
       "      <td>90210</td>\n",
       "      <td>-9.901957</td>\n",
       "      <td>-14.466638</td>\n",
       "    </tr>\n",
       "  </tbody>\n",
       "</table>\n",
       "</div>"
      ],
      "text/plain": [
       "        zip5         X          Y\n",
       "11183  90210 -9.901957 -14.466638"
      ]
     },
     "execution_count": 73,
     "metadata": {},
     "output_type": "execute_result"
    }
   ],
   "source": [
    "df[df['zip5']==90210]"
   ]
  },
  {
   "cell_type": "code",
   "execution_count": 74,
   "metadata": {
    "collapsed": false
   },
   "outputs": [
    {
     "data": {
      "text/plain": [
       "<matplotlib.axes._subplots.AxesSubplot at 0x7ff151755690>"
      ]
     },
     "execution_count": 74,
     "metadata": {},
     "output_type": "execute_result"
    },
    {
     "data": {
      "image/png": "[encoded data removed]",
      "text/plain": [
       "<matplotlib.figure.Figure at 0x7ff151744610>"
      ]
     },
     "metadata": {},
     "output_type": "display_data"
    }
   ],
   "source": [
    "#Top of arc = High Housing, low Income\n",
    "#Negative = High Housing, High Income\n",
    "#Positive = Low Housing, Low Income\n",
    "df.plot(kind='scatter',x='X',y='Y')"
   ]
  },
  {
   "cell_type": "code",
   "execution_count": 77,
   "metadata": {
    "collapsed": false
   },
   "outputs": [
    {
     "data": {
      "text/html": [
       "<div>\n",
       "<table border=\"1\" class=\"dataframe\">\n",
       "  <thead>\n",
       "    <tr style=\"text-align: right;\">\n",
       "      <th></th>\n",
       "      <th>zip5</th>\n",
       "      <th>X</th>\n",
       "      <th>Y</th>\n",
       "    </tr>\n",
       "  </thead>\n",
       "  <tbody>\n",
       "    <tr>\n",
       "      <th>5201</th>\n",
       "      <td>33109</td>\n",
       "      <td>-7.667834</td>\n",
       "      <td>-10.175178</td>\n",
       "    </tr>\n",
       "    <tr>\n",
       "      <th>11183</th>\n",
       "      <td>90210</td>\n",
       "      <td>-9.901957</td>\n",
       "      <td>-14.466638</td>\n",
       "    </tr>\n",
       "    <tr>\n",
       "      <th>11220</th>\n",
       "      <td>90402</td>\n",
       "      <td>-7.893375</td>\n",
       "      <td>-10.070110</td>\n",
       "    </tr>\n",
       "    <tr>\n",
       "      <th>11866</th>\n",
       "      <td>94027</td>\n",
       "      <td>-13.161680</td>\n",
       "      <td>-17.342531</td>\n",
       "    </tr>\n",
       "  </tbody>\n",
       "</table>\n",
       "</div>"
      ],
      "text/plain": [
       "        zip5          X          Y\n",
       "5201   33109  -7.667834 -10.175178\n",
       "11183  90210  -9.901957 -14.466638\n",
       "11220  90402  -7.893375 -10.070110\n",
       "11866  94027 -13.161680 -17.342531"
      ]
     },
     "execution_count": 77,
     "metadata": {},
     "output_type": "execute_result"
    }
   ],
   "source": [
    "df[df['Y']<-10]"
   ]
  },
  {
   "cell_type": "code",
   "execution_count": 79,
   "metadata": {
    "collapsed": false
   },
   "outputs": [
    {
     "data": {
      "text/html": [
       "<div>\n",
       "<table border=\"1\" class=\"dataframe\">\n",
       "  <thead>\n",
       "    <tr style=\"text-align: right;\">\n",
       "      <th></th>\n",
       "      <th>zip5</th>\n",
       "      <th>X</th>\n",
       "      <th>Y</th>\n",
       "    </tr>\n",
       "  </thead>\n",
       "  <tbody>\n",
       "    <tr>\n",
       "      <th>6183</th>\n",
       "      <td>37915</td>\n",
       "      <td>8.058904</td>\n",
       "      <td>-4.534861</td>\n",
       "    </tr>\n",
       "    <tr>\n",
       "      <th>6952</th>\n",
       "      <td>45232</td>\n",
       "      <td>8.904873</td>\n",
       "      <td>-5.158492</td>\n",
       "    </tr>\n",
       "  </tbody>\n",
       "</table>\n",
       "</div>"
      ],
      "text/plain": [
       "       zip5         X         Y\n",
       "6183  37915  8.058904 -4.534861\n",
       "6952  45232  8.904873 -5.158492"
      ]
     },
     "execution_count": 79,
     "metadata": {},
     "output_type": "execute_result"
    }
   ],
   "source": [
    "df[df['X']>8]"
   ]
  },
  {
   "cell_type": "code",
   "execution_count": 94,
   "metadata": {
    "collapsed": false
   },
   "outputs": [
    {
     "data": {
      "text/html": [
       "<div>\n",
       "<table border=\"1\" class=\"dataframe\">\n",
       "  <thead>\n",
       "    <tr style=\"text-align: right;\">\n",
       "      <th></th>\n",
       "      <th>zip5</th>\n",
       "      <th>X</th>\n",
       "      <th>Y</th>\n",
       "    </tr>\n",
       "  </thead>\n",
       "  <tbody>\n",
       "    <tr>\n",
       "      <th>21</th>\n",
       "      <td>1053</td>\n",
       "      <td>0.064608</td>\n",
       "      <td>-0.245104</td>\n",
       "    </tr>\n",
       "    <tr>\n",
       "      <th>62</th>\n",
       "      <td>1240</td>\n",
       "      <td>-0.257232</td>\n",
       "      <td>-0.021684</td>\n",
       "    </tr>\n",
       "    <tr>\n",
       "      <th>63</th>\n",
       "      <td>1245</td>\n",
       "      <td>-0.279738</td>\n",
       "      <td>-0.975474</td>\n",
       "    </tr>\n",
       "    <tr>\n",
       "      <th>69</th>\n",
       "      <td>1262</td>\n",
       "      <td>-0.353235</td>\n",
       "      <td>-0.176648</td>\n",
       "    </tr>\n",
       "    <tr>\n",
       "      <th>90</th>\n",
       "      <td>1375</td>\n",
       "      <td>0.306770</td>\n",
       "      <td>-0.183014</td>\n",
       "    </tr>\n",
       "    <tr>\n",
       "      <th>104</th>\n",
       "      <td>1464</td>\n",
       "      <td>-0.307914</td>\n",
       "      <td>-0.007825</td>\n",
       "    </tr>\n",
       "    <tr>\n",
       "      <th>119</th>\n",
       "      <td>1518</td>\n",
       "      <td>-0.037178</td>\n",
       "      <td>-0.082075</td>\n",
       "    </tr>\n",
       "    <tr>\n",
       "      <th>132</th>\n",
       "      <td>1537</td>\n",
       "      <td>0.226301</td>\n",
       "      <td>-0.377547</td>\n",
       "    </tr>\n",
       "    <tr>\n",
       "      <th>163</th>\n",
       "      <td>1702</td>\n",
       "      <td>0.364843</td>\n",
       "      <td>-0.195228</td>\n",
       "    </tr>\n",
       "    <tr>\n",
       "      <th>241</th>\n",
       "      <td>1970</td>\n",
       "      <td>0.435376</td>\n",
       "      <td>-0.476600</td>\n",
       "    </tr>\n",
       "    <tr>\n",
       "      <th>285</th>\n",
       "      <td>2127</td>\n",
       "      <td>-0.145804</td>\n",
       "      <td>-1.266902</td>\n",
       "    </tr>\n",
       "    <tr>\n",
       "      <th>288</th>\n",
       "      <td>2130</td>\n",
       "      <td>-0.296941</td>\n",
       "      <td>-1.234145</td>\n",
       "    </tr>\n",
       "    <tr>\n",
       "      <th>289</th>\n",
       "      <td>2131</td>\n",
       "      <td>0.046681</td>\n",
       "      <td>-0.797299</td>\n",
       "    </tr>\n",
       "    <tr>\n",
       "      <th>293</th>\n",
       "      <td>2136</td>\n",
       "      <td>-0.048670</td>\n",
       "      <td>-0.168980</td>\n",
       "    </tr>\n",
       "    <tr>\n",
       "      <th>297</th>\n",
       "      <td>2141</td>\n",
       "      <td>-0.257093</td>\n",
       "      <td>-1.413339</td>\n",
       "    </tr>\n",
       "    <tr>\n",
       "      <th>302</th>\n",
       "      <td>2148</td>\n",
       "      <td>0.321340</td>\n",
       "      <td>-0.468417</td>\n",
       "    </tr>\n",
       "    <tr>\n",
       "      <th>308</th>\n",
       "      <td>2169</td>\n",
       "      <td>-0.119179</td>\n",
       "      <td>-0.194188</td>\n",
       "    </tr>\n",
       "    <tr>\n",
       "      <th>316</th>\n",
       "      <td>2189</td>\n",
       "      <td>-0.003236</td>\n",
       "      <td>-0.185794</td>\n",
       "    </tr>\n",
       "    <tr>\n",
       "      <th>340</th>\n",
       "      <td>2368</td>\n",
       "      <td>0.145833</td>\n",
       "      <td>-0.122926</td>\n",
       "    </tr>\n",
       "    <tr>\n",
       "      <th>389</th>\n",
       "      <td>2630</td>\n",
       "      <td>-0.471313</td>\n",
       "      <td>-1.453163</td>\n",
       "    </tr>\n",
       "    <tr>\n",
       "      <th>405</th>\n",
       "      <td>2657</td>\n",
       "      <td>0.162036</td>\n",
       "      <td>-0.779767</td>\n",
       "    </tr>\n",
       "    <tr>\n",
       "      <th>470</th>\n",
       "      <td>2840</td>\n",
       "      <td>-0.344479</td>\n",
       "      <td>-0.208771</td>\n",
       "    </tr>\n",
       "    <tr>\n",
       "      <th>484</th>\n",
       "      <td>2882</td>\n",
       "      <td>-0.243592</td>\n",
       "      <td>-0.851685</td>\n",
       "    </tr>\n",
       "    <tr>\n",
       "      <th>498</th>\n",
       "      <td>2906</td>\n",
       "      <td>-0.171606</td>\n",
       "      <td>-1.020005</td>\n",
       "    </tr>\n",
       "    <tr>\n",
       "      <th>566</th>\n",
       "      <td>3253</td>\n",
       "      <td>0.004081</td>\n",
       "      <td>-0.246357</td>\n",
       "    </tr>\n",
       "    <tr>\n",
       "      <th>602</th>\n",
       "      <td>3461</td>\n",
       "      <td>0.181132</td>\n",
       "      <td>-0.051355</td>\n",
       "    </tr>\n",
       "    <tr>\n",
       "      <th>651</th>\n",
       "      <td>3824</td>\n",
       "      <td>0.020621</td>\n",
       "      <td>-0.989868</td>\n",
       "    </tr>\n",
       "    <tr>\n",
       "      <th>685</th>\n",
       "      <td>3874</td>\n",
       "      <td>-0.018771</td>\n",
       "      <td>-0.135976</td>\n",
       "    </tr>\n",
       "    <tr>\n",
       "      <th>719</th>\n",
       "      <td>5443</td>\n",
       "      <td>0.468227</td>\n",
       "      <td>-0.042621</td>\n",
       "    </tr>\n",
       "    <tr>\n",
       "      <th>743</th>\n",
       "      <td>5651</td>\n",
       "      <td>0.225654</td>\n",
       "      <td>-0.401573</td>\n",
       "    </tr>\n",
       "    <tr>\n",
       "      <th>...</th>\n",
       "      <td>...</td>\n",
       "      <td>...</td>\n",
       "      <td>...</td>\n",
       "    </tr>\n",
       "    <tr>\n",
       "      <th>12730</th>\n",
       "      <td>98261</td>\n",
       "      <td>-0.123482</td>\n",
       "      <td>-0.724112</td>\n",
       "    </tr>\n",
       "    <tr>\n",
       "      <th>12731</th>\n",
       "      <td>98262</td>\n",
       "      <td>-0.465071</td>\n",
       "      <td>-0.225020</td>\n",
       "    </tr>\n",
       "    <tr>\n",
       "      <th>12735</th>\n",
       "      <td>98270</td>\n",
       "      <td>0.114647</td>\n",
       "      <td>-0.186863</td>\n",
       "    </tr>\n",
       "    <tr>\n",
       "      <th>12736</th>\n",
       "      <td>98271</td>\n",
       "      <td>-0.137044</td>\n",
       "      <td>-0.040737</td>\n",
       "    </tr>\n",
       "    <tr>\n",
       "      <th>12739</th>\n",
       "      <td>98274</td>\n",
       "      <td>0.032027</td>\n",
       "      <td>-0.077227</td>\n",
       "    </tr>\n",
       "    <tr>\n",
       "      <th>12745</th>\n",
       "      <td>98292</td>\n",
       "      <td>-0.494928</td>\n",
       "      <td>-0.291293</td>\n",
       "    </tr>\n",
       "    <tr>\n",
       "      <th>12754</th>\n",
       "      <td>98321</td>\n",
       "      <td>-0.251319</td>\n",
       "      <td>-0.143365</td>\n",
       "    </tr>\n",
       "    <tr>\n",
       "      <th>12776</th>\n",
       "      <td>98366</td>\n",
       "      <td>0.455906</td>\n",
       "      <td>-0.052767</td>\n",
       "    </tr>\n",
       "    <tr>\n",
       "      <th>12777</th>\n",
       "      <td>98367</td>\n",
       "      <td>-0.368170</td>\n",
       "      <td>-0.111199</td>\n",
       "    </tr>\n",
       "    <tr>\n",
       "      <th>12781</th>\n",
       "      <td>98372</td>\n",
       "      <td>0.134852</td>\n",
       "      <td>-0.204046</td>\n",
       "    </tr>\n",
       "    <tr>\n",
       "      <th>12782</th>\n",
       "      <td>98373</td>\n",
       "      <td>0.308655</td>\n",
       "      <td>-0.202166</td>\n",
       "    </tr>\n",
       "    <tr>\n",
       "      <th>12791</th>\n",
       "      <td>98390</td>\n",
       "      <td>0.347422</td>\n",
       "      <td>-0.030591</td>\n",
       "    </tr>\n",
       "    <tr>\n",
       "      <th>12794</th>\n",
       "      <td>98394</td>\n",
       "      <td>0.134061</td>\n",
       "      <td>-0.078051</td>\n",
       "    </tr>\n",
       "    <tr>\n",
       "      <th>12796</th>\n",
       "      <td>98403</td>\n",
       "      <td>-0.239239</td>\n",
       "      <td>-0.157914</td>\n",
       "    </tr>\n",
       "    <tr>\n",
       "      <th>12799</th>\n",
       "      <td>98406</td>\n",
       "      <td>0.222205</td>\n",
       "      <td>-0.370056</td>\n",
       "    </tr>\n",
       "    <tr>\n",
       "      <th>12800</th>\n",
       "      <td>98407</td>\n",
       "      <td>-0.237965</td>\n",
       "      <td>-0.084691</td>\n",
       "    </tr>\n",
       "    <tr>\n",
       "      <th>12811</th>\n",
       "      <td>98466</td>\n",
       "      <td>0.177025</td>\n",
       "      <td>-0.067364</td>\n",
       "    </tr>\n",
       "    <tr>\n",
       "      <th>12812</th>\n",
       "      <td>98467</td>\n",
       "      <td>0.179890</td>\n",
       "      <td>-0.387212</td>\n",
       "    </tr>\n",
       "    <tr>\n",
       "      <th>12818</th>\n",
       "      <td>98506</td>\n",
       "      <td>0.144386</td>\n",
       "      <td>-0.066760</td>\n",
       "    </tr>\n",
       "    <tr>\n",
       "      <th>12821</th>\n",
       "      <td>98516</td>\n",
       "      <td>-0.348927</td>\n",
       "      <td>-0.061699</td>\n",
       "    </tr>\n",
       "    <tr>\n",
       "      <th>12838</th>\n",
       "      <td>98580</td>\n",
       "      <td>-0.077394</td>\n",
       "      <td>-0.243003</td>\n",
       "    </tr>\n",
       "    <tr>\n",
       "      <th>12866</th>\n",
       "      <td>98671</td>\n",
       "      <td>-0.192109</td>\n",
       "      <td>-0.202126</td>\n",
       "    </tr>\n",
       "    <tr>\n",
       "      <th>12867</th>\n",
       "      <td>98674</td>\n",
       "      <td>0.154816</td>\n",
       "      <td>-0.192993</td>\n",
       "    </tr>\n",
       "    <tr>\n",
       "      <th>12870</th>\n",
       "      <td>98683</td>\n",
       "      <td>0.024403</td>\n",
       "      <td>-0.033818</td>\n",
       "    </tr>\n",
       "    <tr>\n",
       "      <th>12871</th>\n",
       "      <td>98684</td>\n",
       "      <td>0.385029</td>\n",
       "      <td>-0.035259</td>\n",
       "    </tr>\n",
       "    <tr>\n",
       "      <th>12873</th>\n",
       "      <td>98686</td>\n",
       "      <td>-0.437751</td>\n",
       "      <td>-0.139231</td>\n",
       "    </tr>\n",
       "    <tr>\n",
       "      <th>12877</th>\n",
       "      <td>98816</td>\n",
       "      <td>0.484283</td>\n",
       "      <td>-0.157040</td>\n",
       "    </tr>\n",
       "    <tr>\n",
       "      <th>12880</th>\n",
       "      <td>98826</td>\n",
       "      <td>0.232554</td>\n",
       "      <td>-0.162735</td>\n",
       "    </tr>\n",
       "    <tr>\n",
       "      <th>12882</th>\n",
       "      <td>98831</td>\n",
       "      <td>0.299221</td>\n",
       "      <td>-0.050048</td>\n",
       "    </tr>\n",
       "    <tr>\n",
       "      <th>12971</th>\n",
       "      <td>99654</td>\n",
       "      <td>-0.252891</td>\n",
       "      <td>-0.038480</td>\n",
       "    </tr>\n",
       "  </tbody>\n",
       "</table>\n",
       "<p>597 rows × 3 columns</p>\n",
       "</div>"
      ],
      "text/plain": [
       "        zip5         X         Y\n",
       "21      1053  0.064608 -0.245104\n",
       "62      1240 -0.257232 -0.021684\n",
       "63      1245 -0.279738 -0.975474\n",
       "69      1262 -0.353235 -0.176648\n",
       "90      1375  0.306770 -0.183014\n",
       "104     1464 -0.307914 -0.007825\n",
       "119     1518 -0.037178 -0.082075\n",
       "132     1537  0.226301 -0.377547\n",
       "163     1702  0.364843 -0.195228\n",
       "241     1970  0.435376 -0.476600\n",
       "285     2127 -0.145804 -1.266902\n",
       "288     2130 -0.296941 -1.234145\n",
       "289     2131  0.046681 -0.797299\n",
       "293     2136 -0.048670 -0.168980\n",
       "297     2141 -0.257093 -1.413339\n",
       "302     2148  0.321340 -0.468417\n",
       "308     2169 -0.119179 -0.194188\n",
       "316     2189 -0.003236 -0.185794\n",
       "340     2368  0.145833 -0.122926\n",
       "389     2630 -0.471313 -1.453163\n",
       "405     2657  0.162036 -0.779767\n",
       "470     2840 -0.344479 -0.208771\n",
       "484     2882 -0.243592 -0.851685\n",
       "498     2906 -0.171606 -1.020005\n",
       "566     3253  0.004081 -0.246357\n",
       "602     3461  0.181132 -0.051355\n",
       "651     3824  0.020621 -0.989868\n",
       "685     3874 -0.018771 -0.135976\n",
       "719     5443  0.468227 -0.042621\n",
       "743     5651  0.225654 -0.401573\n",
       "...      ...       ...       ...\n",
       "12730  98261 -0.123482 -0.724112\n",
       "12731  98262 -0.465071 -0.225020\n",
       "12735  98270  0.114647 -0.186863\n",
       "12736  98271 -0.137044 -0.040737\n",
       "12739  98274  0.032027 -0.077227\n",
       "12745  98292 -0.494928 -0.291293\n",
       "12754  98321 -0.251319 -0.143365\n",
       "12776  98366  0.455906 -0.052767\n",
       "12777  98367 -0.368170 -0.111199\n",
       "12781  98372  0.134852 -0.204046\n",
       "12782  98373  0.308655 -0.202166\n",
       "12791  98390  0.347422 -0.030591\n",
       "12794  98394  0.134061 -0.078051\n",
       "12796  98403 -0.239239 -0.157914\n",
       "12799  98406  0.222205 -0.370056\n",
       "12800  98407 -0.237965 -0.084691\n",
       "12811  98466  0.177025 -0.067364\n",
       "12812  98467  0.179890 -0.387212\n",
       "12818  98506  0.144386 -0.066760\n",
       "12821  98516 -0.348927 -0.061699\n",
       "12838  98580 -0.077394 -0.243003\n",
       "12866  98671 -0.192109 -0.202126\n",
       "12867  98674  0.154816 -0.192993\n",
       "12870  98683  0.024403 -0.033818\n",
       "12871  98684  0.385029 -0.035259\n",
       "12873  98686 -0.437751 -0.139231\n",
       "12877  98816  0.484283 -0.157040\n",
       "12880  98826  0.232554 -0.162735\n",
       "12882  98831  0.299221 -0.050048\n",
       "12971  99654 -0.252891 -0.038480\n",
       "\n",
       "[597 rows x 3 columns]"
      ]
     },
     "execution_count": 94,
     "metadata": {},
     "output_type": "execute_result"
    }
   ],
   "source": [
    "df[(df['X']>-.5) & (df['X']<.5) & (df['Y']<0)]"
   ]
  },
  {
   "cell_type": "code",
   "execution_count": 80,
   "metadata": {
    "collapsed": false
   },
   "outputs": [
    {
     "data": {
      "text/html": [
       "<div>\n",
       "<table border=\"1\" class=\"dataframe\">\n",
       "  <thead>\n",
       "    <tr style=\"text-align: right;\">\n",
       "      <th></th>\n",
       "      <th>zip5</th>\n",
       "      <th>X</th>\n",
       "      <th>Y</th>\n",
       "    </tr>\n",
       "  </thead>\n",
       "  <tbody>\n",
       "    <tr>\n",
       "      <th>0</th>\n",
       "      <td>1001</td>\n",
       "      <td>-0.209610</td>\n",
       "      <td>0.555319</td>\n",
       "    </tr>\n",
       "    <tr>\n",
       "      <th>2</th>\n",
       "      <td>1005</td>\n",
       "      <td>-0.998922</td>\n",
       "      <td>0.837407</td>\n",
       "    </tr>\n",
       "    <tr>\n",
       "      <th>3</th>\n",
       "      <td>1007</td>\n",
       "      <td>-0.529983</td>\n",
       "      <td>0.114181</td>\n",
       "    </tr>\n",
       "    <tr>\n",
       "      <th>4</th>\n",
       "      <td>1008</td>\n",
       "      <td>-1.144768</td>\n",
       "      <td>0.811163</td>\n",
       "    </tr>\n",
       "    <tr>\n",
       "      <th>5</th>\n",
       "      <td>1010</td>\n",
       "      <td>-0.971439</td>\n",
       "      <td>0.569256</td>\n",
       "    </tr>\n",
       "    <tr>\n",
       "      <th>6</th>\n",
       "      <td>1011</td>\n",
       "      <td>-0.341337</td>\n",
       "      <td>0.577316</td>\n",
       "    </tr>\n",
       "    <tr>\n",
       "      <th>8</th>\n",
       "      <td>1020</td>\n",
       "      <td>0.309196</td>\n",
       "      <td>0.520136</td>\n",
       "    </tr>\n",
       "    <tr>\n",
       "      <th>10</th>\n",
       "      <td>1026</td>\n",
       "      <td>-0.552681</td>\n",
       "      <td>0.720066</td>\n",
       "    </tr>\n",
       "    <tr>\n",
       "      <th>11</th>\n",
       "      <td>1027</td>\n",
       "      <td>-0.514904</td>\n",
       "      <td>0.554378</td>\n",
       "    </tr>\n",
       "    <tr>\n",
       "      <th>12</th>\n",
       "      <td>1028</td>\n",
       "      <td>-0.983329</td>\n",
       "      <td>0.449181</td>\n",
       "    </tr>\n",
       "    <tr>\n",
       "      <th>13</th>\n",
       "      <td>1030</td>\n",
       "      <td>-0.414434</td>\n",
       "      <td>0.293022</td>\n",
       "    </tr>\n",
       "    <tr>\n",
       "      <th>14</th>\n",
       "      <td>1033</td>\n",
       "      <td>-1.117019</td>\n",
       "      <td>0.777389</td>\n",
       "    </tr>\n",
       "    <tr>\n",
       "      <th>15</th>\n",
       "      <td>1034</td>\n",
       "      <td>-1.064903</td>\n",
       "      <td>0.387531</td>\n",
       "    </tr>\n",
       "    <tr>\n",
       "      <th>17</th>\n",
       "      <td>1036</td>\n",
       "      <td>-1.346627</td>\n",
       "      <td>0.566806</td>\n",
       "    </tr>\n",
       "    <tr>\n",
       "      <th>18</th>\n",
       "      <td>1038</td>\n",
       "      <td>-0.713128</td>\n",
       "      <td>0.253932</td>\n",
       "    </tr>\n",
       "    <tr>\n",
       "      <th>20</th>\n",
       "      <td>1050</td>\n",
       "      <td>0.029264</td>\n",
       "      <td>0.535282</td>\n",
       "    </tr>\n",
       "    <tr>\n",
       "      <th>23</th>\n",
       "      <td>1056</td>\n",
       "      <td>-0.558750</td>\n",
       "      <td>0.710186</td>\n",
       "    </tr>\n",
       "    <tr>\n",
       "      <th>24</th>\n",
       "      <td>1057</td>\n",
       "      <td>-0.211522</td>\n",
       "      <td>0.191307</td>\n",
       "    </tr>\n",
       "    <tr>\n",
       "      <th>26</th>\n",
       "      <td>1062</td>\n",
       "      <td>-0.638163</td>\n",
       "      <td>0.351628</td>\n",
       "    </tr>\n",
       "    <tr>\n",
       "      <th>27</th>\n",
       "      <td>1068</td>\n",
       "      <td>-1.274841</td>\n",
       "      <td>0.398266</td>\n",
       "    </tr>\n",
       "    <tr>\n",
       "      <th>28</th>\n",
       "      <td>1069</td>\n",
       "      <td>0.365876</td>\n",
       "      <td>0.419715</td>\n",
       "    </tr>\n",
       "    <tr>\n",
       "      <th>29</th>\n",
       "      <td>1071</td>\n",
       "      <td>-1.081674</td>\n",
       "      <td>0.770970</td>\n",
       "    </tr>\n",
       "    <tr>\n",
       "      <th>30</th>\n",
       "      <td>1072</td>\n",
       "      <td>-0.824851</td>\n",
       "      <td>0.564430</td>\n",
       "    </tr>\n",
       "    <tr>\n",
       "      <th>31</th>\n",
       "      <td>1073</td>\n",
       "      <td>-1.282759</td>\n",
       "      <td>0.450727</td>\n",
       "    </tr>\n",
       "    <tr>\n",
       "      <th>32</th>\n",
       "      <td>1075</td>\n",
       "      <td>-0.582318</td>\n",
       "      <td>0.684515</td>\n",
       "    </tr>\n",
       "    <tr>\n",
       "      <th>33</th>\n",
       "      <td>1077</td>\n",
       "      <td>-1.349392</td>\n",
       "      <td>0.784897</td>\n",
       "    </tr>\n",
       "    <tr>\n",
       "      <th>35</th>\n",
       "      <td>1081</td>\n",
       "      <td>-0.217643</td>\n",
       "      <td>0.656071</td>\n",
       "    </tr>\n",
       "    <tr>\n",
       "      <th>36</th>\n",
       "      <td>1082</td>\n",
       "      <td>0.558238</td>\n",
       "      <td>0.177666</td>\n",
       "    </tr>\n",
       "    <tr>\n",
       "      <th>37</th>\n",
       "      <td>1083</td>\n",
       "      <td>0.871581</td>\n",
       "      <td>0.289997</td>\n",
       "    </tr>\n",
       "    <tr>\n",
       "      <th>38</th>\n",
       "      <td>1085</td>\n",
       "      <td>0.224208</td>\n",
       "      <td>0.145490</td>\n",
       "    </tr>\n",
       "    <tr>\n",
       "      <th>...</th>\n",
       "      <td>...</td>\n",
       "      <td>...</td>\n",
       "      <td>...</td>\n",
       "    </tr>\n",
       "    <tr>\n",
       "      <th>12936</th>\n",
       "      <td>99216</td>\n",
       "      <td>0.957613</td>\n",
       "      <td>0.076701</td>\n",
       "    </tr>\n",
       "    <tr>\n",
       "      <th>12939</th>\n",
       "      <td>99223</td>\n",
       "      <td>-0.205127</td>\n",
       "      <td>0.264317</td>\n",
       "    </tr>\n",
       "    <tr>\n",
       "      <th>12940</th>\n",
       "      <td>99224</td>\n",
       "      <td>0.068346</td>\n",
       "      <td>0.049541</td>\n",
       "    </tr>\n",
       "    <tr>\n",
       "      <th>12942</th>\n",
       "      <td>99320</td>\n",
       "      <td>0.303124</td>\n",
       "      <td>0.169849</td>\n",
       "    </tr>\n",
       "    <tr>\n",
       "      <th>12943</th>\n",
       "      <td>99323</td>\n",
       "      <td>-0.460195</td>\n",
       "      <td>0.423740</td>\n",
       "    </tr>\n",
       "    <tr>\n",
       "      <th>12946</th>\n",
       "      <td>99337</td>\n",
       "      <td>-0.471959</td>\n",
       "      <td>0.433329</td>\n",
       "    </tr>\n",
       "    <tr>\n",
       "      <th>12947</th>\n",
       "      <td>99338</td>\n",
       "      <td>-1.669890</td>\n",
       "      <td>0.446592</td>\n",
       "    </tr>\n",
       "    <tr>\n",
       "      <th>12949</th>\n",
       "      <td>99352</td>\n",
       "      <td>-0.749953</td>\n",
       "      <td>0.239548</td>\n",
       "    </tr>\n",
       "    <tr>\n",
       "      <th>12950</th>\n",
       "      <td>99353</td>\n",
       "      <td>-0.859055</td>\n",
       "      <td>0.326252</td>\n",
       "    </tr>\n",
       "    <tr>\n",
       "      <th>12951</th>\n",
       "      <td>99354</td>\n",
       "      <td>0.056020</td>\n",
       "      <td>0.204216</td>\n",
       "    </tr>\n",
       "    <tr>\n",
       "      <th>12953</th>\n",
       "      <td>99402</td>\n",
       "      <td>0.523632</td>\n",
       "      <td>0.028952</td>\n",
       "    </tr>\n",
       "    <tr>\n",
       "      <th>12954</th>\n",
       "      <td>99403</td>\n",
       "      <td>0.827492</td>\n",
       "      <td>0.369117</td>\n",
       "    </tr>\n",
       "    <tr>\n",
       "      <th>12956</th>\n",
       "      <td>99502</td>\n",
       "      <td>-1.244004</td>\n",
       "      <td>0.122944</td>\n",
       "    </tr>\n",
       "    <tr>\n",
       "      <th>12958</th>\n",
       "      <td>99504</td>\n",
       "      <td>-0.593647</td>\n",
       "      <td>0.166664</td>\n",
       "    </tr>\n",
       "    <tr>\n",
       "      <th>12959</th>\n",
       "      <td>99507</td>\n",
       "      <td>-1.278218</td>\n",
       "      <td>0.121707</td>\n",
       "    </tr>\n",
       "    <tr>\n",
       "      <th>12961</th>\n",
       "      <td>99515</td>\n",
       "      <td>-1.500315</td>\n",
       "      <td>0.217164</td>\n",
       "    </tr>\n",
       "    <tr>\n",
       "      <th>12963</th>\n",
       "      <td>99517</td>\n",
       "      <td>-0.686718</td>\n",
       "      <td>0.117141</td>\n",
       "    </tr>\n",
       "    <tr>\n",
       "      <th>12964</th>\n",
       "      <td>99518</td>\n",
       "      <td>-0.837455</td>\n",
       "      <td>0.388418</td>\n",
       "    </tr>\n",
       "    <tr>\n",
       "      <th>12965</th>\n",
       "      <td>99567</td>\n",
       "      <td>-1.708138</td>\n",
       "      <td>0.196757</td>\n",
       "    </tr>\n",
       "    <tr>\n",
       "      <th>12966</th>\n",
       "      <td>99577</td>\n",
       "      <td>-1.830426</td>\n",
       "      <td>0.197862</td>\n",
       "    </tr>\n",
       "    <tr>\n",
       "      <th>12968</th>\n",
       "      <td>99611</td>\n",
       "      <td>-0.504399</td>\n",
       "      <td>0.385261</td>\n",
       "    </tr>\n",
       "    <tr>\n",
       "      <th>12969</th>\n",
       "      <td>99615</td>\n",
       "      <td>-0.817403</td>\n",
       "      <td>0.129799</td>\n",
       "    </tr>\n",
       "    <tr>\n",
       "      <th>12970</th>\n",
       "      <td>99645</td>\n",
       "      <td>-0.735283</td>\n",
       "      <td>0.256060</td>\n",
       "    </tr>\n",
       "    <tr>\n",
       "      <th>12972</th>\n",
       "      <td>99669</td>\n",
       "      <td>-0.341638</td>\n",
       "      <td>0.435116</td>\n",
       "    </tr>\n",
       "    <tr>\n",
       "      <th>12973</th>\n",
       "      <td>99701</td>\n",
       "      <td>0.366613</td>\n",
       "      <td>0.344208</td>\n",
       "    </tr>\n",
       "    <tr>\n",
       "      <th>12974</th>\n",
       "      <td>99705</td>\n",
       "      <td>-0.864881</td>\n",
       "      <td>0.529043</td>\n",
       "    </tr>\n",
       "    <tr>\n",
       "      <th>12975</th>\n",
       "      <td>99709</td>\n",
       "      <td>-0.773324</td>\n",
       "      <td>0.433899</td>\n",
       "    </tr>\n",
       "    <tr>\n",
       "      <th>12976</th>\n",
       "      <td>99712</td>\n",
       "      <td>-1.499410</td>\n",
       "      <td>0.634598</td>\n",
       "    </tr>\n",
       "    <tr>\n",
       "      <th>12977</th>\n",
       "      <td>99801</td>\n",
       "      <td>-1.137844</td>\n",
       "      <td>0.055228</td>\n",
       "    </tr>\n",
       "    <tr>\n",
       "      <th>12978</th>\n",
       "      <td>99901</td>\n",
       "      <td>0.008810</td>\n",
       "      <td>0.095256</td>\n",
       "    </tr>\n",
       "  </tbody>\n",
       "</table>\n",
       "<p>8093 rows × 3 columns</p>\n",
       "</div>"
      ],
      "text/plain": [
       "        zip5         X         Y\n",
       "0       1001 -0.209610  0.555319\n",
       "2       1005 -0.998922  0.837407\n",
       "3       1007 -0.529983  0.114181\n",
       "4       1008 -1.144768  0.811163\n",
       "5       1010 -0.971439  0.569256\n",
       "6       1011 -0.341337  0.577316\n",
       "8       1020  0.309196  0.520136\n",
       "10      1026 -0.552681  0.720066\n",
       "11      1027 -0.514904  0.554378\n",
       "12      1028 -0.983329  0.449181\n",
       "13      1030 -0.414434  0.293022\n",
       "14      1033 -1.117019  0.777389\n",
       "15      1034 -1.064903  0.387531\n",
       "17      1036 -1.346627  0.566806\n",
       "18      1038 -0.713128  0.253932\n",
       "20      1050  0.029264  0.535282\n",
       "23      1056 -0.558750  0.710186\n",
       "24      1057 -0.211522  0.191307\n",
       "26      1062 -0.638163  0.351628\n",
       "27      1068 -1.274841  0.398266\n",
       "28      1069  0.365876  0.419715\n",
       "29      1071 -1.081674  0.770970\n",
       "30      1072 -0.824851  0.564430\n",
       "31      1073 -1.282759  0.450727\n",
       "32      1075 -0.582318  0.684515\n",
       "33      1077 -1.349392  0.784897\n",
       "35      1081 -0.217643  0.656071\n",
       "36      1082  0.558238  0.177666\n",
       "37      1083  0.871581  0.289997\n",
       "38      1085  0.224208  0.145490\n",
       "...      ...       ...       ...\n",
       "12936  99216  0.957613  0.076701\n",
       "12939  99223 -0.205127  0.264317\n",
       "12940  99224  0.068346  0.049541\n",
       "12942  99320  0.303124  0.169849\n",
       "12943  99323 -0.460195  0.423740\n",
       "12946  99337 -0.471959  0.433329\n",
       "12947  99338 -1.669890  0.446592\n",
       "12949  99352 -0.749953  0.239548\n",
       "12950  99353 -0.859055  0.326252\n",
       "12951  99354  0.056020  0.204216\n",
       "12953  99402  0.523632  0.028952\n",
       "12954  99403  0.827492  0.369117\n",
       "12956  99502 -1.244004  0.122944\n",
       "12958  99504 -0.593647  0.166664\n",
       "12959  99507 -1.278218  0.121707\n",
       "12961  99515 -1.500315  0.217164\n",
       "12963  99517 -0.686718  0.117141\n",
       "12964  99518 -0.837455  0.388418\n",
       "12965  99567 -1.708138  0.196757\n",
       "12966  99577 -1.830426  0.197862\n",
       "12968  99611 -0.504399  0.385261\n",
       "12969  99615 -0.817403  0.129799\n",
       "12970  99645 -0.735283  0.256060\n",
       "12972  99669 -0.341638  0.435116\n",
       "12973  99701  0.366613  0.344208\n",
       "12974  99705 -0.864881  0.529043\n",
       "12975  99709 -0.773324  0.433899\n",
       "12976  99712 -1.499410  0.634598\n",
       "12977  99801 -1.137844  0.055228\n",
       "12978  99901  0.008810  0.095256\n",
       "\n",
       "[8093 rows x 3 columns]"
      ]
     },
     "execution_count": 80,
     "metadata": {},
     "output_type": "execute_result"
    }
   ],
   "source": [
    "df[df['Y']>0]"
   ]
  },
  {
   "cell_type": "code",
   "execution_count": 84,
   "metadata": {
    "collapsed": false
   },
   "outputs": [
    {
     "data": {
      "text/html": [
       "<div>\n",
       "<table border=\"1\" class=\"dataframe\">\n",
       "  <thead>\n",
       "    <tr style=\"text-align: right;\">\n",
       "      <th></th>\n",
       "      <th>zip5</th>\n",
       "      <th>snap</th>\n",
       "      <th>inc_median</th>\n",
       "      <th>poverty</th>\n",
       "      <th>2015-07</th>\n",
       "    </tr>\n",
       "  </thead>\n",
       "  <tbody>\n",
       "    <tr>\n",
       "      <th>4126</th>\n",
       "      <td>28202</td>\n",
       "      <td>0.101994</td>\n",
       "      <td>70300</td>\n",
       "      <td>0.102324</td>\n",
       "      <td>247900</td>\n",
       "    </tr>\n",
       "  </tbody>\n",
       "</table>\n",
       "</div>"
      ],
      "text/plain": [
       "       zip5      snap  inc_median   poverty  2015-07\n",
       "4126  28202  0.101994       70300  0.102324   247900"
      ]
     },
     "execution_count": 84,
     "metadata": {},
     "output_type": "execute_result"
    }
   ],
   "source": [
    "combined[combined['zip5']== 28202]"
   ]
  },
  {
   "cell_type": "code",
   "execution_count": 83,
   "metadata": {
    "collapsed": false
   },
   "outputs": [
    {
     "data": {
      "text/html": [
       "<div>\n",
       "<table border=\"1\" class=\"dataframe\">\n",
       "  <thead>\n",
       "    <tr style=\"text-align: right;\">\n",
       "      <th></th>\n",
       "      <th>zip5</th>\n",
       "      <th>snap</th>\n",
       "      <th>inc_median</th>\n",
       "      <th>poverty</th>\n",
       "      <th>2015-07</th>\n",
       "    </tr>\n",
       "  </thead>\n",
       "  <tbody>\n",
       "    <tr>\n",
       "      <th>6548</th>\n",
       "      <td>43240</td>\n",
       "      <td>0.057207</td>\n",
       "      <td>65236</td>\n",
       "      <td>0.006457</td>\n",
       "      <td>164900</td>\n",
       "    </tr>\n",
       "  </tbody>\n",
       "</table>\n",
       "</div>"
      ],
      "text/plain": [
       "       zip5      snap  inc_median   poverty  2015-07\n",
       "6548  43240  0.057207       65236  0.006457   164900"
      ]
     },
     "execution_count": 83,
     "metadata": {},
     "output_type": "execute_result"
    }
   ],
   "source": [
    "combined[combined['zip5']== 43240]"
   ]
  },
  {
   "cell_type": "code",
   "execution_count": 82,
   "metadata": {
    "collapsed": false
   },
   "outputs": [
    {
     "data": {
      "text/html": [
       "<div>\n",
       "<table border=\"1\" class=\"dataframe\">\n",
       "  <thead>\n",
       "    <tr style=\"text-align: right;\">\n",
       "      <th></th>\n",
       "      <th>zip5</th>\n",
       "      <th>snap</th>\n",
       "      <th>inc_median</th>\n",
       "      <th>poverty</th>\n",
       "      <th>2015-07</th>\n",
       "    </tr>\n",
       "  </thead>\n",
       "  <tbody>\n",
       "    <tr>\n",
       "      <th>11183</th>\n",
       "      <td>90210</td>\n",
       "      <td>0.008544</td>\n",
       "      <td>132254</td>\n",
       "      <td>0.077309</td>\n",
       "      <td>4635700</td>\n",
       "    </tr>\n",
       "  </tbody>\n",
       "</table>\n",
       "</div>"
      ],
      "text/plain": [
       "        zip5      snap  inc_median   poverty  2015-07\n",
       "11183  90210  0.008544      132254  0.077309  4635700"
      ]
     },
     "execution_count": 82,
     "metadata": {},
     "output_type": "execute_result"
    }
   ],
   "source": [
    "combined[combined['zip5']== 90210]"
   ]
  },
  {
   "cell_type": "code",
   "execution_count": 81,
   "metadata": {
    "collapsed": false,
    "scrolled": true
   },
   "outputs": [
    {
     "data": {
      "text/html": [
       "<div>\n",
       "<table border=\"1\" class=\"dataframe\">\n",
       "  <thead>\n",
       "    <tr style=\"text-align: right;\">\n",
       "      <th></th>\n",
       "      <th>zip5</th>\n",
       "      <th>snap</th>\n",
       "      <th>inc_median</th>\n",
       "      <th>poverty</th>\n",
       "      <th>2015-07</th>\n",
       "    </tr>\n",
       "  </thead>\n",
       "  <tbody>\n",
       "    <tr>\n",
       "      <th>12978</th>\n",
       "      <td>99901</td>\n",
       "      <td>0.1356</td>\n",
       "      <td>62519</td>\n",
       "      <td>0.090413</td>\n",
       "      <td>236200</td>\n",
       "    </tr>\n",
       "  </tbody>\n",
       "</table>\n",
       "</div>"
      ],
      "text/plain": [
       "        zip5    snap  inc_median   poverty  2015-07\n",
       "12978  99901  0.1356       62519  0.090413   236200"
      ]
     },
     "execution_count": 81,
     "metadata": {},
     "output_type": "execute_result"
    }
   ],
   "source": [
    "combined[combined['zip5']== 99901]"
   ]
  },
  {
   "cell_type": "code",
   "execution_count": 100,
   "metadata": {
    "collapsed": false
   },
   "outputs": [
    {
     "data": {
      "text/html": [
       "<div>\n",
       "<table border=\"1\" class=\"dataframe\">\n",
       "  <thead>\n",
       "    <tr style=\"text-align: right;\">\n",
       "      <th></th>\n",
       "      <th>zip5</th>\n",
       "      <th>snap</th>\n",
       "      <th>inc_median</th>\n",
       "      <th>poverty</th>\n",
       "      <th>2015-07</th>\n",
       "    </tr>\n",
       "  </thead>\n",
       "  <tbody>\n",
       "  </tbody>\n",
       "</table>\n",
       "</div>"
      ],
      "text/plain": [
       "Empty DataFrame\n",
       "Columns: [zip5, snap, inc_median, poverty, 2015-07]\n",
       "Index: []"
      ]
     },
     "execution_count": 100,
     "metadata": {},
     "output_type": "execute_result"
    }
   ],
   "source": [
    "combined[combined['zip5']== 58420]"
   ]
  },
  {
   "cell_type": "code",
   "execution_count": 85,
   "metadata": {
    "collapsed": false
   },
   "outputs": [
    {
     "data": {
      "text/html": [
       "<div>\n",
       "<table border=\"1\" class=\"dataframe\">\n",
       "  <thead>\n",
       "    <tr style=\"text-align: right;\">\n",
       "      <th></th>\n",
       "      <th>zip5</th>\n",
       "      <th>X</th>\n",
       "      <th>Y</th>\n",
       "    </tr>\n",
       "  </thead>\n",
       "  <tbody>\n",
       "    <tr>\n",
       "      <th>11183</th>\n",
       "      <td>90210</td>\n",
       "      <td>-9.901957</td>\n",
       "      <td>-14.466638</td>\n",
       "    </tr>\n",
       "  </tbody>\n",
       "</table>\n",
       "</div>"
      ],
      "text/plain": [
       "        zip5         X          Y\n",
       "11183  90210 -9.901957 -14.466638"
      ]
     },
     "execution_count": 85,
     "metadata": {},
     "output_type": "execute_result"
    }
   ],
   "source": [
    "df[df['zip5']== 90210]"
   ]
  },
  {
   "cell_type": "code",
   "execution_count": 37,
   "metadata": {
    "collapsed": false
   },
   "outputs": [
    {
     "data": {
      "text/html": [
       "<iframe id=\"igraph\" scrolling=\"no\" style=\"border:none;\"seamless=\"seamless\" src=\"https://plot.ly/~Radek_BC/68.embed\" height=\"525px\" width=\"100%\"></iframe>"
      ],
      "text/plain": [
       "<plotly.tools.PlotlyDisplay object>"
      ]
     },
     "execution_count": 37,
     "metadata": {},
     "output_type": "execute_result"
    }
   ],
   "source": [
    "traces = []\n",
    "\n",
    "list = combined['zip5'].values.tolist()\n",
    "list_short = list[0:200]\n",
    "list_short.append('90210')\n",
    "\n",
    "for name in (list_short):\n",
    "\n",
    "    trace = Scatter(\n",
    "        x=Y_sklearn[y==name,0],\n",
    "        y=Y_sklearn[y==name,1],\n",
    "        mode='markers',\n",
    "        name=name,\n",
    "        marker=Marker(\n",
    "            size=12,\n",
    "            line=Line(\n",
    "                color='rgba(217, 217, 217, 0.14)',\n",
    "                width=0.5),\n",
    "            opacity=0.8))\n",
    "    traces.append(trace)\n",
    "\n",
    "\n",
    "data = Data(traces)\n",
    "layout = Layout(xaxis=XAxis(title='PC1', showline=False),\n",
    "                yaxis=YAxis(title='PC2', showline=False))\n",
    "fig = Figure(data=data, layout=layout)\n",
    "py.iplot(fig)"
   ]
  },
  {
   "cell_type": "code",
   "execution_count": 38,
   "metadata": {
    "collapsed": true
   },
   "outputs": [],
   "source": [
    "#Beginning PCA Analysis (reference: http://sebastianraschka.com/Articles/2015_pca_in_3_steps.html)\n",
    "\n",
    "X = zillow_combined.ix[:,1:3].values\n",
    "y = zillow_combined.ix[:,0].values"
   ]
  },
  {
   "cell_type": "code",
   "execution_count": 40,
   "metadata": {
    "collapsed": false
   },
   "outputs": [
    {
     "name": "stderr",
     "output_type": "stream",
     "text": [
      "/home/russ/anaconda/lib/python2.7/site-packages/sklearn/utils/validation.py:498: UserWarning: StandardScaler assumes floating point values as input, got int64\n",
      "  \"got %s\" % (estimator, X.dtype))\n"
     ]
    }
   ],
   "source": [
    "#Standardization\n",
    "from sklearn.preprocessing import StandardScaler\n",
    "X_std = StandardScaler().fit_transform(X)\n",
    "\n",
    "#Same PCA analysis using scikit-learn\n",
    "\n",
    "from sklearn.decomposition import PCA as sklearnPCA\n",
    "sklearn_pca = sklearnPCA(n_components=2)\n",
    "Y_sklearn = sklearn_pca.fit_transform(X_std)"
   ]
  },
  {
   "cell_type": "code",
   "execution_count": null,
   "metadata": {
    "collapsed": true
   },
   "outputs": [],
   "source": [
    "expl_var = sklearn_pca.explained_variance_ratio_"
   ]
  },
  {
   "cell_type": "code",
   "execution_count": 64,
   "metadata": {
    "collapsed": false
   },
   "outputs": [],
   "source": [
    "ev = expl_var.tolist()\n",
    "ls =  ['PC%s' %i for i in range(0,len(ev))]\n",
    "df_explainedValue = pd.DataFrame(ev,columns=['Value'],index=ls)"
   ]
  },
  {
   "cell_type": "code",
   "execution_count": 82,
   "metadata": {
    "collapsed": false
   },
   "outputs": [
    {
     "data": {
      "text/html": [
       "<div>\n",
       "<table border=\"1\" class=\"dataframe\">\n",
       "  <thead>\n",
       "    <tr style=\"text-align: right;\">\n",
       "      <th></th>\n",
       "      <th>Value</th>\n",
       "    </tr>\n",
       "  </thead>\n",
       "  <tbody>\n",
       "    <tr>\n",
       "      <th>PC0</th>\n",
       "      <td>0.966283</td>\n",
       "    </tr>\n",
       "    <tr>\n",
       "      <th>PC1</th>\n",
       "      <td>0.033717</td>\n",
       "    </tr>\n",
       "  </tbody>\n",
       "</table>\n",
       "</div>"
      ],
      "text/plain": [
       "        Value\n",
       "PC0  0.966283\n",
       "PC1  0.033717"
      ]
     },
     "execution_count": 82,
     "metadata": {},
     "output_type": "execute_result"
    }
   ],
   "source": []
  },
  {
   "cell_type": "code",
   "execution_count": 83,
   "metadata": {
    "collapsed": false
   },
   "outputs": [
    {
     "data": {
      "text/plain": [
       "<matplotlib.axes._subplots.AxesSubplot at 0x7fc8fe268f90>"
      ]
     },
     "execution_count": 83,
     "metadata": {},
     "output_type": "execute_result"
    },
    {
     "data": {
      "image/png": "[encoded data removed]",
      "text/plain": [
       "<matplotlib.figure.Figure at 0x7fc8fe268c10>"
      ]
     },
     "metadata": {},
     "output_type": "display_data"
    }
   ],
   "source": [
    "df_explainedValue.plot(kind='bar')"
   ]
  },
  {
   "cell_type": "code",
   "execution_count": 43,
   "metadata": {
    "collapsed": true
   },
   "outputs": [],
   "source": [
    "df = zillow_combined[['zip5']].merge(df,left_index=True, right_index=True)"
   ]
  },
  {
   "cell_type": "code",
   "execution_count": 44,
   "metadata": {
    "collapsed": false
   },
   "outputs": [
    {
     "data": {
      "text/plain": [
       "<matplotlib.axes._subplots.AxesSubplot at 0x7fc9041b1690>"
      ]
     },
     "execution_count": 44,
     "metadata": {},
     "output_type": "execute_result"
    },
    {
     "data": {
      "image/png": "[encoded data removed]",
      "text/plain": [
       "<matplotlib.figure.Figure at 0x7fc904174f90>"
      ]
     },
     "metadata": {},
     "output_type": "display_data"
    }
   ],
   "source": [
    "df.plot(kind='scatter',x='X',y='Y')"
   ]
  },
  {
   "cell_type": "code",
   "execution_count": 84,
   "metadata": {
    "collapsed": true
   },
   "outputs": [],
   "source": [
    "income_combined = acs[['zip5','snap','inc_median','poverty']].copy(False)"
   ]
  },
  {
   "cell_type": "code",
   "execution_count": 105,
   "metadata": {
    "collapsed": true
   },
   "outputs": [],
   "source": [
    "#Beginning PCA Analysis (reference: http://sebastianraschka.com/Articles/2015_pca_in_3_steps.html)\n",
    "\n",
    "X = income_combined.ix[:,1:4].values\n",
    "y = income_combined.ix[:,0].values\n",
    "\n",
    "#Standardization\n",
    "from sklearn.preprocessing import StandardScaler\n",
    "X_std = StandardScaler().fit_transform(X)\n",
    "\n",
    "#Same PCA analysis using scikit-learn\n",
    "\n",
    "from sklearn.decomposition import PCA as sklearnPCA\n",
    "sklearn_pca = sklearnPCA(n_components=1)\n",
    "Y_sklearn = sklearn_pca.fit_transform(X_std)\n",
    "\n",
    "expl_var = sklearn_pca.explained_variance_ratio_\n",
    "ev = expl_var.tolist()\n",
    "ls =  ['PC%s' %i for i in range(0,len(ev))]\n",
    "df_explainedValue = pd.DataFrame(ev,columns=['Value'],index=ls)"
   ]
  },
  {
   "cell_type": "code",
   "execution_count": 106,
   "metadata": {
    "collapsed": false
   },
   "outputs": [
    {
     "data": {
      "text/plain": [
       "array([ 0.60302841])"
      ]
     },
     "execution_count": 106,
     "metadata": {},
     "output_type": "execute_result"
    }
   ],
   "source": [
    "sklearn_pca.explained_variance_ratio_"
   ]
  },
  {
   "cell_type": "code",
   "execution_count": 107,
   "metadata": {
    "collapsed": false,
    "scrolled": true
   },
   "outputs": [
    {
     "data": {
      "text/plain": [
       "<matplotlib.axes._subplots.AxesSubplot at 0x7fc8fddad690>"
      ]
     },
     "execution_count": 107,
     "metadata": {},
     "output_type": "execute_result"
    },
    {
     "data": {
      "image/png": "[encoded data removed]",
      "text/plain": [
       "<matplotlib.figure.Figure at 0x7fc8fdd19050>"
      ]
     },
     "metadata": {},
     "output_type": "display_data"
    }
   ],
   "source": [
    "df_explainedValue.plot(kind='bar')"
   ]
  },
  {
   "cell_type": "code",
   "execution_count": 108,
   "metadata": {
    "collapsed": false
   },
   "outputs": [
    {
     "ename": "IndexError",
     "evalue": "index 1 is out of bounds for axis 1 with size 1",
     "output_type": "error",
     "traceback": [
      "\u001b[1;31m---------------------------------------------------------------------------\u001b[0m",
      "\u001b[1;31mIndexError\u001b[0m                                Traceback (most recent call last)",
      "\u001b[1;32m<ipython-input-108-636b9daf0cc6>\u001b[0m in \u001b[0;36m<module>\u001b[1;34m()\u001b[0m\n\u001b[1;32m----> 1\u001b[1;33m \u001b[0mdf\u001b[0m \u001b[1;33m=\u001b[0m \u001b[0mpd\u001b[0m\u001b[1;33m.\u001b[0m\u001b[0mDataFrame\u001b[0m\u001b[1;33m(\u001b[0m\u001b[1;33m{\u001b[0m\u001b[1;34m'X'\u001b[0m\u001b[1;33m:\u001b[0m\u001b[0mY_sklearn\u001b[0m\u001b[1;33m[\u001b[0m\u001b[1;33m:\u001b[0m\u001b[1;33m,\u001b[0m\u001b[1;36m0\u001b[0m\u001b[1;33m]\u001b[0m\u001b[1;33m,\u001b[0m\u001b[1;34m'Y'\u001b[0m\u001b[1;33m:\u001b[0m\u001b[0mY_sklearn\u001b[0m\u001b[1;33m[\u001b[0m\u001b[1;33m:\u001b[0m\u001b[1;33m,\u001b[0m\u001b[1;36m1\u001b[0m\u001b[1;33m]\u001b[0m\u001b[1;33m}\u001b[0m\u001b[1;33m)\u001b[0m\u001b[1;33m\u001b[0m\u001b[0m\n\u001b[0m\u001b[0;32m      2\u001b[0m \u001b[0mdf\u001b[0m \u001b[1;33m=\u001b[0m \u001b[0mincome_combined\u001b[0m\u001b[1;33m[\u001b[0m\u001b[1;33m[\u001b[0m\u001b[1;34m'zip5'\u001b[0m\u001b[1;33m]\u001b[0m\u001b[1;33m]\u001b[0m\u001b[1;33m.\u001b[0m\u001b[0mmerge\u001b[0m\u001b[1;33m(\u001b[0m\u001b[0mdf\u001b[0m\u001b[1;33m,\u001b[0m\u001b[0mleft_index\u001b[0m\u001b[1;33m=\u001b[0m\u001b[0mTrue\u001b[0m\u001b[1;33m,\u001b[0m \u001b[0mright_index\u001b[0m\u001b[1;33m=\u001b[0m\u001b[0mTrue\u001b[0m\u001b[1;33m)\u001b[0m\u001b[1;33m\u001b[0m\u001b[0m\n\u001b[0;32m      3\u001b[0m \u001b[0mdf\u001b[0m\u001b[1;33m.\u001b[0m\u001b[0mplot\u001b[0m\u001b[1;33m(\u001b[0m\u001b[0mkind\u001b[0m\u001b[1;33m=\u001b[0m\u001b[1;34m'scatter'\u001b[0m\u001b[1;33m,\u001b[0m\u001b[0mx\u001b[0m\u001b[1;33m=\u001b[0m\u001b[1;34m'X'\u001b[0m\u001b[1;33m,\u001b[0m\u001b[0my\u001b[0m\u001b[1;33m=\u001b[0m\u001b[1;34m'Y'\u001b[0m\u001b[1;33m)\u001b[0m\u001b[1;33m\u001b[0m\u001b[0m\n",
      "\u001b[1;31mIndexError\u001b[0m: index 1 is out of bounds for axis 1 with size 1"
     ]
    }
   ],
   "source": [
    "df = pd.DataFrame({'X':Y_sklearn[:,0],'Y':Y_sklearn[:,1]})\n",
    "df = income_combined[['zip5']].merge(df,left_index=True, right_index=True)\n",
    "df.plot(kind='scatter',x='X',y='Y')"
   ]
  },
  {
   "cell_type": "code",
   "execution_count": 110,
   "metadata": {
    "collapsed": false
   },
   "outputs": [
    {
     "data": {
      "text/plain": [
       "<matplotlib.axes._subplots.AxesSubplot at 0x7fc8fd99e0d0>"
      ]
     },
     "execution_count": 110,
     "metadata": {},
     "output_type": "execute_result"
    },
    {
     "data": {
      "image/png": "[encoded data removed]",
      "text/plain": [
       "<matplotlib.figure.Figure at 0x7fc8fe03c050>"
      ]
     },
     "metadata": {},
     "output_type": "display_data"
    }
   ],
   "source": [
    "df = pd.DataFrame({'Income_Level':Y_sklearn[:,0]})\n",
    "df = income_combined[['zip5']].merge(df,left_index=True, right_index=True)\n",
    "df.plot(kind='scatter',x='zip5',y='X')"
   ]
  },
  {
   "cell_type": "code",
   "execution_count": 112,
   "metadata": {
    "collapsed": false,
    "scrolled": true
   },
   "outputs": [
    {
     "data": {
      "text/html": [
       "<div>\n",
       "<table border=\"1\" class=\"dataframe\">\n",
       "  <thead>\n",
       "    <tr style=\"text-align: right;\">\n",
       "      <th></th>\n",
       "      <th>zip5</th>\n",
       "      <th>X</th>\n",
       "    </tr>\n",
       "  </thead>\n",
       "  <tbody>\n",
       "    <tr>\n",
       "      <th>6592</th>\n",
       "      <td>21405</td>\n",
       "      <td>5.833637</td>\n",
       "    </tr>\n",
       "    <tr>\n",
       "      <th>27494</th>\n",
       "      <td>79033</td>\n",
       "      <td>5.833637</td>\n",
       "    </tr>\n",
       "    <tr>\n",
       "      <th>18961</th>\n",
       "      <td>56210</td>\n",
       "      <td>5.833637</td>\n",
       "    </tr>\n",
       "    <tr>\n",
       "      <th>31890</th>\n",
       "      <td>97028</td>\n",
       "      <td>5.833637</td>\n",
       "    </tr>\n",
       "    <tr>\n",
       "      <th>28246</th>\n",
       "      <td>81335</td>\n",
       "      <td>5.833637</td>\n",
       "    </tr>\n",
       "    <tr>\n",
       "      <th>32320</th>\n",
       "      <td>98050</td>\n",
       "      <td>5.833637</td>\n",
       "    </tr>\n",
       "    <tr>\n",
       "      <th>28332</th>\n",
       "      <td>82063</td>\n",
       "      <td>5.833637</td>\n",
       "    </tr>\n",
       "    <tr>\n",
       "      <th>2263</th>\n",
       "      <td>7970</td>\n",
       "      <td>5.833637</td>\n",
       "    </tr>\n",
       "    <tr>\n",
       "      <th>21848</th>\n",
       "      <td>63073</td>\n",
       "      <td>5.569037</td>\n",
       "    </tr>\n",
       "    <tr>\n",
       "      <th>1236</th>\n",
       "      <td>4575</td>\n",
       "      <td>5.371800</td>\n",
       "    </tr>\n",
       "    <tr>\n",
       "      <th>2626</th>\n",
       "      <td>10282</td>\n",
       "      <td>5.323790</td>\n",
       "    </tr>\n",
       "    <tr>\n",
       "      <th>6503</th>\n",
       "      <td>21056</td>\n",
       "      <td>5.291953</td>\n",
       "    </tr>\n",
       "    <tr>\n",
       "      <th>31036</th>\n",
       "      <td>94528</td>\n",
       "      <td>5.224450</td>\n",
       "    </tr>\n",
       "    <tr>\n",
       "      <th>20444</th>\n",
       "      <td>60043</td>\n",
       "      <td>5.201251</td>\n",
       "    </tr>\n",
       "    <tr>\n",
       "      <th>30419</th>\n",
       "      <td>92145</td>\n",
       "      <td>5.173233</td>\n",
       "    </tr>\n",
       "    <tr>\n",
       "      <th>2067</th>\n",
       "      <td>7311</td>\n",
       "      <td>5.125283</td>\n",
       "    </tr>\n",
       "    <tr>\n",
       "      <th>26662</th>\n",
       "      <td>77010</td>\n",
       "      <td>5.124102</td>\n",
       "    </tr>\n",
       "    <tr>\n",
       "      <th>2028</th>\n",
       "      <td>7078</td>\n",
       "      <td>5.111521</td>\n",
       "    </tr>\n",
       "    <tr>\n",
       "      <th>2265</th>\n",
       "      <td>7976</td>\n",
       "      <td>4.960067</td>\n",
       "    </tr>\n",
       "    <tr>\n",
       "      <th>2712</th>\n",
       "      <td>10577</td>\n",
       "      <td>4.958065</td>\n",
       "    </tr>\n",
       "    <tr>\n",
       "      <th>6801</th>\n",
       "      <td>22066</td>\n",
       "      <td>4.892476</td>\n",
       "    </tr>\n",
       "    <tr>\n",
       "      <th>2564</th>\n",
       "      <td>10007</td>\n",
       "      <td>4.877787</td>\n",
       "    </tr>\n",
       "    <tr>\n",
       "      <th>6075</th>\n",
       "      <td>19437</td>\n",
       "      <td>4.874672</td>\n",
       "    </tr>\n",
       "    <tr>\n",
       "      <th>30954</th>\n",
       "      <td>94027</td>\n",
       "      <td>4.852093</td>\n",
       "    </tr>\n",
       "    <tr>\n",
       "      <th>629</th>\n",
       "      <td>2672</td>\n",
       "      <td>4.791172</td>\n",
       "    </tr>\n",
       "    <tr>\n",
       "      <th>1953</th>\n",
       "      <td>6883</td>\n",
       "      <td>4.758191</td>\n",
       "    </tr>\n",
       "    <tr>\n",
       "      <th>3280</th>\n",
       "      <td>12453</td>\n",
       "      <td>4.751529</td>\n",
       "    </tr>\n",
       "    <tr>\n",
       "      <th>6539</th>\n",
       "      <td>21153</td>\n",
       "      <td>4.637779</td>\n",
       "    </tr>\n",
       "    <tr>\n",
       "      <th>6694</th>\n",
       "      <td>21738</td>\n",
       "      <td>4.582035</td>\n",
       "    </tr>\n",
       "    <tr>\n",
       "      <th>1937</th>\n",
       "      <td>6820</td>\n",
       "      <td>4.512731</td>\n",
       "    </tr>\n",
       "    <tr>\n",
       "      <th>...</th>\n",
       "      <td>...</td>\n",
       "      <td>...</td>\n",
       "    </tr>\n",
       "    <tr>\n",
       "      <th>6239</th>\n",
       "      <td>20052</td>\n",
       "      <td>-7.695458</td>\n",
       "    </tr>\n",
       "    <tr>\n",
       "      <th>6484</th>\n",
       "      <td>21031</td>\n",
       "      <td>-7.695458</td>\n",
       "    </tr>\n",
       "    <tr>\n",
       "      <th>21534</th>\n",
       "      <td>62523</td>\n",
       "      <td>-7.729769</td>\n",
       "    </tr>\n",
       "    <tr>\n",
       "      <th>15122</th>\n",
       "      <td>46379</td>\n",
       "      <td>-7.836499</td>\n",
       "    </tr>\n",
       "    <tr>\n",
       "      <th>19590</th>\n",
       "      <td>57622</td>\n",
       "      <td>-7.871984</td>\n",
       "    </tr>\n",
       "    <tr>\n",
       "      <th>19589</th>\n",
       "      <td>57621</td>\n",
       "      <td>-7.999738</td>\n",
       "    </tr>\n",
       "    <tr>\n",
       "      <th>8197</th>\n",
       "      <td>26366</td>\n",
       "      <td>-8.043925</td>\n",
       "    </tr>\n",
       "    <tr>\n",
       "      <th>13628</th>\n",
       "      <td>42321</td>\n",
       "      <td>-8.193175</td>\n",
       "    </tr>\n",
       "    <tr>\n",
       "      <th>24642</th>\n",
       "      <td>71662</td>\n",
       "      <td>-8.218272</td>\n",
       "    </tr>\n",
       "    <tr>\n",
       "      <th>27279</th>\n",
       "      <td>78565</td>\n",
       "      <td>-8.241577</td>\n",
       "    </tr>\n",
       "    <tr>\n",
       "      <th>13375</th>\n",
       "      <td>41390</td>\n",
       "      <td>-8.693122</td>\n",
       "    </tr>\n",
       "    <tr>\n",
       "      <th>12717</th>\n",
       "      <td>39061</td>\n",
       "      <td>-8.782287</td>\n",
       "    </tr>\n",
       "    <tr>\n",
       "      <th>24290</th>\n",
       "      <td>70580</td>\n",
       "      <td>-8.786269</td>\n",
       "    </tr>\n",
       "    <tr>\n",
       "      <th>11825</th>\n",
       "      <td>36727</td>\n",
       "      <td>-8.902769</td>\n",
       "    </tr>\n",
       "    <tr>\n",
       "      <th>29367</th>\n",
       "      <td>86011</td>\n",
       "      <td>-9.274077</td>\n",
       "    </tr>\n",
       "    <tr>\n",
       "      <th>32277</th>\n",
       "      <td>97909</td>\n",
       "      <td>-9.432400</td>\n",
       "    </tr>\n",
       "    <tr>\n",
       "      <th>33079</th>\n",
       "      <td>99774</td>\n",
       "      <td>-9.479919</td>\n",
       "    </tr>\n",
       "    <tr>\n",
       "      <th>3628</th>\n",
       "      <td>13102</td>\n",
       "      <td>-9.675718</td>\n",
       "    </tr>\n",
       "    <tr>\n",
       "      <th>15954</th>\n",
       "      <td>48411</td>\n",
       "      <td>-9.726297</td>\n",
       "    </tr>\n",
       "    <tr>\n",
       "      <th>13575</th>\n",
       "      <td>42124</td>\n",
       "      <td>-9.736086</td>\n",
       "    </tr>\n",
       "    <tr>\n",
       "      <th>22478</th>\n",
       "      <td>64858</td>\n",
       "      <td>-9.898691</td>\n",
       "    </tr>\n",
       "    <tr>\n",
       "      <th>4198</th>\n",
       "      <td>14614</td>\n",
       "      <td>-10.234640</td>\n",
       "    </tr>\n",
       "    <tr>\n",
       "      <th>31693</th>\n",
       "      <td>96049</td>\n",
       "      <td>-10.314945</td>\n",
       "    </tr>\n",
       "    <tr>\n",
       "      <th>11595</th>\n",
       "      <td>36031</td>\n",
       "      <td>-10.389852</td>\n",
       "    </tr>\n",
       "    <tr>\n",
       "      <th>12579</th>\n",
       "      <td>38677</td>\n",
       "      <td>-10.650890</td>\n",
       "    </tr>\n",
       "    <tr>\n",
       "      <th>4653</th>\n",
       "      <td>15616</td>\n",
       "      <td>-10.925601</td>\n",
       "    </tr>\n",
       "    <tr>\n",
       "      <th>29302</th>\n",
       "      <td>85654</td>\n",
       "      <td>-10.971303</td>\n",
       "    </tr>\n",
       "    <tr>\n",
       "      <th>22837</th>\n",
       "      <td>66019</td>\n",
       "      <td>-11.661508</td>\n",
       "    </tr>\n",
       "    <tr>\n",
       "      <th>14968</th>\n",
       "      <td>46047</td>\n",
       "      <td>-13.280264</td>\n",
       "    </tr>\n",
       "    <tr>\n",
       "      <th>8291</th>\n",
       "      <td>26684</td>\n",
       "      <td>-13.280264</td>\n",
       "    </tr>\n",
       "  </tbody>\n",
       "</table>\n",
       "<p>33120 rows × 2 columns</p>\n",
       "</div>"
      ],
      "text/plain": [
       "        zip5          X\n",
       "6592   21405   5.833637\n",
       "27494  79033   5.833637\n",
       "18961  56210   5.833637\n",
       "31890  97028   5.833637\n",
       "28246  81335   5.833637\n",
       "32320  98050   5.833637\n",
       "28332  82063   5.833637\n",
       "2263    7970   5.833637\n",
       "21848  63073   5.569037\n",
       "1236    4575   5.371800\n",
       "2626   10282   5.323790\n",
       "6503   21056   5.291953\n",
       "31036  94528   5.224450\n",
       "20444  60043   5.201251\n",
       "30419  92145   5.173233\n",
       "2067    7311   5.125283\n",
       "26662  77010   5.124102\n",
       "2028    7078   5.111521\n",
       "2265    7976   4.960067\n",
       "2712   10577   4.958065\n",
       "6801   22066   4.892476\n",
       "2564   10007   4.877787\n",
       "6075   19437   4.874672\n",
       "30954  94027   4.852093\n",
       "629     2672   4.791172\n",
       "1953    6883   4.758191\n",
       "3280   12453   4.751529\n",
       "6539   21153   4.637779\n",
       "6694   21738   4.582035\n",
       "1937    6820   4.512731\n",
       "...      ...        ...\n",
       "6239   20052  -7.695458\n",
       "6484   21031  -7.695458\n",
       "21534  62523  -7.729769\n",
       "15122  46379  -7.836499\n",
       "19590  57622  -7.871984\n",
       "19589  57621  -7.999738\n",
       "8197   26366  -8.043925\n",
       "13628  42321  -8.193175\n",
       "24642  71662  -8.218272\n",
       "27279  78565  -8.241577\n",
       "13375  41390  -8.693122\n",
       "12717  39061  -8.782287\n",
       "24290  70580  -8.786269\n",
       "11825  36727  -8.902769\n",
       "29367  86011  -9.274077\n",
       "32277  97909  -9.432400\n",
       "33079  99774  -9.479919\n",
       "3628   13102  -9.675718\n",
       "15954  48411  -9.726297\n",
       "13575  42124  -9.736086\n",
       "22478  64858  -9.898691\n",
       "4198   14614 -10.234640\n",
       "31693  96049 -10.314945\n",
       "11595  36031 -10.389852\n",
       "12579  38677 -10.650890\n",
       "4653   15616 -10.925601\n",
       "29302  85654 -10.971303\n",
       "22837  66019 -11.661508\n",
       "14968  46047 -13.280264\n",
       "8291   26684 -13.280264\n",
       "\n",
       "[33120 rows x 2 columns]"
      ]
     },
     "execution_count": 112,
     "metadata": {},
     "output_type": "execute_result"
    }
   ],
   "source": [
    "df.sort(['Income_Level'], ascending=[False])"
   ]
  },
  {
   "cell_type": "code",
   "execution_count": 114,
   "metadata": {
    "collapsed": false
   },
   "outputs": [
    {
     "data": {
      "text/html": [
       "<div>\n",
       "<table border=\"1\" class=\"dataframe\">\n",
       "  <thead>\n",
       "    <tr style=\"text-align: right;\">\n",
       "      <th></th>\n",
       "      <th>zip5</th>\n",
       "      <th>X</th>\n",
       "    </tr>\n",
       "  </thead>\n",
       "  <tbody>\n",
       "    <tr>\n",
       "      <th>2558</th>\n",
       "      <td>10001</td>\n",
       "      <td>0.651156</td>\n",
       "    </tr>\n",
       "  </tbody>\n",
       "</table>\n",
       "</div>"
      ],
      "text/plain": [
       "       zip5         X\n",
       "2558  10001  0.651156"
      ]
     },
     "execution_count": 114,
     "metadata": {},
     "output_type": "execute_result"
    }
   ],
   "source": [
    "df[df['zip5']== 10001]"
   ]
  },
  {
   "cell_type": "code",
   "execution_count": 75,
   "metadata": {
    "collapsed": false
   },
   "outputs": [],
   "source": [
    "urban.rename(columns={'ZCTA5':'zip'},inplace=True)"
   ]
  },
  {
   "cell_type": "code",
   "execution_count": 46,
   "metadata": {
    "collapsed": false,
    "scrolled": false
   },
   "outputs": [
    {
     "data": {
      "text/html": [
       "\n",
       "           <script>\n",
       "               \n",
       "                function vct_load_lib(url, callback){\n",
       "                      if(typeof d3 !== 'undefined' &&\n",
       "                         url === 'http://d3js.org/d3.v3.min.js'){\n",
       "                        callback()\n",
       "                      }\n",
       "                      var s = document.createElement('script');\n",
       "                      s.src = url;\n",
       "                      s.async = true;\n",
       "                      s.onreadystatechange = s.onload = callback;\n",
       "                      s.onerror = function(){\n",
       "                        console.warn(\"failed to load library \" + url);\n",
       "                        };\n",
       "                      document.getElementsByTagName(\"head\")[0].appendChild(s);\n",
       "                };\n",
       "                var vincent_event = new CustomEvent(\n",
       "                  \"vincent_libs_loaded\",\n",
       "                  {bubbles: true, cancelable: true}\n",
       "                );\n",
       "                \n",
       "               function load_all_libs(){\n",
       "                  console.log('Loading Vincent libs...')\n",
       "                  vct_load_lib('http://d3js.org/d3.v3.min.js', function(){\n",
       "                  vct_load_lib('http://d3js.org/d3.geo.projection.v0.min.js', function(){\n",
       "                  vct_load_lib('http://wrobstory.github.io/d3-cloud/d3.layout.cloud.js', function(){\n",
       "                  vct_load_lib('http://wrobstory.github.io/vega/vega.v1.3.3.js', function(){\n",
       "                  window.dispatchEvent(vincent_event);\n",
       "                  });\n",
       "                  });\n",
       "                  });\n",
       "                  });\n",
       "               };\n",
       "               if(typeof define === \"function\" && define.amd){\n",
       "                    if (window['d3'] === undefined ||\n",
       "                        window['topojson'] === undefined){\n",
       "                        require.config(\n",
       "                            {paths: {\n",
       "                              d3: 'http://d3js.org/d3.v3.min',\n",
       "                              topojson: 'http://d3js.org/topojson.v1.min'\n",
       "                              }\n",
       "                            }\n",
       "                          );\n",
       "                        require([\"d3\"], function(d3){\n",
       "                            console.log('Loading Vincent from require.js...')\n",
       "                            window.d3 = d3;\n",
       "                            require([\"topojson\"], function(topojson){\n",
       "                                window.topojson = topojson;\n",
       "                                load_all_libs();\n",
       "                            });\n",
       "                        });\n",
       "                    } else {\n",
       "                        load_all_libs();\n",
       "                    };\n",
       "               }else{\n",
       "                    console.log('Require.js not found, loading manually...')\n",
       "                    load_all_libs();\n",
       "               };\n",
       "\n",
       "           </script>"
      ],
      "text/plain": [
       "<IPython.core.display.HTML object>"
      ]
     },
     "metadata": {},
     "output_type": "display_data"
    },
    {
     "ename": "KeyError",
     "evalue": "'zip'",
     "output_type": "error",
     "traceback": [
      "\u001b[1;31m---------------------------------------------------------------------------\u001b[0m",
      "\u001b[1;31mKeyError\u001b[0m                                  Traceback (most recent call last)",
      "\u001b[1;32m<ipython-input-46-85f573942253>\u001b[0m in \u001b[0;36m<module>\u001b[1;34m()\u001b[0m\n\u001b[0;32m     22\u001b[0m vis = vincent.Map(data=urban, geo_data=geo_data, scale=1100, projection='albersUsa',\n\u001b[0;32m     23\u001b[0m           \u001b[0mdata_bind\u001b[0m\u001b[1;33m=\u001b[0m\u001b[1;34m'POPULATION'\u001b[0m\u001b[1;33m,\u001b[0m \u001b[0mdata_key\u001b[0m\u001b[1;33m=\u001b[0m\u001b[1;34m'zip'\u001b[0m\u001b[1;33m,\u001b[0m\u001b[0mbrew\u001b[0m\u001b[1;33m=\u001b[0m\u001b[1;34m'PuRd'\u001b[0m\u001b[1;33m,\u001b[0m\u001b[1;33m\u001b[0m\u001b[0m\n\u001b[1;32m---> 24\u001b[1;33m           map_key={'zip_codes': 'properties.zip'})\n\u001b[0m\u001b[0;32m     25\u001b[0m \u001b[1;32mdel\u001b[0m \u001b[0mvis\u001b[0m\u001b[1;33m.\u001b[0m\u001b[0mmarks\u001b[0m\u001b[1;33m[\u001b[0m\u001b[1;36m0\u001b[0m\u001b[1;33m]\u001b[0m\u001b[1;33m.\u001b[0m\u001b[0mproperties\u001b[0m\u001b[1;33m.\u001b[0m\u001b[0mupdate\u001b[0m\u001b[1;33m\u001b[0m\u001b[0m\n\u001b[0;32m     26\u001b[0m \u001b[1;31m#del vis.marks[1].properties.update\u001b[0m\u001b[1;33m\u001b[0m\u001b[1;33m\u001b[0m\u001b[0m\n",
      "\u001b[1;32m/home/russ/anaconda/lib/python2.7/site-packages/vincent/charts.pyc\u001b[0m in \u001b[0;36m__init__\u001b[1;34m(self, data, geo_data, projection, center, translate, scale, rotate, data_bind, data_key, map_key, brew, *args, **kwargs)\u001b[0m\n\u001b[0;32m    418\u001b[0m                                      'you must pass data cols to key/bind on')\n\u001b[0;32m    419\u001b[0m                 self.data['table'] = Data.keypairs(\n\u001b[1;32m--> 420\u001b[1;33m                     \u001b[0mdata\u001b[0m\u001b[1;33m,\u001b[0m \u001b[0mcolumns\u001b[0m\u001b[1;33m=\u001b[0m\u001b[1;33m[\u001b[0m\u001b[0mdata_key\u001b[0m\u001b[1;33m,\u001b[0m \u001b[0mdata_bind\u001b[0m\u001b[1;33m]\u001b[0m\u001b[1;33m\u001b[0m\u001b[0m\n\u001b[0m\u001b[0;32m    421\u001b[0m                     )\n\u001b[0;32m    422\u001b[0m                 \u001b[0mkey_join\u001b[0m \u001b[1;33m=\u001b[0m \u001b[1;34m'.'\u001b[0m\u001b[1;33m.\u001b[0m\u001b[0mjoin\u001b[0m\u001b[1;33m(\u001b[0m\u001b[1;33m[\u001b[0m\u001b[1;34m'data'\u001b[0m\u001b[1;33m,\u001b[0m \u001b[0mmap_key\u001b[0m\u001b[1;33m[\u001b[0m\u001b[0mdat\u001b[0m\u001b[1;33m[\u001b[0m\u001b[1;34m'name'\u001b[0m\u001b[1;33m]\u001b[0m\u001b[1;33m]\u001b[0m\u001b[1;33m]\u001b[0m\u001b[1;33m)\u001b[0m\u001b[1;33m\u001b[0m\u001b[0m\n",
      "\u001b[1;32m/home/russ/anaconda/lib/python2.7/site-packages/vincent/data.pyc\u001b[0m in \u001b[0;36mkeypairs\u001b[1;34m(cls, data, columns, use_index, name)\u001b[0m\n\u001b[0;32m    420\u001b[0m                 values = [{\"x\": cls.serialize(x[1][columns[0]]),\n\u001b[0;32m    421\u001b[0m                            \"y\": cls.serialize(x[1][columns[1]])}\n\u001b[1;32m--> 422\u001b[1;33m                           for x in data.iterrows()]\n\u001b[0m\u001b[0;32m    423\u001b[0m \u001b[1;33m\u001b[0m\u001b[0m\n\u001b[0;32m    424\u001b[0m         \u001b[1;31m# NumPy arrays\u001b[0m\u001b[1;33m\u001b[0m\u001b[1;33m\u001b[0m\u001b[0m\n",
      "\u001b[1;32m/home/russ/anaconda/lib/python2.7/site-packages/pandas/core/series.pyc\u001b[0m in \u001b[0;36m__getitem__\u001b[1;34m(self, key)\u001b[0m\n\u001b[0;32m    519\u001b[0m     \u001b[1;32mdef\u001b[0m \u001b[0m__getitem__\u001b[0m\u001b[1;33m(\u001b[0m\u001b[0mself\u001b[0m\u001b[1;33m,\u001b[0m \u001b[0mkey\u001b[0m\u001b[1;33m)\u001b[0m\u001b[1;33m:\u001b[0m\u001b[1;33m\u001b[0m\u001b[0m\n\u001b[0;32m    520\u001b[0m         \u001b[1;32mtry\u001b[0m\u001b[1;33m:\u001b[0m\u001b[1;33m\u001b[0m\u001b[0m\n\u001b[1;32m--> 521\u001b[1;33m             \u001b[0mresult\u001b[0m \u001b[1;33m=\u001b[0m \u001b[0mself\u001b[0m\u001b[1;33m.\u001b[0m\u001b[0mindex\u001b[0m\u001b[1;33m.\u001b[0m\u001b[0mget_value\u001b[0m\u001b[1;33m(\u001b[0m\u001b[0mself\u001b[0m\u001b[1;33m,\u001b[0m \u001b[0mkey\u001b[0m\u001b[1;33m)\u001b[0m\u001b[1;33m\u001b[0m\u001b[0m\n\u001b[0m\u001b[0;32m    522\u001b[0m \u001b[1;33m\u001b[0m\u001b[0m\n\u001b[0;32m    523\u001b[0m             \u001b[1;32mif\u001b[0m \u001b[1;32mnot\u001b[0m \u001b[0mnp\u001b[0m\u001b[1;33m.\u001b[0m\u001b[0misscalar\u001b[0m\u001b[1;33m(\u001b[0m\u001b[0mresult\u001b[0m\u001b[1;33m)\u001b[0m\u001b[1;33m:\u001b[0m\u001b[1;33m\u001b[0m\u001b[0m\n",
      "\u001b[1;32m/home/russ/anaconda/lib/python2.7/site-packages/pandas/core/index.pyc\u001b[0m in \u001b[0;36mget_value\u001b[1;34m(self, series, key)\u001b[0m\n\u001b[0;32m   1607\u001b[0m                     \u001b[1;32mraise\u001b[0m \u001b[0mInvalidIndexError\u001b[0m\u001b[1;33m(\u001b[0m\u001b[0mkey\u001b[0m\u001b[1;33m)\u001b[0m\u001b[1;33m\u001b[0m\u001b[0m\n\u001b[0;32m   1608\u001b[0m                 \u001b[1;32melse\u001b[0m\u001b[1;33m:\u001b[0m\u001b[1;33m\u001b[0m\u001b[0m\n\u001b[1;32m-> 1609\u001b[1;33m                     \u001b[1;32mraise\u001b[0m \u001b[0me1\u001b[0m\u001b[1;33m\u001b[0m\u001b[0m\n\u001b[0m\u001b[0;32m   1610\u001b[0m             \u001b[1;32mexcept\u001b[0m \u001b[0mException\u001b[0m\u001b[1;33m:\u001b[0m  \u001b[1;31m# pragma: no cover\u001b[0m\u001b[1;33m\u001b[0m\u001b[0m\n\u001b[0;32m   1611\u001b[0m                 \u001b[1;32mraise\u001b[0m \u001b[0me1\u001b[0m\u001b[1;33m\u001b[0m\u001b[0m\n",
      "\u001b[1;31mKeyError\u001b[0m: 'zip'"
     ]
    }
   ],
   "source": [
    "import vincent\n",
    "from vincent import AxisProperties, PropertySet, ValueRef\n",
    "vincent.core.initialize_notebook()\n",
    "\n",
    "zip_topo = r'zips_us_topo.json'\n",
    "state_topo = r'us_states.topo.json'\n",
    "\n",
    "geo_data2 = [{'name': 'zip_codes',\n",
    "             'url': zip_topo,\n",
    "             'feature': 'zip_codes_for_the_usa'},\n",
    "            {'name': 'states',\n",
    "             'url': state_topo,\n",
    "             'feature': 'us_states.geo'}]\n",
    "\n",
    "geo_data = [{'name': 'states',\n",
    "             'url': state_topo,\n",
    "             'feature': 'us_states.geo'},\n",
    "            {'name': 'zip_codes',\n",
    "             'url': zip_topo,\n",
    "             'feature': 'zip_codes_for_the_usa'}]\n",
    "\n",
    "vis = vincent.Map(data=urban, geo_data=geo_data, scale=1100, projection='albersUsa',\n",
    "          data_bind='POPULATION', data_key='zip',brew='PuRd',\n",
    "          map_key={'zip_codes': 'properties.zip'})\n",
    "del vis.marks[0].properties.update\n",
    "#del vis.marks[1].properties.update\n",
    "#vis.marks[1].properties.update.fill.value = '#FFFFFF'\n",
    "#vis.marks[1].properties.enter.stroke.value = '#CCCCFF'\n",
    "vis.marks[1].properties.enter.stroke_opacity = ValueRef(value=0.1)\n",
    "vis.marks[0].properties.enter.stroke.value = '#FF0000'\n",
    "vis.marks[1].properties.enter.hover.fill.value = '#f84525'\n",
    "vis.legend(title='POPULATION')\n",
    "vis.display()"
   ]
  },
  {
   "cell_type": "code",
   "execution_count": 122,
   "metadata": {
    "collapsed": false
   },
   "outputs": [
    {
     "data": {
      "text/html": [
       "<div id=\"visc031bc36c967435ba59a59ea50d1992a\"></div>\n",
       "<script>\n",
       "   ( function() {\n",
       "     var _do_plot = function() {\n",
       "       if (typeof vg === 'undefined') {\n",
       "         window.addEventListener('vincent_libs_loaded', _do_plot)\n",
       "         return;\n",
       "       }\n",
       "       vg.parse.spec({\"axes\": [], \"data\": [{\"format\": {\"feature\": \"us_states.geo\", \"type\": \"topojson\"}, \"name\": \"states\", \"transform\": [{\"projection\": \"albersUsa\", \"scale\": 1100, \"translate\": [480, 250], \"type\": \"geopath\", \"value\": \"data\"}], \"url\": \"us_states.topo.json\"}, {\"name\": \"table\", \"values\": [{\"x\": \"83211\", \"y\": 6374}]}, {\"format\": {\"feature\": \"zip_codes_for_the_usa\", \"type\": \"topojson\"}, \"name\": \"zip_codes\", \"transform\": [{\"as\": \"value\", \"default\": \"noval\", \"key\": \"data.properties.zip\", \"type\": \"zip\", \"with\": \"table\", \"withKey\": \"data.x\"}, {\"test\": \"d.path!='noval' && d.value!='noval'\", \"type\": \"filter\"}, {\"projection\": \"albersUsa\", \"scale\": 1100, \"translate\": [480, 250], \"type\": \"geopath\", \"value\": \"data\"}], \"url\": \"zips_us_topo.json\"}], \"height\": 500, \"legends\": [{\"fill\": \"color\", \"offset\": 0, \"properties\": {}, \"title\": \"POPULATION\"}], \"marks\": [{\"from\": {\"data\": \"states\"}, \"properties\": {\"enter\": {\"path\": {\"field\": \"path\"}, \"stroke\": {\"value\": \"#FF0000\"}}}, \"type\": \"path\"}, {\"from\": {\"data\": \"zip_codes\"}, \"properties\": {\"enter\": {\"path\": {\"field\": \"path\"}, \"stroke\": {\"value\": \"#000000\"}}, \"update\": {\"fill\": {\"field\": \"value.data.y\", \"scale\": \"color\", \"value\": \"#C390D4\"}}}, \"type\": \"path\"}], \"padding\": \"auto\", \"scales\": [{\"domain\": [6374, 6374.0], \"name\": \"color\", \"range\": [\"#f7f4f9\", \"#e7e1ef\", \"#d4b9da\", \"#c994c7\", \"#df65b0\", \"#e7298a\", \"#ce1256\", \"#980043\", \"#67001f\"], \"type\": \"quantize\"}], \"width\": 960}, function(chart) {\n",
       "         chart({el: \"#visc031bc36c967435ba59a59ea50d1992a\"}).update();\n",
       "       });\n",
       "     };\n",
       "     _do_plot();\n",
       "   })();\n",
       "</script>\n",
       "<style>.vega canvas {width: 100%;}</style>\n",
       "        "
      ],
      "text/plain": [
       "<IPython.core.display.HTML object>"
      ]
     },
     "metadata": {},
     "output_type": "display_data"
    }
   ],
   "source": [
    "zip_topo = r'zips_us_topo.json'\n",
    "state_topo = r'us_states.topo.json'\n",
    "\n",
    "geo_data2 = [{'name': 'zip_codes',\n",
    "             'url': zip_topo,\n",
    "             'feature': 'zip_codes_for_the_usa'},\n",
    "            {'name': 'states',\n",
    "             'url': state_topo,\n",
    "             'feature': 'us_states.geo'}]\n",
    "\n",
    "geo_data = [{'name': 'states',\n",
    "             'url': state_topo,\n",
    "             'feature': 'us_states.geo'},\n",
    "            {'name': 'zip_codes',\n",
    "             'url': zip_topo,\n",
    "             'feature': 'zip_codes_for_the_usa'}]\n",
    "\n",
    "vis = vincent.Map(data=urban[urban['zip']== '83211'], geo_data=geo_data, scale=1100, projection='albersUsa',\n",
    "          data_bind='POPULATION', data_key='zip',brew='PuRd',\n",
    "          map_key={'zip_codes': 'properties.zip'})\n",
    "del vis.marks[0].properties.update\n",
    "#del vis.marks[1].properties.update\n",
    "vis.marks[1].properties.update.fill.value = '#C390D4'\n",
    "#vis.marks[1].properties.enter.stroke.value = '#CCCCFF'\n",
    "#vis.marks[1].properties.enter.stroke_opacity = ValueRef(value=0.1)\n",
    "vis.marks[0].properties.enter.stroke.value = '#FF0000'\n",
    "vis.legend(title='POPULATION')\n",
    "vis.display()"
   ]
  },
  {
   "cell_type": "code",
   "execution_count": null,
   "metadata": {
    "collapsed": true
   },
   "outputs": [],
   "source": []
  }
 ],
 "metadata": {
  "kernelspec": {
   "display_name": "Python 2",
   "language": "python",
   "name": "python2"
  },
  "language_info": {
   "codemirror_mode": {
    "name": "ipython",
    "version": 2
   },
   "file_extension": ".py",
   "mimetype": "text/x-python",
   "name": "python",
   "nbconvert_exporter": "python",
   "pygments_lexer": "ipython2",
   "version": "2.7.10"
  }
 },
 "nbformat": 4,
 "nbformat_minor": 0
}
