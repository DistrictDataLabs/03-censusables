{
 "cells": [
  {
   "cell_type": "code",
   "execution_count": 1,
   "metadata": {
    "collapsed": true
   },
   "outputs": [],
   "source": [
    "%matplotlib inline\n",
    "import pandas as pd\n",
    "import json"
   ]
  },
  {
   "cell_type": "code",
   "execution_count": 2,
   "metadata": {
    "collapsed": true
   },
   "outputs": [],
   "source": [
    "#File locations\n",
    "acs_file = \"/home/russ/Documents/DDL/Data/JeffData/PCA/Jeff_data_acs5yr.csv\"\n",
    "zillow_HVI_file = \"/home/russ/Documents/DDL/Data/JeffData/PCA/Zip_Zhvi_AllHomes_HomeValueIndex.csv\"\n",
    "FDIC_deposits_100K_file = \"/home/russ/Documents/DDL/Data/JeffData/PCA/FDIC_All_Reports_20150630/All_Reports_20150630_Deposits Based on the $100,000 Reporting Threshold.csv\"\n",
    "FDIC_deposits_250K_file = \"/home/russ/Documents/DDL/Data/JeffData/PCA/FDIC_All_Reports_20150630/All_Reports_20150630_Deposits Based on the $250,000 Reporting Threshold.csv\"\n",
    "library_file = \"/home/russ/Documents/DDL/Data/JeffData/PCA/Public_Libraries_Survey_FY_2013_-_Outlet.csv\"\n",
    "complaints_file = \"/home/russ/Documents/DDL/Data/JeffData/PCA/Consumer_Complaints.csv\""
   ]
  },
  {
   "cell_type": "code",
   "execution_count": 3,
   "metadata": {
    "collapsed": false
   },
   "outputs": [],
   "source": [
    "acs = pd.read_csv(acs_file)"
   ]
  },
  {
   "cell_type": "code",
   "execution_count": 4,
   "metadata": {
    "collapsed": false,
    "scrolled": true
   },
   "outputs": [
    {
     "data": {
      "text/html": [
       "<div>\n",
       "<table border=\"1\" class=\"dataframe\">\n",
       "  <thead>\n",
       "    <tr style=\"text-align: right;\">\n",
       "      <th></th>\n",
       "      <th>zip5</th>\n",
       "      <th>pop</th>\n",
       "      <th>race_white</th>\n",
       "      <th>race_black</th>\n",
       "      <th>race_indian</th>\n",
       "      <th>race_asian</th>\n",
       "      <th>race_pac_is</th>\n",
       "      <th>race_other</th>\n",
       "      <th>race_multi</th>\n",
       "      <th>hisp</th>\n",
       "      <th>...</th>\n",
       "      <th>marital_yes30to34</th>\n",
       "      <th>marital_yes35to39</th>\n",
       "      <th>marital_yes40to44</th>\n",
       "      <th>marital_yes45to49</th>\n",
       "      <th>marital_yes50to54</th>\n",
       "      <th>marital_yes55to59</th>\n",
       "      <th>marital_yes60to64</th>\n",
       "      <th>marital_yes65to74</th>\n",
       "      <th>marital_yes75to84</th>\n",
       "      <th>marital_yes85p</th>\n",
       "    </tr>\n",
       "  </thead>\n",
       "  <tbody>\n",
       "    <tr>\n",
       "      <th>0</th>\n",
       "      <td>601</td>\n",
       "      <td>18450</td>\n",
       "      <td>0.946179</td>\n",
       "      <td>0.007805</td>\n",
       "      <td>0.000217</td>\n",
       "      <td>0.000000</td>\n",
       "      <td>0</td>\n",
       "      <td>0.042005</td>\n",
       "      <td>0.007588</td>\n",
       "      <td>0.994580</td>\n",
       "      <td>...</td>\n",
       "      <td>0.038743</td>\n",
       "      <td>0.030818</td>\n",
       "      <td>0.049919</td>\n",
       "      <td>0.051477</td>\n",
       "      <td>0.053644</td>\n",
       "      <td>0.038607</td>\n",
       "      <td>0.049038</td>\n",
       "      <td>0.068274</td>\n",
       "      <td>0.029193</td>\n",
       "      <td>0.005690</td>\n",
       "    </tr>\n",
       "    <tr>\n",
       "      <th>1</th>\n",
       "      <td>602</td>\n",
       "      <td>41302</td>\n",
       "      <td>0.635611</td>\n",
       "      <td>0.035010</td>\n",
       "      <td>0.000654</td>\n",
       "      <td>0.001719</td>\n",
       "      <td>0</td>\n",
       "      <td>0.030676</td>\n",
       "      <td>0.592659</td>\n",
       "      <td>0.935838</td>\n",
       "      <td>...</td>\n",
       "      <td>0.039094</td>\n",
       "      <td>0.037999</td>\n",
       "      <td>0.051465</td>\n",
       "      <td>0.049600</td>\n",
       "      <td>0.058420</td>\n",
       "      <td>0.054276</td>\n",
       "      <td>0.053892</td>\n",
       "      <td>0.067683</td>\n",
       "      <td>0.025244</td>\n",
       "      <td>0.002545</td>\n",
       "    </tr>\n",
       "    <tr>\n",
       "      <th>2</th>\n",
       "      <td>603</td>\n",
       "      <td>53683</td>\n",
       "      <td>0.775217</td>\n",
       "      <td>0.032953</td>\n",
       "      <td>0.000335</td>\n",
       "      <td>0.008345</td>\n",
       "      <td>0</td>\n",
       "      <td>0.030643</td>\n",
       "      <td>0.305013</td>\n",
       "      <td>0.958609</td>\n",
       "      <td>...</td>\n",
       "      <td>0.037783</td>\n",
       "      <td>0.037464</td>\n",
       "      <td>0.033750</td>\n",
       "      <td>0.039014</td>\n",
       "      <td>0.042386</td>\n",
       "      <td>0.046215</td>\n",
       "      <td>0.056538</td>\n",
       "      <td>0.077891</td>\n",
       "      <td>0.031152</td>\n",
       "      <td>0.003168</td>\n",
       "    </tr>\n",
       "    <tr>\n",
       "      <th>3</th>\n",
       "      <td>606</td>\n",
       "      <td>6591</td>\n",
       "      <td>0.953421</td>\n",
       "      <td>0.011227</td>\n",
       "      <td>0.000000</td>\n",
       "      <td>0.000000</td>\n",
       "      <td>0</td>\n",
       "      <td>0.022151</td>\n",
       "      <td>0.026400</td>\n",
       "      <td>0.998635</td>\n",
       "      <td>...</td>\n",
       "      <td>0.004145</td>\n",
       "      <td>0.024496</td>\n",
       "      <td>0.032410</td>\n",
       "      <td>0.029772</td>\n",
       "      <td>0.049934</td>\n",
       "      <td>0.034483</td>\n",
       "      <td>0.061428</td>\n",
       "      <td>0.052007</td>\n",
       "      <td>0.012436</td>\n",
       "      <td>0.003580</td>\n",
       "    </tr>\n",
       "    <tr>\n",
       "      <th>4</th>\n",
       "      <td>610</td>\n",
       "      <td>28963</td>\n",
       "      <td>0.740013</td>\n",
       "      <td>0.029141</td>\n",
       "      <td>0.000000</td>\n",
       "      <td>0.000725</td>\n",
       "      <td>0</td>\n",
       "      <td>0.167041</td>\n",
       "      <td>0.126161</td>\n",
       "      <td>0.992542</td>\n",
       "      <td>...</td>\n",
       "      <td>0.032814</td>\n",
       "      <td>0.031205</td>\n",
       "      <td>0.067025</td>\n",
       "      <td>0.049411</td>\n",
       "      <td>0.052079</td>\n",
       "      <td>0.041282</td>\n",
       "      <td>0.048353</td>\n",
       "      <td>0.078161</td>\n",
       "      <td>0.026590</td>\n",
       "      <td>0.006563</td>\n",
       "    </tr>\n",
       "  </tbody>\n",
       "</table>\n",
       "<p>5 rows × 77 columns</p>\n",
       "</div>"
      ],
      "text/plain": [
       "   zip5    pop  race_white  race_black  race_indian  race_asian  race_pac_is  \\\n",
       "0   601  18450    0.946179    0.007805     0.000217    0.000000            0   \n",
       "1   602  41302    0.635611    0.035010     0.000654    0.001719            0   \n",
       "2   603  53683    0.775217    0.032953     0.000335    0.008345            0   \n",
       "3   606   6591    0.953421    0.011227     0.000000    0.000000            0   \n",
       "4   610  28963    0.740013    0.029141     0.000000    0.000725            0   \n",
       "\n",
       "   race_other  race_multi      hisp       ...        marital_yes30to34  \\\n",
       "0    0.042005    0.007588  0.994580       ...                 0.038743   \n",
       "1    0.030676    0.592659  0.935838       ...                 0.039094   \n",
       "2    0.030643    0.305013  0.958609       ...                 0.037783   \n",
       "3    0.022151    0.026400  0.998635       ...                 0.004145   \n",
       "4    0.167041    0.126161  0.992542       ...                 0.032814   \n",
       "\n",
       "   marital_yes35to39  marital_yes40to44  marital_yes45to49  marital_yes50to54  \\\n",
       "0           0.030818           0.049919           0.051477           0.053644   \n",
       "1           0.037999           0.051465           0.049600           0.058420   \n",
       "2           0.037464           0.033750           0.039014           0.042386   \n",
       "3           0.024496           0.032410           0.029772           0.049934   \n",
       "4           0.031205           0.067025           0.049411           0.052079   \n",
       "\n",
       "   marital_yes55to59  marital_yes60to64  marital_yes65to74  marital_yes75to84  \\\n",
       "0           0.038607           0.049038           0.068274           0.029193   \n",
       "1           0.054276           0.053892           0.067683           0.025244   \n",
       "2           0.046215           0.056538           0.077891           0.031152   \n",
       "3           0.034483           0.061428           0.052007           0.012436   \n",
       "4           0.041282           0.048353           0.078161           0.026590   \n",
       "\n",
       "   marital_yes85p  \n",
       "0        0.005690  \n",
       "1        0.002545  \n",
       "2        0.003168  \n",
       "3        0.003580  \n",
       "4        0.006563  \n",
       "\n",
       "[5 rows x 77 columns]"
      ]
     },
     "execution_count": 4,
     "metadata": {},
     "output_type": "execute_result"
    }
   ],
   "source": [
    "acs.head()"
   ]
  },
  {
   "cell_type": "code",
   "execution_count": 6,
   "metadata": {
    "collapsed": true
   },
   "outputs": [],
   "source": [
    "zillow = pd.read_csv(zillow_HVI_file)"
   ]
  },
  {
   "cell_type": "code",
   "execution_count": 12,
   "metadata": {
    "collapsed": false
   },
   "outputs": [],
   "source": [
    "zillow = zillow[['RegionName','1996-07','1997-01','1997-07','1998-01','1998-07','1999-01','1999-07','2000-01','2000-07'\\\n",
    "    ,'2001-01','2001-07','2002-01','2002-07','2003-01','2003-07','2004-01','2004-07','2005-01','2005-07','2006-01','2006-07'\\\n",
    "    ,'2007-01','2007-07','2008-01','2008-07','2009-01','2009-07','2010-01','2010-07','2011-01','2011-07','2012-01','2012-07'\\\n",
    "    ,'2013-01','2013-07','2014-01','2014-07','2015-01','2015-07']]"
   ]
  },
  {
   "cell_type": "code",
   "execution_count": 7,
   "metadata": {
    "collapsed": false
   },
   "outputs": [
    {
     "data": {
      "text/html": [
       "<div>\n",
       "<table border=\"1\" class=\"dataframe\">\n",
       "  <thead>\n",
       "    <tr style=\"text-align: right;\">\n",
       "      <th></th>\n",
       "      <th>zip</th>\n",
       "      <th>City</th>\n",
       "      <th>State</th>\n",
       "      <th>Metro</th>\n",
       "      <th>CountyName</th>\n",
       "      <th>1996-04</th>\n",
       "      <th>1996-05</th>\n",
       "      <th>1996-06</th>\n",
       "      <th>1996-07</th>\n",
       "      <th>1996-08</th>\n",
       "      <th>...</th>\n",
       "      <th>2014-10</th>\n",
       "      <th>2014-11</th>\n",
       "      <th>2014-12</th>\n",
       "      <th>2015-01</th>\n",
       "      <th>2015-02</th>\n",
       "      <th>2015-03</th>\n",
       "      <th>2015-04</th>\n",
       "      <th>2015-05</th>\n",
       "      <th>2015-06</th>\n",
       "      <th>2015-07</th>\n",
       "    </tr>\n",
       "  </thead>\n",
       "  <tbody>\n",
       "    <tr>\n",
       "      <th>0</th>\n",
       "      <td>10025</td>\n",
       "      <td>New York</td>\n",
       "      <td>NY</td>\n",
       "      <td>New York</td>\n",
       "      <td>New York</td>\n",
       "      <td>NaN</td>\n",
       "      <td>NaN</td>\n",
       "      <td>NaN</td>\n",
       "      <td>NaN</td>\n",
       "      <td>NaN</td>\n",
       "      <td>...</td>\n",
       "      <td>1020000</td>\n",
       "      <td>1019600</td>\n",
       "      <td>1024100</td>\n",
       "      <td>1029600</td>\n",
       "      <td>1035800</td>\n",
       "      <td>1047600</td>\n",
       "      <td>1063000</td>\n",
       "      <td>1073100</td>\n",
       "      <td>1084100</td>\n",
       "      <td>1097100</td>\n",
       "    </tr>\n",
       "    <tr>\n",
       "      <th>1</th>\n",
       "      <td>60657</td>\n",
       "      <td>Chicago</td>\n",
       "      <td>IL</td>\n",
       "      <td>Chicago</td>\n",
       "      <td>Cook</td>\n",
       "      <td>142500</td>\n",
       "      <td>142100</td>\n",
       "      <td>141900</td>\n",
       "      <td>141900</td>\n",
       "      <td>142400</td>\n",
       "      <td>...</td>\n",
       "      <td>302900</td>\n",
       "      <td>304300</td>\n",
       "      <td>305000</td>\n",
       "      <td>304500</td>\n",
       "      <td>303600</td>\n",
       "      <td>302900</td>\n",
       "      <td>303300</td>\n",
       "      <td>304400</td>\n",
       "      <td>305900</td>\n",
       "      <td>307000</td>\n",
       "    </tr>\n",
       "    <tr>\n",
       "      <th>2</th>\n",
       "      <td>60614</td>\n",
       "      <td>Chicago</td>\n",
       "      <td>IL</td>\n",
       "      <td>Chicago</td>\n",
       "      <td>Cook</td>\n",
       "      <td>197700</td>\n",
       "      <td>194800</td>\n",
       "      <td>193300</td>\n",
       "      <td>193200</td>\n",
       "      <td>193500</td>\n",
       "      <td>...</td>\n",
       "      <td>381200</td>\n",
       "      <td>380700</td>\n",
       "      <td>379900</td>\n",
       "      <td>378900</td>\n",
       "      <td>378100</td>\n",
       "      <td>379500</td>\n",
       "      <td>383300</td>\n",
       "      <td>387900</td>\n",
       "      <td>391000</td>\n",
       "      <td>393000</td>\n",
       "    </tr>\n",
       "    <tr>\n",
       "      <th>3</th>\n",
       "      <td>79936</td>\n",
       "      <td>El Paso</td>\n",
       "      <td>TX</td>\n",
       "      <td>El Paso</td>\n",
       "      <td>El Paso</td>\n",
       "      <td>70800</td>\n",
       "      <td>71000</td>\n",
       "      <td>70900</td>\n",
       "      <td>71100</td>\n",
       "      <td>71000</td>\n",
       "      <td>...</td>\n",
       "      <td>112400</td>\n",
       "      <td>112200</td>\n",
       "      <td>111800</td>\n",
       "      <td>111600</td>\n",
       "      <td>111300</td>\n",
       "      <td>111200</td>\n",
       "      <td>111300</td>\n",
       "      <td>111600</td>\n",
       "      <td>111800</td>\n",
       "      <td>112100</td>\n",
       "    </tr>\n",
       "    <tr>\n",
       "      <th>4</th>\n",
       "      <td>10002</td>\n",
       "      <td>New York</td>\n",
       "      <td>NY</td>\n",
       "      <td>New York</td>\n",
       "      <td>New York</td>\n",
       "      <td>NaN</td>\n",
       "      <td>NaN</td>\n",
       "      <td>NaN</td>\n",
       "      <td>NaN</td>\n",
       "      <td>NaN</td>\n",
       "      <td>...</td>\n",
       "      <td>869300</td>\n",
       "      <td>881300</td>\n",
       "      <td>894800</td>\n",
       "      <td>903200</td>\n",
       "      <td>905900</td>\n",
       "      <td>899000</td>\n",
       "      <td>894500</td>\n",
       "      <td>901300</td>\n",
       "      <td>925500</td>\n",
       "      <td>951600</td>\n",
       "    </tr>\n",
       "  </tbody>\n",
       "</table>\n",
       "<p>5 rows × 237 columns</p>\n",
       "</div>"
      ],
      "text/plain": [
       "     zip      City State     Metro CountyName  1996-04  1996-05  1996-06  \\\n",
       "0  10025  New York    NY  New York   New York      NaN      NaN      NaN   \n",
       "1  60657   Chicago    IL   Chicago       Cook   142500   142100   141900   \n",
       "2  60614   Chicago    IL   Chicago       Cook   197700   194800   193300   \n",
       "3  79936   El Paso    TX   El Paso    El Paso    70800    71000    70900   \n",
       "4  10002  New York    NY  New York   New York      NaN      NaN      NaN   \n",
       "\n",
       "   1996-07  1996-08   ...     2014-10  2014-11  2014-12  2015-01  2015-02  \\\n",
       "0      NaN      NaN   ...     1020000  1019600  1024100  1029600  1035800   \n",
       "1   141900   142400   ...      302900   304300   305000   304500   303600   \n",
       "2   193200   193500   ...      381200   380700   379900   378900   378100   \n",
       "3    71100    71000   ...      112400   112200   111800   111600   111300   \n",
       "4      NaN      NaN   ...      869300   881300   894800   903200   905900   \n",
       "\n",
       "   2015-03  2015-04  2015-05  2015-06  2015-07  \n",
       "0  1047600  1063000  1073100  1084100  1097100  \n",
       "1   302900   303300   304400   305900   307000  \n",
       "2   379500   383300   387900   391000   393000  \n",
       "3   111200   111300   111600   111800   112100  \n",
       "4   899000   894500   901300   925500   951600  \n",
       "\n",
       "[5 rows x 237 columns]"
      ]
     },
     "execution_count": 7,
     "metadata": {},
     "output_type": "execute_result"
    }
   ],
   "source": [
    "zillow.rename(columns={'RegionName':'zip'},inplace=True)\n",
    "zillow.head()"
   ]
  },
  {
   "cell_type": "code",
   "execution_count": 5,
   "metadata": {
    "collapsed": true
   },
   "outputs": [],
   "source": [
    "deposits_250K = pd.read_csv(FDIC_deposits_250K_file)"
   ]
  },
  {
   "cell_type": "code",
   "execution_count": 6,
   "metadata": {
    "collapsed": false,
    "scrolled": true
   },
   "outputs": [],
   "source": [
    "#deposits_250K = deposits_250K[['zip'],['IDdepsmb'],['DEPSMRA'],['DEPSMRN'],['NTRCDSMJ'],['IDdeplam'],['IDdeplgb'],['DEPLGRA'],['DEPLGRN'],['NTRTMLGJ']]\n",
    "deposits_250K = deposits_250K[['zip','IDdepsam','IDdepsmb','DEPSMRA','DEPSMRN','NTRCDSMJ','IDdeplam','IDdeplgb','DEPLGRA','DEPLGRN','NTRTMLGJ']]"
   ]
  },
  {
   "cell_type": "code",
   "execution_count": 7,
   "metadata": {
    "collapsed": false
   },
   "outputs": [],
   "source": [
    "deposits_250K.columns = ['zip5','dep_amt_low','dep_count_low','retirement_amt_low','retirement_count_low','time_deposits_low','dep_amt_high','dep_count_high','retirement_amt_high','retirement_count_high','time_deposits_high']"
   ]
  },
  {
   "cell_type": "code",
   "execution_count": 8,
   "metadata": {
    "collapsed": false
   },
   "outputs": [
    {
     "data": {
      "text/html": [
       "<div>\n",
       "<table border=\"1\" class=\"dataframe\">\n",
       "  <thead>\n",
       "    <tr style=\"text-align: right;\">\n",
       "      <th></th>\n",
       "      <th>zip5</th>\n",
       "      <th>dep_amt_low</th>\n",
       "      <th>dep_count_low</th>\n",
       "      <th>retirement_amt_low</th>\n",
       "      <th>retirement_count_low</th>\n",
       "      <th>time_deposits_low</th>\n",
       "      <th>dep_amt_high</th>\n",
       "      <th>dep_count_high</th>\n",
       "      <th>retirement_amt_high</th>\n",
       "      <th>retirement_count_high</th>\n",
       "      <th>time_deposits_high</th>\n",
       "    </tr>\n",
       "  </thead>\n",
       "  <tbody>\n",
       "    <tr>\n",
       "      <th>0</th>\n",
       "      <td>21613</td>\n",
       "      <td>105111</td>\n",
       "      <td>9871</td>\n",
       "      <td>11265</td>\n",
       "      <td>712</td>\n",
       "      <td>40000</td>\n",
       "      <td>49156</td>\n",
       "      <td>70</td>\n",
       "      <td>781</td>\n",
       "      <td>2</td>\n",
       "      <td>13062</td>\n",
       "    </tr>\n",
       "    <tr>\n",
       "      <th>1</th>\n",
       "      <td>21202</td>\n",
       "      <td>0</td>\n",
       "      <td>0</td>\n",
       "      <td>0</td>\n",
       "      <td>0</td>\n",
       "      <td>0</td>\n",
       "      <td>500</td>\n",
       "      <td>1</td>\n",
       "      <td>0</td>\n",
       "      <td>0</td>\n",
       "      <td>500</td>\n",
       "    </tr>\n",
       "    <tr>\n",
       "      <th>2</th>\n",
       "      <td>63376</td>\n",
       "      <td>42888</td>\n",
       "      <td>1250</td>\n",
       "      <td>1552</td>\n",
       "      <td>84</td>\n",
       "      <td>28590</td>\n",
       "      <td>21793</td>\n",
       "      <td>32</td>\n",
       "      <td>0</td>\n",
       "      <td>0</td>\n",
       "      <td>4088</td>\n",
       "    </tr>\n",
       "    <tr>\n",
       "      <th>3</th>\n",
       "      <td>59317</td>\n",
       "      <td>30205</td>\n",
       "      <td>2340</td>\n",
       "      <td>743</td>\n",
       "      <td>57</td>\n",
       "      <td>7043</td>\n",
       "      <td>11090</td>\n",
       "      <td>30</td>\n",
       "      <td>0</td>\n",
       "      <td>0</td>\n",
       "      <td>0</td>\n",
       "    </tr>\n",
       "    <tr>\n",
       "      <th>4</th>\n",
       "      <td>74728</td>\n",
       "      <td>82686</td>\n",
       "      <td>8762</td>\n",
       "      <td>6146</td>\n",
       "      <td>208</td>\n",
       "      <td>26712</td>\n",
       "      <td>28517</td>\n",
       "      <td>37</td>\n",
       "      <td>360</td>\n",
       "      <td>1</td>\n",
       "      <td>1787</td>\n",
       "    </tr>\n",
       "  </tbody>\n",
       "</table>\n",
       "</div>"
      ],
      "text/plain": [
       "    zip5  dep_amt_low  dep_count_low  retirement_amt_low  \\\n",
       "0  21613       105111           9871               11265   \n",
       "1  21202            0              0                   0   \n",
       "2  63376        42888           1250                1552   \n",
       "3  59317        30205           2340                 743   \n",
       "4  74728        82686           8762                6146   \n",
       "\n",
       "   retirement_count_low  time_deposits_low  dep_amt_high  dep_count_high  \\\n",
       "0                   712              40000         49156              70   \n",
       "1                     0                  0           500               1   \n",
       "2                    84              28590         21793              32   \n",
       "3                    57               7043         11090              30   \n",
       "4                   208              26712         28517              37   \n",
       "\n",
       "   retirement_amt_high  retirement_count_high  time_deposits_high  \n",
       "0                  781                      2               13062  \n",
       "1                    0                      0                 500  \n",
       "2                    0                      0                4088  \n",
       "3                    0                      0                   0  \n",
       "4                  360                      1                1787  "
      ]
     },
     "execution_count": 8,
     "metadata": {},
     "output_type": "execute_result"
    }
   ],
   "source": [
    "deposits_250K.head()"
   ]
  },
  {
   "cell_type": "code",
   "execution_count": 9,
   "metadata": {
    "collapsed": false
   },
   "outputs": [],
   "source": [
    "deposits_zip = deposits_250K['dep_amt_high'].groupby(deposits_250K['zip5']).mean().reset_index()"
   ]
  },
  {
   "cell_type": "code",
   "execution_count": 10,
   "metadata": {
    "collapsed": false
   },
   "outputs": [
    {
     "data": {
      "text/html": [
       "<div>\n",
       "<table border=\"1\" class=\"dataframe\">\n",
       "  <thead>\n",
       "    <tr style=\"text-align: right;\">\n",
       "      <th></th>\n",
       "      <th>zip5</th>\n",
       "      <th>dep_amt_high</th>\n",
       "    </tr>\n",
       "  </thead>\n",
       "  <tbody>\n",
       "    <tr>\n",
       "      <th>0</th>\n",
       "      <td>802</td>\n",
       "      <td>67941</td>\n",
       "    </tr>\n",
       "    <tr>\n",
       "      <th>1</th>\n",
       "      <td>820</td>\n",
       "      <td>36914</td>\n",
       "    </tr>\n",
       "    <tr>\n",
       "      <th>2</th>\n",
       "      <td>909</td>\n",
       "      <td>2542958</td>\n",
       "    </tr>\n",
       "    <tr>\n",
       "      <th>3</th>\n",
       "      <td>917</td>\n",
       "      <td>2690626</td>\n",
       "    </tr>\n",
       "    <tr>\n",
       "      <th>4</th>\n",
       "      <td>918</td>\n",
       "      <td>1567600</td>\n",
       "    </tr>\n",
       "  </tbody>\n",
       "</table>\n",
       "</div>"
      ],
      "text/plain": [
       "   zip5  dep_amt_high\n",
       "0   802         67941\n",
       "1   820         36914\n",
       "2   909       2542958\n",
       "3   917       2690626\n",
       "4   918       1567600"
      ]
     },
     "execution_count": 10,
     "metadata": {},
     "output_type": "execute_result"
    }
   ],
   "source": [
    "deposits_zip.head()"
   ]
  },
  {
   "cell_type": "code",
   "execution_count": 11,
   "metadata": {
    "collapsed": false
   },
   "outputs": [],
   "source": [
    "library = pd.read_csv(library_file)"
   ]
  },
  {
   "cell_type": "code",
   "execution_count": 12,
   "metadata": {
    "collapsed": false,
    "scrolled": true
   },
   "outputs": [],
   "source": [
    "#Slice field value based on hard coded State\n",
    "#Next step to substitute ['STABR'] for State text to dynamically find location of each state within address field\n",
    "#library_zip.apply(lambda x : x['Location'][0:15], axis =1)\n",
    "#library_zip.apply(lambda x : x['Location'][x['Location'].find(', AK')+5:x['Location'].find(', AK')+10], axis =1)\n",
    "#Strip Zip Code From Location Column\n",
    "#library_zip = library[['Location','STABR']]\n",
    "#library_zip['zip'] = library_zip.apply(lambda x : x['Location'][x['Location'].find(', ' + x['STABR'])+5:x['Location'].find(', ' + x['STABR'])+10], axis =1)"
   ]
  },
  {
   "cell_type": "code",
   "execution_count": 160,
   "metadata": {
    "collapsed": false
   },
   "outputs": [],
   "source": [
    "#Parse out Zip Code from Location field\n",
    "library['zip'] = library.apply(lambda x : x['Location'][x['Location'].rfind(', ' + x['STABR'])+5:x['Location'].rfind(', ' + x['STABR'])+10], axis =1)"
   ]
  },
  {
   "cell_type": "code",
   "execution_count": 161,
   "metadata": {
    "collapsed": false,
    "scrolled": true
   },
   "outputs": [
    {
     "data": {
      "text/html": [
       "<div>\n",
       "<table border=\"1\" class=\"dataframe\">\n",
       "  <thead>\n",
       "    <tr style=\"text-align: right;\">\n",
       "      <th></th>\n",
       "      <th>STABR</th>\n",
       "      <th>FSCSKEY</th>\n",
       "      <th>FSCS_SEQ</th>\n",
       "      <th>LIBID</th>\n",
       "      <th>LIBNAME</th>\n",
       "      <th>CNTY</th>\n",
       "      <th>PHONE</th>\n",
       "      <th>C_OUT_TY</th>\n",
       "      <th>C_MSA</th>\n",
       "      <th>SQ_FEET</th>\n",
       "      <th>...</th>\n",
       "      <th>CENTRACT</th>\n",
       "      <th>CENBLOCK</th>\n",
       "      <th>CDCODE</th>\n",
       "      <th>CBSA</th>\n",
       "      <th>MICROF</th>\n",
       "      <th>GAL</th>\n",
       "      <th>GALMS</th>\n",
       "      <th>POSTMS</th>\n",
       "      <th>Location</th>\n",
       "      <th>zip</th>\n",
       "    </tr>\n",
       "  </thead>\n",
       "  <tbody>\n",
       "    <tr>\n",
       "      <th>0</th>\n",
       "      <td>AK</td>\n",
       "      <td>AK0001</td>\n",
       "      <td>2</td>\n",
       "      <td>AK0001-002</td>\n",
       "      <td>ANCHOR POINT PUBLIC LIBRARY</td>\n",
       "      <td>KENAI PENINSULA</td>\n",
       "      <td>9072355692</td>\n",
       "      <td>CE</td>\n",
       "      <td>NO</td>\n",
       "      <td>1287</td>\n",
       "      <td>...</td>\n",
       "      <td>8.00</td>\n",
       "      <td>3014</td>\n",
       "      <td>200</td>\n",
       "      <td>0</td>\n",
       "      <td>0</td>\n",
       "      <td>house</td>\n",
       "      <td>STD</td>\n",
       "      <td>NND</td>\n",
       "      <td>72551 MILO FRITZ AVENUE\\nANCHOR POINT, AK 9955...</td>\n",
       "      <td>99556</td>\n",
       "    </tr>\n",
       "    <tr>\n",
       "      <th>1</th>\n",
       "      <td>AK</td>\n",
       "      <td>AK0002</td>\n",
       "      <td>7</td>\n",
       "      <td>AK0002-007</td>\n",
       "      <td>CHUGIAK/EAGLE RIVER NEIGHBORHOOD LIBRARY</td>\n",
       "      <td>ANCHORAGE</td>\n",
       "      <td>9073431530</td>\n",
       "      <td>BR</td>\n",
       "      <td>CC</td>\n",
       "      <td>17888</td>\n",
       "      <td>...</td>\n",
       "      <td>2.01</td>\n",
       "      <td>2021</td>\n",
       "      <td>200</td>\n",
       "      <td>11260</td>\n",
       "      <td>0</td>\n",
       "      <td>addresspoint</td>\n",
       "      <td>STD</td>\n",
       "      <td>NND</td>\n",
       "      <td>12001 BUSINESS BOULEVARD #176\\nEAGLE RIVER, AK...</td>\n",
       "      <td>99577</td>\n",
       "    </tr>\n",
       "  </tbody>\n",
       "</table>\n",
       "<p>2 rows × 37 columns</p>\n",
       "</div>"
      ],
      "text/plain": [
       "  STABR FSCSKEY  FSCS_SEQ       LIBID  \\\n",
       "0    AK  AK0001         2  AK0001-002   \n",
       "1    AK  AK0002         7  AK0002-007   \n",
       "\n",
       "                                    LIBNAME             CNTY       PHONE  \\\n",
       "0               ANCHOR POINT PUBLIC LIBRARY  KENAI PENINSULA  9072355692   \n",
       "1  CHUGIAK/EAGLE RIVER NEIGHBORHOOD LIBRARY        ANCHORAGE  9073431530   \n",
       "\n",
       "  C_OUT_TY C_MSA  SQ_FEET  ...   CENTRACT  CENBLOCK CDCODE   CBSA MICROF  \\\n",
       "0       CE    NO     1287  ...       8.00      3014    200      0      0   \n",
       "1       BR    CC    17888  ...       2.01      2021    200  11260      0   \n",
       "\n",
       "            GAL GALMS  POSTMS  \\\n",
       "0         house   STD     NND   \n",
       "1  addresspoint   STD     NND   \n",
       "\n",
       "                                            Location    zip  \n",
       "0  72551 MILO FRITZ AVENUE\\nANCHOR POINT, AK 9955...  99556  \n",
       "1  12001 BUSINESS BOULEVARD #176\\nEAGLE RIVER, AK...  99577  \n",
       "\n",
       "[2 rows x 37 columns]"
      ]
     },
     "execution_count": 161,
     "metadata": {},
     "output_type": "execute_result"
    }
   ],
   "source": [
    "library.head(2)"
   ]
  },
  {
   "cell_type": "code",
   "execution_count": 9,
   "metadata": {
    "collapsed": true
   },
   "outputs": [],
   "source": [
    "#Change to your local path\n",
    "library.to_csv(\"/home/russ/Documents/DDL/Data/JeffData/PCA/Library_ZipCode.csv\")"
   ]
  },
  {
   "cell_type": "code",
   "execution_count": 162,
   "metadata": {
    "collapsed": false
   },
   "outputs": [],
   "source": [
    "library_zip = library['STABR'].groupby(library['zip']).count().reset_index()"
   ]
  },
  {
   "cell_type": "code",
   "execution_count": 163,
   "metadata": {
    "collapsed": false
   },
   "outputs": [],
   "source": [
    "library_zip['zip5'] = library_zip.apply(lambda x: int(x['zip']),axis=1)"
   ]
  },
  {
   "cell_type": "code",
   "execution_count": 166,
   "metadata": {
    "collapsed": false
   },
   "outputs": [],
   "source": [
    "library_zip.columns = ['zip','LibraryCount','zip5']"
   ]
  },
  {
   "cell_type": "code",
   "execution_count": 167,
   "metadata": {
    "collapsed": false
   },
   "outputs": [
    {
     "data": {
      "text/html": [
       "<div>\n",
       "<table border=\"1\" class=\"dataframe\">\n",
       "  <thead>\n",
       "    <tr style=\"text-align: right;\">\n",
       "      <th></th>\n",
       "      <th>zip</th>\n",
       "      <th>LibraryCount</th>\n",
       "      <th>zip5</th>\n",
       "    </tr>\n",
       "  </thead>\n",
       "  <tbody>\n",
       "    <tr>\n",
       "      <th>0</th>\n",
       "      <td>00602</td>\n",
       "      <td>1</td>\n",
       "      <td>602</td>\n",
       "    </tr>\n",
       "    <tr>\n",
       "      <th>1</th>\n",
       "      <td>00603</td>\n",
       "      <td>1</td>\n",
       "      <td>603</td>\n",
       "    </tr>\n",
       "    <tr>\n",
       "      <th>2</th>\n",
       "      <td>00605</td>\n",
       "      <td>1</td>\n",
       "      <td>605</td>\n",
       "    </tr>\n",
       "    <tr>\n",
       "      <th>3</th>\n",
       "      <td>00610</td>\n",
       "      <td>1</td>\n",
       "      <td>610</td>\n",
       "    </tr>\n",
       "    <tr>\n",
       "      <th>4</th>\n",
       "      <td>00612</td>\n",
       "      <td>1</td>\n",
       "      <td>612</td>\n",
       "    </tr>\n",
       "    <tr>\n",
       "      <th>5</th>\n",
       "      <td>00613</td>\n",
       "      <td>2</td>\n",
       "      <td>613</td>\n",
       "    </tr>\n",
       "    <tr>\n",
       "      <th>6</th>\n",
       "      <td>00617</td>\n",
       "      <td>2</td>\n",
       "      <td>617</td>\n",
       "    </tr>\n",
       "    <tr>\n",
       "      <th>7</th>\n",
       "      <td>00624</td>\n",
       "      <td>1</td>\n",
       "      <td>624</td>\n",
       "    </tr>\n",
       "    <tr>\n",
       "      <th>8</th>\n",
       "      <td>00627</td>\n",
       "      <td>4</td>\n",
       "      <td>627</td>\n",
       "    </tr>\n",
       "    <tr>\n",
       "      <th>9</th>\n",
       "      <td>00638</td>\n",
       "      <td>1</td>\n",
       "      <td>638</td>\n",
       "    </tr>\n",
       "  </tbody>\n",
       "</table>\n",
       "</div>"
      ],
      "text/plain": [
       "     zip  LibraryCount  zip5\n",
       "0  00602             1   602\n",
       "1  00603             1   603\n",
       "2  00605             1   605\n",
       "3  00610             1   610\n",
       "4  00612             1   612\n",
       "5  00613             2   613\n",
       "6  00617             2   617\n",
       "7  00624             1   624\n",
       "8  00627             4   627\n",
       "9  00638             1   638"
      ]
     },
     "execution_count": 167,
     "metadata": {},
     "output_type": "execute_result"
    }
   ],
   "source": [
    "library_zip.head(10)"
   ]
  },
  {
   "cell_type": "code",
   "execution_count": 13,
   "metadata": {
    "collapsed": false
   },
   "outputs": [],
   "source": [
    "combined = pd.merge(acs[['zip5','snap','inc_median','poverty']],deposits_zip[['zip5','dep_amt_high']], on='zip5',copy=False)"
   ]
  },
  {
   "cell_type": "code",
   "execution_count": 14,
   "metadata": {
    "collapsed": false
   },
   "outputs": [
    {
     "data": {
      "text/html": [
       "<div>\n",
       "<table border=\"1\" class=\"dataframe\">\n",
       "  <thead>\n",
       "    <tr style=\"text-align: right;\">\n",
       "      <th></th>\n",
       "      <th>zip5</th>\n",
       "      <th>snap</th>\n",
       "      <th>inc_median</th>\n",
       "      <th>poverty</th>\n",
       "      <th>dep_amt_high</th>\n",
       "    </tr>\n",
       "  </thead>\n",
       "  <tbody>\n",
       "    <tr>\n",
       "      <th>0</th>\n",
       "      <td>909</td>\n",
       "      <td>0.291393</td>\n",
       "      <td>16891</td>\n",
       "      <td>0.543534</td>\n",
       "      <td>2542958</td>\n",
       "    </tr>\n",
       "    <tr>\n",
       "      <th>1</th>\n",
       "      <td>917</td>\n",
       "      <td>0.328958</td>\n",
       "      <td>16802</td>\n",
       "      <td>0.531585</td>\n",
       "      <td>2690626</td>\n",
       "    </tr>\n",
       "    <tr>\n",
       "      <th>2</th>\n",
       "      <td>918</td>\n",
       "      <td>0.217590</td>\n",
       "      <td>26573</td>\n",
       "      <td>0.496521</td>\n",
       "      <td>1567600</td>\n",
       "    </tr>\n",
       "    <tr>\n",
       "      <th>3</th>\n",
       "      <td>926</td>\n",
       "      <td>0.173707</td>\n",
       "      <td>35308</td>\n",
       "      <td>0.262210</td>\n",
       "      <td>1874329</td>\n",
       "    </tr>\n",
       "    <tr>\n",
       "      <th>4</th>\n",
       "      <td>1005</td>\n",
       "      <td>0.029427</td>\n",
       "      <td>68644</td>\n",
       "      <td>0.037358</td>\n",
       "      <td>25720</td>\n",
       "    </tr>\n",
       "  </tbody>\n",
       "</table>\n",
       "</div>"
      ],
      "text/plain": [
       "   zip5      snap  inc_median   poverty  dep_amt_high\n",
       "0   909  0.291393       16891  0.543534       2542958\n",
       "1   917  0.328958       16802  0.531585       2690626\n",
       "2   918  0.217590       26573  0.496521       1567600\n",
       "3   926  0.173707       35308  0.262210       1874329\n",
       "4  1005  0.029427       68644  0.037358         25720"
      ]
     },
     "execution_count": 14,
     "metadata": {},
     "output_type": "execute_result"
    }
   ],
   "source": [
    "combined.head()"
   ]
  },
  {
   "cell_type": "code",
   "execution_count": 15,
   "metadata": {
    "collapsed": false
   },
   "outputs": [
    {
     "data": {
      "text/html": [
       "<div>\n",
       "<table border=\"1\" class=\"dataframe\">\n",
       "  <thead>\n",
       "    <tr style=\"text-align: right;\">\n",
       "      <th></th>\n",
       "      <th>zip5</th>\n",
       "      <th>snap</th>\n",
       "      <th>inc_median</th>\n",
       "      <th>poverty</th>\n",
       "      <th>dep_amt_high</th>\n",
       "    </tr>\n",
       "  </thead>\n",
       "  <tbody>\n",
       "    <tr>\n",
       "      <th>4759</th>\n",
       "      <td>90210</td>\n",
       "      <td>0.008544</td>\n",
       "      <td>132254</td>\n",
       "      <td>0.077309</td>\n",
       "      <td>23634809</td>\n",
       "    </tr>\n",
       "  </tbody>\n",
       "</table>\n",
       "</div>"
      ],
      "text/plain": [
       "       zip5      snap  inc_median   poverty  dep_amt_high\n",
       "4759  90210  0.008544      132254  0.077309      23634809"
      ]
     },
     "execution_count": 15,
     "metadata": {},
     "output_type": "execute_result"
    }
   ],
   "source": [
    "combined[combined['zip5']==90210]"
   ]
  },
  {
   "cell_type": "code",
   "execution_count": 16,
   "metadata": {
    "collapsed": true
   },
   "outputs": [],
   "source": [
    "#Beginning PCA Analysis (reference: http://sebastianraschka.com/Articles/2015_pca_in_3_steps.html)\n",
    "\n",
    "X = combined.ix[:,1:5].values\n",
    "y = combined.ix[:,0].values"
   ]
  },
  {
   "cell_type": "code",
   "execution_count": 17,
   "metadata": {
    "collapsed": false
   },
   "outputs": [
    {
     "data": {
      "text/plain": [
       "array([  909,   917,   918, ..., 99510, 99701, 99901])"
      ]
     },
     "execution_count": 17,
     "metadata": {},
     "output_type": "execute_result"
    }
   ],
   "source": [
    "y"
   ]
  },
  {
   "cell_type": "code",
   "execution_count": 18,
   "metadata": {
    "collapsed": true
   },
   "outputs": [],
   "source": [
    "#Standardization\n",
    "from sklearn.preprocessing import StandardScaler\n",
    "X_std = StandardScaler().fit_transform(X)"
   ]
  },
  {
   "cell_type": "code",
   "execution_count": 19,
   "metadata": {
    "collapsed": false
   },
   "outputs": [
    {
     "data": {
      "text/plain": [
       "array([[ 2.08209341, -1.72499341,  4.1443789 ,  0.13070951],\n",
       "       [ 2.53961831, -1.72944417,  4.02510502,  0.14089822],\n",
       "       [ 1.18319901, -1.24080997,  3.67508955,  0.06341232],\n",
       "       ..., \n",
       "       [-1.46693953, -2.56968897, -1.28130945,  0.02365456],\n",
       "       [ 0.0727278 , -0.04000304, -0.28411344, -0.03919475],\n",
       "       [ 0.18459999,  0.5567998 , -0.37878253, -0.03200704]])"
      ]
     },
     "execution_count": 19,
     "metadata": {},
     "output_type": "execute_result"
    }
   ],
   "source": [
    "X_std"
   ]
  },
  {
   "cell_type": "code",
   "execution_count": 20,
   "metadata": {
    "collapsed": false
   },
   "outputs": [
    {
     "name": "stdout",
     "output_type": "stream",
     "text": [
      "Covariance matrix \n",
      "[[ 1.00020222 -0.63663469  0.61415715 -0.0019517 ]\n",
      " [-0.63663469  1.00020222 -0.50314101  0.0237246 ]\n",
      " [ 0.61415715 -0.50314101  1.00020222  0.01121106]\n",
      " [-0.0019517   0.0237246   0.01121106  1.00020222]]\n"
     ]
    }
   ],
   "source": [
    "#Covariance Matrix\n",
    "#Roughly speaking, the covariance of two features tells us how those random variables vary with respect to each other. \n",
    "#For example, if two variables tend to increase (or decrease) together, the covariance is positive; \n",
    "#the covariance is negative if one feature increases while the other decreases, respectively. \n",
    "#However, we have to be careful to not draw any conclusions from the magnitudes of the covariance values \n",
    "#at this point since they are not normalized, yet.\n",
    "#\n",
    "#Now, if we calculate the covariance between every feature pair, we will get the symmetric covariance matrix:\n",
    "\n",
    "\n",
    "import numpy as np\n",
    "mean_vec = np.mean(X_std, axis=0)\n",
    "cov_mat = (X_std - mean_vec).T.dot((X_std - mean_vec)) / (X_std.shape[0]-1)\n",
    "print 'Covariance matrix \\n%s' %cov_mat"
   ]
  },
  {
   "cell_type": "code",
   "execution_count": 21,
   "metadata": {
    "collapsed": false
   },
   "outputs": [
    {
     "name": "stdout",
     "output_type": "stream",
     "text": [
      "NumPy covariance matrix: \n",
      "[[ 1.00020222 -0.63663469  0.61415715 -0.0019517 ]\n",
      " [-0.63663469  1.00020222 -0.50314101  0.0237246 ]\n",
      " [ 0.61415715 -0.50314101  1.00020222  0.01121106]\n",
      " [-0.0019517   0.0237246   0.01121106  1.00020222]]\n"
     ]
    }
   ],
   "source": [
    "#Same As Above, simplified\n",
    "print 'NumPy covariance matrix: \\n%s' %np.cov(X_std.T)"
   ]
  },
  {
   "cell_type": "code",
   "execution_count": 22,
   "metadata": {
    "collapsed": false
   },
   "outputs": [
    {
     "name": "stdout",
     "output_type": "stream",
     "text": [
      "Eigenvectors \n",
      "[[ 0.60266076 -0.79578274  0.05883835  0.00823883]\n",
      " [-0.56835161 -0.47946993 -0.66786708  0.0322272 ]\n",
      " [ 0.56011182  0.36981944 -0.74038439  0.03659621]\n",
      " [-0.00715556  0.00848469  0.04819296  0.99877637]]\n",
      "\n",
      "Eigenvalues \n",
      "[ 2.17141336  0.33122832  0.49680479  1.00136242]\n"
     ]
    }
   ],
   "source": [
    "#Generate eigendecomposition on the covariance matrix:\n",
    "cov_mat = np.cov(X_std.T)\n",
    "\n",
    "eig_vals, eig_vecs = np.linalg.eig(cov_mat)\n",
    "\n",
    "print 'Eigenvectors \\n%s' %eig_vecs\n",
    "print '\\nEigenvalues \\n%s' %eig_vals"
   ]
  },
  {
   "cell_type": "code",
   "execution_count": 23,
   "metadata": {
    "collapsed": false
   },
   "outputs": [
    {
     "data": {
      "text/plain": [
       "array([[ 1.        , -0.63650597,  0.61403298, -0.0019513 ],\n",
       "       [-0.63650597,  1.        , -0.50303928,  0.0237198 ],\n",
       "       [ 0.61403298, -0.50303928,  1.        ,  0.0112088 ],\n",
       "       [-0.0019513 ,  0.0237198 ,  0.0112088 ,  1.        ]])"
      ]
     },
     "execution_count": 23,
     "metadata": {},
     "output_type": "execute_result"
    }
   ],
   "source": [
    "#Correlation Matrix\n",
    "cor_mat1 = np.corrcoef(X.T)\n",
    "cor_mat1"
   ]
  },
  {
   "cell_type": "code",
   "execution_count": 24,
   "metadata": {
    "collapsed": false
   },
   "outputs": [
    {
     "data": {
      "text/plain": [
       "array([[ 1.        , -0.63650597,  0.61403298, -0.0019513 ],\n",
       "       [-0.63650597,  1.        , -0.50303928,  0.0237198 ],\n",
       "       [ 0.61403298, -0.50303928,  1.        ,  0.0112088 ],\n",
       "       [-0.0019513 ,  0.0237198 ,  0.0112088 ,  1.        ]])"
      ]
     },
     "execution_count": 24,
     "metadata": {},
     "output_type": "execute_result"
    }
   ],
   "source": [
    "#Since the correlation matrix is a \"normalized version\" of the covariance matrix, \n",
    "#it is not affected by standardization of the features, which is demonstrated below:\n",
    "cor_mat2 = np.corrcoef(X_std.T)\n",
    "cor_mat2"
   ]
  },
  {
   "cell_type": "code",
   "execution_count": 25,
   "metadata": {
    "collapsed": false
   },
   "outputs": [
    {
     "name": "stdout",
     "output_type": "stream",
     "text": [
      "Eigenvectors \n",
      "[[ 0.60266076 -0.79578274  0.05883835  0.00823883]\n",
      " [-0.56835161 -0.47946993 -0.66786708  0.0322272 ]\n",
      " [ 0.56011182  0.36981944 -0.74038439  0.03659621]\n",
      " [-0.00715556  0.00848469  0.04819296  0.99877637]]\n",
      "\n",
      "Eigenvalues \n",
      "[ 2.17097434  0.33116136  0.49670434  1.00115997]\n"
     ]
    }
   ],
   "source": [
    "#Now, if we perform an eigendecomposition on the correlation matrix, \n",
    "#we expect and observe the same results as for the eigendecomposition of \n",
    "#the covariance matrix with standardized features earlier:\n",
    "\n",
    "eig_vals, eig_vecs = np.linalg.eig(cor_mat1)\n",
    "\n",
    "print 'Eigenvectors \\n%s' %eig_vecs \n",
    "print '\\nEigenvalues \\n%s' %eig_vals "
   ]
  },
  {
   "cell_type": "code",
   "execution_count": 26,
   "metadata": {
    "collapsed": false
   },
   "outputs": [
    {
     "data": {
      "text/plain": [
       "array([[-0.60266076,  0.00823883, -0.05883835,  0.79578274],\n",
       "       [ 0.56835161,  0.0322272 ,  0.66786708,  0.47946993],\n",
       "       [-0.56011182,  0.03659621,  0.74038439, -0.36981944],\n",
       "       [ 0.00715556,  0.99877637, -0.04819296, -0.00848469]])"
      ]
     },
     "execution_count": 26,
     "metadata": {},
     "output_type": "execute_result"
    }
   ],
   "source": [
    "#Singular Vector Decomposition\n",
    "#While the eigendecomposition of the covariance or correlation matrix may be more intuitiuve,\n",
    "#most PCA implementations perform a Singular Vector Decomposition (SVD) to improve the computational \n",
    "#efficiency. So, let us perform an SVD to confirm that the result are indeed the same:\n",
    "\n",
    "u,s,v = np.linalg.svd(X_std.T)\n",
    "u"
   ]
  },
  {
   "cell_type": "code",
   "execution_count": 27,
   "metadata": {
    "collapsed": false
   },
   "outputs": [
    {
     "name": "stdout",
     "output_type": "stream",
     "text": [
      "Everything ok!\n"
     ]
    }
   ],
   "source": [
    "#Sorting Eigenpairs\n",
    "#The typical goal of a PCA is to reduce the dimensionality of the original \n",
    "#feature space by projecting it onto a smaller subspace, where the eigenvectors \n",
    "#will form the axes. However, the eigenvectors only define the directions of the new axis, \n",
    "#since they have all the same unit length 1, which can confirmed by the following two lines of code:\n",
    "\n",
    "for ev in eig_vecs:\n",
    "    np.testing.assert_array_almost_equal(1.0, np.linalg.norm(ev))\n",
    "print 'Everything ok!'"
   ]
  },
  {
   "cell_type": "code",
   "execution_count": 28,
   "metadata": {
    "collapsed": false
   },
   "outputs": [
    {
     "name": "stdout",
     "output_type": "stream",
     "text": [
      "Eigenvalues in descending order:\n",
      "2.17097433694\n",
      "1.00115996519\n",
      "0.496704342456\n",
      "0.331161355414\n"
     ]
    }
   ],
   "source": [
    "#In order to decide which eigenvector(s) can dropped without losing too much \n",
    "#information for the construction of the lower-dimensional subspace, we need \n",
    "#to inspect the corresponding eigenvalues: The eigenvectors with the lowest \n",
    "#eigenvalues bear the least information about the distribution of the data; \n",
    "#those are the ones can be dropped.\n",
    "#In order to do so, the common approach is to rank the eigenvalues from highest \n",
    "#to lowest in order choose the top k eigenvectors.\n",
    "\n",
    "# Make a list of (eigenvalue, eigenvector) tuples\n",
    "eig_pairs = [(np.abs(eig_vals[i]), eig_vecs[:,i]) for i in range(len(eig_vals))]\n",
    "\n",
    "# Sort the (eigenvalue, eigenvector) tuples from high to low\n",
    "eig_pairs.sort()\n",
    "eig_pairs.reverse()\n",
    "\n",
    "# Visually confirm that the list is correctly sorted by decreasing eigenvalues\n",
    "print('Eigenvalues in descending order:')\n",
    "for i in eig_pairs:\n",
    "    print(i[0])"
   ]
  },
  {
   "cell_type": "code",
   "execution_count": 29,
   "metadata": {
    "collapsed": false
   },
   "outputs": [
    {
     "data": {
      "text/html": [
       "<iframe id=\"igraph\" scrolling=\"no\" style=\"border:none;\"seamless=\"seamless\" src=\"https://plot.ly/~Radek_BC/60.embed\" height=\"525px\" width=\"100%\"></iframe>"
      ],
      "text/plain": [
       "<plotly.tools.PlotlyDisplay object>"
      ]
     },
     "execution_count": 29,
     "metadata": {},
     "output_type": "execute_result"
    }
   ],
   "source": [
    "import plotly.plotly as py\n",
    "from plotly.graph_objs import *\n",
    "import plotly.tools as tls\n",
    "\n",
    "tot = sum(eig_vals)\n",
    "var_exp = [(i / tot)*100 for i in sorted(eig_vals, reverse=True)]\n",
    "cum_var_exp = np.cumsum(var_exp)\n",
    "\n",
    "trace1 = Bar(\n",
    "        x=['PC %s' %i for i in range(1,5)],\n",
    "        y=var_exp,\n",
    "        showlegend=False)\n",
    "\n",
    "trace2 = Scatter(\n",
    "        x=['PC %s' %i for i in range(1,5)],\n",
    "        y=cum_var_exp,\n",
    "        name='cumulative explained variance')\n",
    "\n",
    "data = Data([trace1, trace2])\n",
    "\n",
    "layout=Layout(\n",
    "        yaxis=YAxis(title='Explained variance in percent'),\n",
    "        title='Explained variance by different principal components')\n",
    "\n",
    "fig = Figure(data=data, layout=layout)\n",
    "py.iplot(fig)"
   ]
  },
  {
   "cell_type": "code",
   "execution_count": 30,
   "metadata": {
    "collapsed": false
   },
   "outputs": [
    {
     "name": "stdout",
     "output_type": "stream",
     "text": [
      "Matrix W:\n",
      "[[ 0.60266076  0.00823883]\n",
      " [-0.56835161  0.0322272 ]\n",
      " [ 0.56011182  0.03659621]\n",
      " [-0.00715556  0.99877637]]\n"
     ]
    }
   ],
   "source": [
    "#Projection Matrix\n",
    "\"\"\"\n",
    "It's about time to get to the really interesting part: The construction of \n",
    "the projection matrix that will be used to transform the Iris data onto the new \n",
    "feature subspace. Although, the name \"projection matrix\" has a nice ring to it, \n",
    "it is basically just a matrix of our concatenated top k eigenvectors.\n",
    "\n",
    "Here, we are reducing the 4-dimensional feature space to a 2-dimensional feature subspace, \n",
    "by choosing the \"top 2\" eigenvectors with the highest eigenvalues to construct our d×k-dimensional \n",
    "eigenvector matrix W.\n",
    "\"\"\"\n",
    "\n",
    "matrix_w = np.hstack((eig_pairs[0][1].reshape(4,1),\n",
    "                      eig_pairs[1][1].reshape(4,1)))\n",
    "\n",
    "print 'Matrix W:\\n', matrix_w"
   ]
  },
  {
   "cell_type": "code",
   "execution_count": 31,
   "metadata": {
    "collapsed": false
   },
   "outputs": [
    {
     "data": {
      "text/plain": [
       "array([[ 4.55557909,  0.24378043],\n",
       "       [ 4.76696138,  0.25321774],\n",
       "       [ 3.4762913 ,  0.16758941],\n",
       "       ..., \n",
       "       [-0.14142586, -0.1181652 ],\n",
       "       [-0.09228885, -0.05023425],\n",
       "       [-0.41713844, -0.0263649 ]])"
      ]
     },
     "execution_count": 31,
     "metadata": {},
     "output_type": "execute_result"
    }
   ],
   "source": [
    "#Projection Onto the New Feature Space\n",
    "\n",
    "#In this last step we will use the 4×2-dimensional projection matrix W \n",
    "#to transform our samples onto the new subspace via the equation Y=X×W, \n",
    "#where Y is a 150×2 matrix of our transformed samples.\n",
    "\n",
    "Y = X_std.dot(matrix_w)\n",
    "Y"
   ]
  },
  {
   "cell_type": "code",
   "execution_count": 36,
   "metadata": {
    "collapsed": false
   },
   "outputs": [
    {
     "data": {
      "text/html": [
       "<iframe id=\"igraph\" scrolling=\"no\" style=\"border:none;\"seamless=\"seamless\" src=\"https://plot.ly/~Radek_BC/66.embed\" height=\"525px\" width=\"100%\"></iframe>"
      ],
      "text/plain": [
       "<plotly.tools.PlotlyDisplay object>"
      ]
     },
     "execution_count": 36,
     "metadata": {},
     "output_type": "execute_result"
    }
   ],
   "source": [
    "traces = []\n",
    "\n",
    "list = combined['zip5'].values.tolist()\n",
    "list_short = list[0:200]\n",
    "list_short.append('90210')\n",
    "\n",
    "for name in tuple(list_short):\n",
    "\n",
    "    trace = Scatter(\n",
    "        x=Y[y==name,0],\n",
    "        y=Y[y==name,1],\n",
    "        mode='markers',\n",
    "        name=name,\n",
    "        marker=Marker(\n",
    "            size=12,\n",
    "            line=Line(\n",
    "                color='rgba(217, 217, 217, 0.14)',\n",
    "                width=0.5),\n",
    "            opacity=0.8))\n",
    "    traces.append(trace)\n",
    "\n",
    "\n",
    "data = Data(traces)\n",
    "layout = Layout(showlegend=True,\n",
    "                scene=Scene(xaxis=XAxis(title='PC1'),\n",
    "                yaxis=YAxis(title='PC2'),))\n",
    "\n",
    "fig = Figure(data=data, layout=layout)\n",
    "py.iplot(fig)"
   ]
  },
  {
   "cell_type": "code",
   "execution_count": 37,
   "metadata": {
    "collapsed": false
   },
   "outputs": [
    {
     "data": {
      "text/html": [
       "<iframe id=\"igraph\" scrolling=\"no\" style=\"border:none;\"seamless=\"seamless\" src=\"https://plot.ly/~Radek_BC/68.embed\" height=\"525px\" width=\"100%\"></iframe>"
      ],
      "text/plain": [
       "<plotly.tools.PlotlyDisplay object>"
      ]
     },
     "execution_count": 37,
     "metadata": {},
     "output_type": "execute_result"
    }
   ],
   "source": [
    "#Same PCA analysis using scikit-learn\n",
    "\n",
    "from sklearn.decomposition import PCA as sklearnPCA\n",
    "sklearn_pca = sklearnPCA(n_components=2)\n",
    "Y_sklearn = sklearn_pca.fit_transform(X_std)\n",
    "\n",
    "traces = []\n",
    "\n",
    "list = combined['zip5'].values.tolist()\n",
    "list_short = list[0:200]\n",
    "list_short.append('90210')\n",
    "\n",
    "for name in (list_short):\n",
    "\n",
    "    trace = Scatter(\n",
    "        x=Y_sklearn[y==name,0],\n",
    "        y=Y_sklearn[y==name,1],\n",
    "        mode='markers',\n",
    "        name=name,\n",
    "        marker=Marker(\n",
    "            size=12,\n",
    "            line=Line(\n",
    "                color='rgba(217, 217, 217, 0.14)',\n",
    "                width=0.5),\n",
    "            opacity=0.8))\n",
    "    traces.append(trace)\n",
    "\n",
    "\n",
    "data = Data(traces)\n",
    "layout = Layout(xaxis=XAxis(title='PC1', showline=False),\n",
    "                yaxis=YAxis(title='PC2', showline=False))\n",
    "fig = Figure(data=data, layout=layout)\n",
    "py.iplot(fig)"
   ]
  },
  {
   "cell_type": "code",
   "execution_count": null,
   "metadata": {
    "collapsed": true
   },
   "outputs": [],
   "source": []
  }
 ],
 "metadata": {
  "kernelspec": {
   "display_name": "Python 2",
   "language": "python",
   "name": "python2"
  },
  "language_info": {
   "codemirror_mode": {
    "name": "ipython",
    "version": 2
   },
   "file_extension": ".py",
   "mimetype": "text/x-python",
   "name": "python",
   "nbconvert_exporter": "python",
   "pygments_lexer": "ipython2",
   "version": "2.7.10"
  }
 },
 "nbformat": 4,
 "nbformat_minor": 0
}
